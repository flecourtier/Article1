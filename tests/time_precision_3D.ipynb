{
 "cells": [
  {
   "cell_type": "markdown",
   "metadata": {},
   "source": [
    "# Time / precision"
   ]
  },
  {
   "cell_type": "code",
   "execution_count": 1,
   "metadata": {},
   "outputs": [],
   "source": [
    "# sélection du cas test\n",
    "testcase = 1\n",
    "version = 1\n",
    "param_num = 1"
   ]
  },
  {
   "cell_type": "markdown",
   "metadata": {},
   "source": [
    "**Idée :** On se place ici dans un des cas tests proposés.\n",
    "\n",
    "On cherche à vérifier les convergences obtenues pour\n",
    "\n",
    "- FEM standard\n",
    "- le PINNs + Correction par addition\n",
    "\n",
    "On choisira d'effectuer ces convergences en P1,P2 et P3"
   ]
  },
  {
   "cell_type": "markdown",
   "metadata": {},
   "source": [
    "## Imports + Load"
   ]
  },
  {
   "cell_type": "code",
   "execution_count": 2,
   "metadata": {},
   "outputs": [],
   "source": [
    "%load_ext autoreload\n",
    "%autoreload 2"
   ]
  },
  {
   "cell_type": "code",
   "execution_count": 3,
   "metadata": {},
   "outputs": [
    {
     "name": "stderr",
     "output_type": "stream",
     "text": [
      "hwloc/linux: Ignoring PCI device with non-16bit domain.\n",
      "Pass --enable-32bits-pci-domain to configure to support such devices\n",
      "(warning: it would break the library ABI, don't enable unless really needed).\n"
     ]
    },
    {
     "data": {
      "text/plain": [
       "<Figure size 640x480 with 0 Axes>"
      ]
     },
     "metadata": {},
     "output_type": "display_data"
    }
   ],
   "source": [
    "import numpy as np\n",
    "import matplotlib.pyplot as plt\n",
    "import torch\n",
    "import pandas as pd\n",
    "import os\n",
    "import dolfin as df\n",
    "import time\n",
    "import seaborn as sns\n",
    "sns.set_theme(style=\"whitegrid\")\n",
    "sns.despine(left=True)\n",
    "import dataframe_image as dfi\n",
    "\n",
    "# from scimba.equations.domain import SpaceTensor\n",
    "# from scimba.equations import domain\n",
    "from modules.solver_fem_3D import FEMSolver\n",
    "from modules.utils import create_tree"
   ]
  },
  {
   "cell_type": "code",
   "execution_count": 4,
   "metadata": {},
   "outputs": [],
   "source": [
    "if testcase == 1:\n",
    "    # if version == 1:\n",
    "    #     from modules.testcases.test_1 import Run_laplacian2D,Poisson_2D\n",
    "    # elif version == 2:\n",
    "    #     from modules.testcases.test_1_v2 import Run_laplacian2D,Poisson_2D\n",
    "    # else:\n",
    "    #     raise ValueError(\"Version not found\")\n",
    "    from modules.problem_3D import TestCase1_3D\n",
    "    problem = TestCase1_3D()\n",
    "# elif testcase == 2:\n",
    "#     from modules.testcases.test_2 import Run_laplacian2D,Poisson_2D\n",
    "#     from modules.problem import TestCase2\n",
    "#     problem = TestCase2()\n",
    "else:\n",
    "    raise ValueError(\"Testcase not found\")\n",
    "\n",
    "result_dir = \"../results/testcase\"+str(testcase)+\"_3D\"\n",
    "if version != 1:\n",
    "    result_dir += \"_v\"+str(version)\n",
    "result_dir += \"/time_precision/\"\n",
    "create_tree(result_dir)"
   ]
  },
  {
   "cell_type": "code",
   "execution_count": 5,
   "metadata": {},
   "outputs": [],
   "source": [
    "# pde = Poisson_2D()\n",
    "# trainer,u_theta = Run_laplacian2D(pde)"
   ]
  },
  {
   "cell_type": "code",
   "execution_count": 6,
   "metadata": {},
   "outputs": [
    {
     "name": "stdout",
     "output_type": "stream",
     "text": [
      "[0.05 0.22 0.1 ]\n"
     ]
    }
   ],
   "source": [
    "def get_param(i):\n",
    "    params = problem.parameter_domain\n",
    "    # params = trainer.pde.parameter_domain.cpu().numpy()\n",
    "    # pick 1 random parameter\n",
    "    np.random.seed(0)\n",
    "    for j in range(i):\n",
    "        param = [np.random.uniform(params[0][0], params[0][1]), np.random.uniform(params[1][0], params[1][1]), np.random.uniform(params[2][0], params[2][1])]\n",
    "    param = np.round(param, 2)\n",
    "    return param\n",
    "\n",
    "param = get_param(param_num)\n",
    "print(param)\n",
    "params = [param]"
   ]
  },
  {
   "cell_type": "markdown",
   "metadata": {},
   "source": [
    "## Convergence FEM"
   ]
  },
  {
   "cell_type": "code",
   "execution_count": 8,
   "metadata": {},
   "outputs": [
    {
     "data": {
      "text/plain": [
       "<vedo.plotter.Plotter at 0x7df8aacb1d90>"
      ]
     },
     "execution_count": 8,
     "metadata": {},
     "output_type": "execute_result"
    }
   ],
   "source": [
    "import vedo\n",
    "vedo.settings.default_backend= 'vtk'\n",
    "vedo.Cone().show(axes=1).close()"
   ]
  },
  {
   "cell_type": "code",
   "execution_count": 15,
   "metadata": {},
   "outputs": [],
   "source": [
    "def read_csv(testcase,param_num,degree):\n",
    "    df_FEM = pd.read_csv(result_dir+f'FEM_case{testcase}_param{param_num}_degree{degree}.csv')\n",
    "    tab_nb_vert_FEM = list(df_FEM['nb_vert'].values)\n",
    "    tab_h_FEM = list(df_FEM['h'].values)\n",
    "    tab_err_FEM = list(df_FEM['err'].values)\n",
    "    tab_times_FEM = list(df_FEM['times'].values)\n",
    "    tab_subtimes_FEM = {}\n",
    "    for key in df_FEM.keys():\n",
    "        if key not in ['nb_vert', 'h', 'err', 'times']:\n",
    "            tab_subtimes_FEM[key] = list(df_FEM[key].values)\n",
    "    \n",
    "    return df_FEM, tab_nb_vert_FEM, tab_h_FEM, tab_err_FEM, tab_times_FEM, tab_subtimes_FEM\n",
    "\n",
    "def run_FEM(degree,new_run=False):\n",
    "    csv_file = result_dir+f'FEM_case{testcase}_param{param_num}_degree{degree}.csv'\n",
    "    if not new_run and os.path.exists(csv_file):\n",
    "        df_FEM, tab_nb_vert_FEM, tab_h_FEM, tab_err_FEM, tab_times_FEM, tab_subtimes_FEM = read_csv(testcase,param_num,degree)\n",
    "        print(f\"Read csv file {csv_file}\")\n",
    "    else:\n",
    "        tab_nb_vert_FEM = [20,40,80,120,160]\n",
    "        tab_h_FEM = []\n",
    "        tab_err_FEM = []\n",
    "        tab_times_FEM = []\n",
    "        tab_subtimes_FEM = {}\n",
    "\n",
    "        for nb_vert in tab_nb_vert_FEM:\n",
    "            solver = FEMSolver(nb_cell=nb_vert-1, params=params, problem=problem, degree=degree, high_degree=3)\n",
    "            \n",
    "            # mesh = solver.mesh\n",
    "            # dofs = mesh.coordinates()\n",
    "            # print(dofs.shape)\n",
    "            # # save to gmsh format\n",
    "            # np.savetxt(result_dir+f\"mesh_{nb_vert}.txt\", dofs)\n",
    "            \n",
    "            tab_h_FEM.append(solver.h)\n",
    "            sol,norme_L2 = solver.fem(0)\n",
    "            print(f\"nb_vert={nb_vert}, norme_L2={norme_L2}\")\n",
    "            \n",
    "            # from vedo.dolfin import plot as vplot\n",
    "            # vplot(sol, cmap='viridis', add=True, wireframe=True)\n",
    "            \n",
    "            tab_err_FEM.append(norme_L2)\n",
    "            times_FEM = solver.times_fem\n",
    "            for key in times_FEM:\n",
    "                if key in tab_subtimes_FEM:\n",
    "                    tab_subtimes_FEM[key].append(times_FEM[key])\n",
    "                else:\n",
    "                    tab_subtimes_FEM[key] = [times_FEM[key]]\n",
    "            total = sum(times_FEM.values())\n",
    "            print(f\"total time: {total}\")\n",
    "            tab_times_FEM.append(total)\n",
    "        \n",
    "        df_FEM = pd.DataFrame({'nb_vert': tab_nb_vert_FEM, 'h': tab_h_FEM, 'err': tab_err_FEM, 'times': tab_times_FEM, **tab_subtimes_FEM})\n",
    "        df_FEM.to_csv(csv_file, index=False)\n",
    "            \n",
    "    return df_FEM, tab_nb_vert_FEM, tab_h_FEM, tab_err_FEM, tab_times_FEM, tab_subtimes_FEM"
   ]
  },
  {
   "cell_type": "code",
   "execution_count": 16,
   "metadata": {},
   "outputs": [
    {
     "name": "stdout",
     "output_type": "stream",
     "text": [
      "Time to generate mesh:  0.0012650489807128906\n",
      "hmax =  0.28638937330014047\n",
      "Time to assemble the matrix :  28.42600655555725\n",
      "Time to solve the system : 0.08483195304870605\n",
      "nb_vert=20, norme_L2=0.06102681552055959\n",
      "total time: 28.51210355758667\n",
      "Time to generate mesh:  0.00906229019165039\n",
      "hmax =  0.13952302801801728\n",
      "Time to assemble the matrix :  243.09717631340027\n",
      "Time to solve the system : 5.008838653564453\n",
      "nb_vert=40, norme_L2=0.015011096133524474\n",
      "total time: 248.11507725715637\n",
      "Time to generate mesh:  0.06957817077636719\n",
      "hmax =  0.06887845686965484\n",
      "Time to assemble the matrix :  2063.586765050888\n",
      "\n",
      "UMFPACK V5.7.9 (Oct 20, 2019): ERROR: out of memory\n",
      "\n"
     ]
    },
    {
     "ename": "RuntimeError",
     "evalue": "\n\n*** -------------------------------------------------------------------------\n*** DOLFIN encountered an error. If you are not able to resolve this issue\n*** using the information listed below, you can ask for help at\n***\n***     fenics-support@googlegroups.com\n***\n*** Remember to include the error message listed below and, if possible,\n*** include a *minimal* running example to reproduce the error.\n***\n*** -------------------------------------------------------------------------\n*** Error:   Unable to successfully call PETSc function 'KSPSolve'.\n*** Reason:  PETSc error code is: 76 (Error in external library).\n*** Where:   This error was encountered inside /home/conda/feedstock_root/build_artifacts/fenics-pkgs_1696906541436/work/dolfin/dolfin/la/PETScKrylovSolver.cpp.\n*** Process: 0\n*** \n*** DOLFIN version: 2019.1.0\n*** Git changeset:  2e001bd1aae8e14d758264f77382245e6eed04b0\n*** -------------------------------------------------------------------------\n",
     "output_type": "error",
     "traceback": [
      "\u001b[0;31m---------------------------------------------------------------------------\u001b[0m",
      "\u001b[0;31mRuntimeError\u001b[0m                              Traceback (most recent call last)",
      "Cell \u001b[0;32mIn[16], line 2\u001b[0m\n\u001b[1;32m      1\u001b[0m degree \u001b[38;5;241m=\u001b[39m \u001b[38;5;241m1\u001b[39m\n\u001b[0;32m----> 2\u001b[0m df_FEM, tab_nb_vert_FEM, tab_h_FEM, tab_err_FEM, tab_times_FEM, tab_subtimes_FEM \u001b[38;5;241m=\u001b[39m \u001b[43mrun_FEM\u001b[49m\u001b[43m(\u001b[49m\u001b[43mdegree\u001b[49m\u001b[43m,\u001b[49m\u001b[43mnew_run\u001b[49m\u001b[38;5;241;43m=\u001b[39;49m\u001b[38;5;28;43;01mTrue\u001b[39;49;00m\u001b[43m)\u001b[49m\n",
      "Cell \u001b[0;32mIn[15], line 36\u001b[0m, in \u001b[0;36mrun_FEM\u001b[0;34m(degree, new_run)\u001b[0m\n\u001b[1;32m     29\u001b[0m \u001b[38;5;66;03m# mesh = solver.mesh\u001b[39;00m\n\u001b[1;32m     30\u001b[0m \u001b[38;5;66;03m# dofs = mesh.coordinates()\u001b[39;00m\n\u001b[1;32m     31\u001b[0m \u001b[38;5;66;03m# print(dofs.shape)\u001b[39;00m\n\u001b[1;32m     32\u001b[0m \u001b[38;5;66;03m# # save to gmsh format\u001b[39;00m\n\u001b[1;32m     33\u001b[0m \u001b[38;5;66;03m# np.savetxt(result_dir+f\"mesh_{nb_vert}.txt\", dofs)\u001b[39;00m\n\u001b[1;32m     35\u001b[0m tab_h_FEM\u001b[38;5;241m.\u001b[39mappend(solver\u001b[38;5;241m.\u001b[39mh)\n\u001b[0;32m---> 36\u001b[0m sol,norme_L2 \u001b[38;5;241m=\u001b[39m \u001b[43msolver\u001b[49m\u001b[38;5;241;43m.\u001b[39;49m\u001b[43mfem\u001b[49m\u001b[43m(\u001b[49m\u001b[38;5;241;43m0\u001b[39;49m\u001b[43m)\u001b[49m\n\u001b[1;32m     37\u001b[0m \u001b[38;5;28mprint\u001b[39m(\u001b[38;5;124mf\u001b[39m\u001b[38;5;124m\"\u001b[39m\u001b[38;5;124mnb_vert=\u001b[39m\u001b[38;5;132;01m{\u001b[39;00mnb_vert\u001b[38;5;132;01m}\u001b[39;00m\u001b[38;5;124m, norme_L2=\u001b[39m\u001b[38;5;132;01m{\u001b[39;00mnorme_L2\u001b[38;5;132;01m}\u001b[39;00m\u001b[38;5;124m\"\u001b[39m)\n\u001b[1;32m     39\u001b[0m \u001b[38;5;66;03m# from vedo.dolfin import plot as vplot\u001b[39;00m\n\u001b[1;32m     40\u001b[0m \u001b[38;5;66;03m# vplot(sol, cmap='viridis', add=True, wireframe=True)\u001b[39;00m\n",
      "File \u001b[0;32m~/Bureau/Article1/src/modules/solver_fem_3D.py:111\u001b[0m, in \u001b[0;36mFEMSolver.fem\u001b[0;34m(self, i)\u001b[0m\n\u001b[1;32m    108\u001b[0m sol \u001b[38;5;241m=\u001b[39m Function(\u001b[38;5;28mself\u001b[39m\u001b[38;5;241m.\u001b[39mV)\n\u001b[1;32m    110\u001b[0m start \u001b[38;5;241m=\u001b[39m time\u001b[38;5;241m.\u001b[39mtime()\n\u001b[0;32m--> 111\u001b[0m \u001b[43msolve\u001b[49m\u001b[43m(\u001b[49m\u001b[43mA\u001b[49m\u001b[43m,\u001b[49m\u001b[43msol\u001b[49m\u001b[38;5;241;43m.\u001b[39;49m\u001b[43mvector\u001b[49m\u001b[43m(\u001b[49m\u001b[43m)\u001b[49m\u001b[43m,\u001b[49m\u001b[43mL\u001b[49m\u001b[43m)\u001b[49m\n\u001b[1;32m    112\u001b[0m \u001b[38;5;66;03m# solve(a==l, sol, bcs=bc)\u001b[39;00m\n\u001b[1;32m    113\u001b[0m end \u001b[38;5;241m=\u001b[39m time\u001b[38;5;241m.\u001b[39mtime()\n",
      "File \u001b[0;32m~/anaconda3/envs/phifem_scimba_2/lib/python3.9/site-packages/dolfin/fem/solving.py:227\u001b[0m, in \u001b[0;36msolve\u001b[0;34m(*args, **kwargs)\u001b[0m\n\u001b[1;32m    224\u001b[0m \u001b[38;5;28;01mif\u001b[39;00m kwargs:\n\u001b[1;32m    225\u001b[0m     \u001b[38;5;28;01mraise\u001b[39;00m \u001b[38;5;167;01mRuntimeError\u001b[39;00m(\u001b[38;5;124m\"\u001b[39m\u001b[38;5;124mNot expecting keyword arguments when solving linear algebra problem.\u001b[39m\u001b[38;5;124m\"\u001b[39m)\n\u001b[0;32m--> 227\u001b[0m \u001b[38;5;28;01mreturn\u001b[39;00m \u001b[43mdolfin\u001b[49m\u001b[38;5;241;43m.\u001b[39;49m\u001b[43mla\u001b[49m\u001b[38;5;241;43m.\u001b[39;49m\u001b[43msolver\u001b[49m\u001b[38;5;241;43m.\u001b[39;49m\u001b[43msolve\u001b[49m\u001b[43m(\u001b[49m\u001b[38;5;241;43m*\u001b[39;49m\u001b[43margs\u001b[49m\u001b[43m)\u001b[49m\n",
      "File \u001b[0;32m~/anaconda3/envs/phifem_scimba_2/lib/python3.9/site-packages/dolfin/la/solver.py:72\u001b[0m, in \u001b[0;36msolve\u001b[0;34m(A, x, b, method, preconditioner)\u001b[0m\n\u001b[1;32m     27\u001b[0m \u001b[38;5;28;01mdef\u001b[39;00m \u001b[38;5;21msolve\u001b[39m(A, x, b, method\u001b[38;5;241m=\u001b[39m\u001b[38;5;124m\"\u001b[39m\u001b[38;5;124mdefault\u001b[39m\u001b[38;5;124m\"\u001b[39m, preconditioner\u001b[38;5;241m=\u001b[39m\u001b[38;5;124m\"\u001b[39m\u001b[38;5;124mdefault\u001b[39m\u001b[38;5;124m\"\u001b[39m):\n\u001b[1;32m     28\u001b[0m \u001b[38;5;250m    \u001b[39m\u001b[38;5;124;03m\"\"\"Solve linear system Ax = b.\u001b[39;00m\n\u001b[1;32m     29\u001b[0m \n\u001b[1;32m     30\u001b[0m \u001b[38;5;124;03m    A linear system Ax = b may be solved by calling solve(A, x, b),\u001b[39;00m\n\u001b[0;32m   (...)\u001b[0m\n\u001b[1;32m     69\u001b[0m \n\u001b[1;32m     70\u001b[0m \u001b[38;5;124;03m    \"\"\"\u001b[39;00m\n\u001b[0;32m---> 72\u001b[0m     \u001b[38;5;28;01mreturn\u001b[39;00m \u001b[43mcpp\u001b[49m\u001b[38;5;241;43m.\u001b[39;49m\u001b[43mla\u001b[49m\u001b[38;5;241;43m.\u001b[39;49m\u001b[43msolve\u001b[49m\u001b[43m(\u001b[49m\u001b[43mA\u001b[49m\u001b[43m,\u001b[49m\u001b[43m \u001b[49m\u001b[43mx\u001b[49m\u001b[43m,\u001b[49m\u001b[43m \u001b[49m\u001b[43mb\u001b[49m\u001b[43m,\u001b[49m\u001b[43m \u001b[49m\u001b[43mmethod\u001b[49m\u001b[43m,\u001b[49m\u001b[43m \u001b[49m\u001b[43mpreconditioner\u001b[49m\u001b[43m)\u001b[49m\n",
      "\u001b[0;31mRuntimeError\u001b[0m: \n\n*** -------------------------------------------------------------------------\n*** DOLFIN encountered an error. If you are not able to resolve this issue\n*** using the information listed below, you can ask for help at\n***\n***     fenics-support@googlegroups.com\n***\n*** Remember to include the error message listed below and, if possible,\n*** include a *minimal* running example to reproduce the error.\n***\n*** -------------------------------------------------------------------------\n*** Error:   Unable to successfully call PETSc function 'KSPSolve'.\n*** Reason:  PETSc error code is: 76 (Error in external library).\n*** Where:   This error was encountered inside /home/conda/feedstock_root/build_artifacts/fenics-pkgs_1696906541436/work/dolfin/dolfin/la/PETScKrylovSolver.cpp.\n*** Process: 0\n*** \n*** DOLFIN version: 2019.1.0\n*** Git changeset:  2e001bd1aae8e14d758264f77382245e6eed04b0\n*** -------------------------------------------------------------------------\n"
     ]
    }
   ],
   "source": [
    "degree = 1\n",
    "df_FEM, tab_nb_vert_FEM, tab_h_FEM, tab_err_FEM, tab_times_FEM, tab_subtimes_FEM = run_FEM(degree,new_run=True)"
   ]
  },
  {
   "cell_type": "code",
   "execution_count": null,
   "metadata": {},
   "outputs": [],
   "source": []
  },
  {
   "cell_type": "markdown",
   "metadata": {},
   "source": [
    "## Convergence PINNs+Corr"
   ]
  },
  {
   "cell_type": "code",
   "execution_count": 9,
   "metadata": {},
   "outputs": [],
   "source": [
    "def get_test_sample(solver,trainer,deg_PINNs):\n",
    "    # get coordinates of the dof\n",
    "    V_test = df.FunctionSpace(solver.mesh,\"CG\",deg_PINNs)\n",
    "    XXYY = V_test.tabulate_dof_coordinates()\n",
    "    X_test = torch.tensor(XXYY,requires_grad=True)\n",
    "    X_test = SpaceTensor(X_test,torch.zeros_like(X_test,dtype=int))\n",
    "\n",
    "    # get parameters\n",
    "    nb_params = len(trainer.pde.parameter_domain)\n",
    "    shape = (XXYY.shape[0],nb_params)\n",
    "    if shape[1] == 0:\n",
    "        mu_test = torch.zeros(shape)\n",
    "    else:\n",
    "        ones = torch.ones(shape)\n",
    "        mu_test = (torch.mean(trainer.pde.parameter_domain, axis=1) * ones)#.to(device)\n",
    "\n",
    "    return V_test,X_test,mu_test"
   ]
  },
  {
   "cell_type": "code",
   "execution_count": 10,
   "metadata": {},
   "outputs": [],
   "source": [
    "degree_PINNs = 10\n",
    "\n",
    "def read_csv_Corr(testcase,param_num,degree):\n",
    "    df_Corr = pd.read_csv(result_dir+f'Corr_case{testcase}_param{param_num}_degree{degree}.csv')\n",
    "    tab_nb_vert_Corr = list(df_Corr['nb_vert'].values)\n",
    "    tab_h_Corr = list(df_Corr['h'].values)\n",
    "    tab_err_Corr = list(df_Corr['err'].values)\n",
    "    tab_times_Corr = list(df_Corr['times'].values)\n",
    "    tab_subtimes_Corr = {}\n",
    "    for key in df_Corr.keys():\n",
    "        if key not in ['nb_vert', 'h', 'err', 'times']:\n",
    "            tab_subtimes_Corr[key] = list(df_Corr[key].values)\n",
    "    \n",
    "    return df_Corr,tab_nb_vert_Corr, tab_h_Corr, tab_err_Corr, tab_times_Corr, tab_subtimes_Corr\n",
    "\n",
    "def run_Corr(degree,new_run=False):\n",
    "    csv_file = result_dir+f'Corr_case{testcase}_param{param_num}_degree{degree}.csv'\n",
    "    if not new_run and os.path.exists(csv_file):\n",
    "        df_Corr,tab_nb_vert_Corr, tab_h_Corr, tab_err_Corr, tab_times_Corr, tab_subtimes_Corr = read_csv_Corr(testcase,param_num,degree)\n",
    "        print(f\"Read csv file {csv_file}\")\n",
    "    else:\n",
    "        tab_nb_vert_Corr = [5*i for i in range(2,7)]\n",
    "        tab_h_Corr = []\n",
    "        tab_err_Corr = []\n",
    "        tab_times_Corr = []\n",
    "        tab_subtimes_Corr = {}\n",
    "\n",
    "        for nb_vert in tab_nb_vert_Corr:\n",
    "            solver = FEMSolver(nb_cell=nb_vert-1, params=params, problem=problem, degree=degree)\n",
    "            tab_h_Corr.append(solver.h)\n",
    "            \n",
    "            start = time.time()\n",
    "            V_test,X_test,mu_test = get_test_sample(solver,trainer,degree_PINNs)\n",
    "            pred = u_theta.setup_w_dict(X_test, mu_test)\n",
    "            phi_tild = pred[\"w\"][:,0].cpu().detach().numpy()\n",
    "            \n",
    "            u_PINNs = df.Function(V_test)\n",
    "            u_PINNs.vector()[:] = phi_tild.copy()\n",
    "            end = time.time()\n",
    "            \n",
    "            time_get_u_PINNs = end - start\n",
    "            \n",
    "            _,_,norme_L2 = solver.corr_add(0,u_PINNs)\n",
    "            print(f\"nb_vert={nb_vert}, norme_L2={norme_L2}\")\n",
    "            tab_err_Corr.append(norme_L2)\n",
    "            times_Corr = solver.times_corr_add\n",
    "            times_Corr[\"get_u_PINNs\"] = time_get_u_PINNs\n",
    "            for key in times_Corr:\n",
    "                if key in tab_subtimes_Corr:\n",
    "                    tab_subtimes_Corr[key].append(times_Corr[key])\n",
    "                else:\n",
    "                    tab_subtimes_Corr[key] = [times_Corr[key]]\n",
    "            tab_times_Corr.append(sum(times_Corr.values()))\n",
    "            \n",
    "            \n",
    "        df_Corr = pd.DataFrame({'nb_vert': tab_nb_vert_Corr, 'h': tab_h_Corr, 'err': tab_err_Corr, 'times': tab_times_Corr, **tab_subtimes_Corr})\n",
    "        df_Corr.to_csv(csv_file, index=False)\n",
    "            \n",
    "    return df_Corr,tab_nb_vert_Corr, tab_h_Corr, tab_err_Corr, tab_times_Corr, tab_subtimes_Corr"
   ]
  },
  {
   "cell_type": "code",
   "execution_count": 11,
   "metadata": {},
   "outputs": [
    {
     "name": "stdout",
     "output_type": "stream",
     "text": [
      "Read csv file ../results/testcase1/time_precision/Corr_case1_param1_degree1.csv\n"
     ]
    }
   ],
   "source": [
    "degree = 1\n",
    "df_Corr, tab_nb_vert_Corr, tab_h_Corr, tab_err_Corr, tab_times_Corr, tab_subtimes_Corr = run_Corr(degree)"
   ]
  },
  {
   "cell_type": "code",
   "execution_count": 12,
   "metadata": {},
   "outputs": [
    {
     "data": {
      "text/html": [
       "<div>\n",
       "<style scoped>\n",
       "    .dataframe tbody tr th:only-of-type {\n",
       "        vertical-align: middle;\n",
       "    }\n",
       "\n",
       "    .dataframe tbody tr th {\n",
       "        vertical-align: top;\n",
       "    }\n",
       "\n",
       "    .dataframe thead th {\n",
       "        text-align: right;\n",
       "    }\n",
       "</style>\n",
       "<table border=\"1\" class=\"dataframe\">\n",
       "  <thead>\n",
       "    <tr style=\"text-align: right;\">\n",
       "      <th></th>\n",
       "      <th>nb_vert</th>\n",
       "      <th>h</th>\n",
       "      <th>err</th>\n",
       "      <th>times</th>\n",
       "      <th>mesh</th>\n",
       "      <th>assemble</th>\n",
       "      <th>solve</th>\n",
       "      <th>get_u_PINNs</th>\n",
       "    </tr>\n",
       "  </thead>\n",
       "  <tbody>\n",
       "    <tr>\n",
       "      <th>0</th>\n",
       "      <td>10</td>\n",
       "      <td>0.493654</td>\n",
       "      <td>0.026173</td>\n",
       "      <td>0.159113</td>\n",
       "      <td>0.000065</td>\n",
       "      <td>0.134438</td>\n",
       "      <td>0.000341</td>\n",
       "      <td>0.024270</td>\n",
       "    </tr>\n",
       "    <tr>\n",
       "      <th>1</th>\n",
       "      <td>15</td>\n",
       "      <td>0.317349</td>\n",
       "      <td>0.011802</td>\n",
       "      <td>0.357692</td>\n",
       "      <td>0.000044</td>\n",
       "      <td>0.328977</td>\n",
       "      <td>0.000514</td>\n",
       "      <td>0.028158</td>\n",
       "    </tr>\n",
       "    <tr>\n",
       "      <th>2</th>\n",
       "      <td>20</td>\n",
       "      <td>0.233836</td>\n",
       "      <td>0.006597</td>\n",
       "      <td>0.679396</td>\n",
       "      <td>0.000043</td>\n",
       "      <td>0.626872</td>\n",
       "      <td>0.000714</td>\n",
       "      <td>0.051766</td>\n",
       "    </tr>\n",
       "    <tr>\n",
       "      <th>3</th>\n",
       "      <td>25</td>\n",
       "      <td>0.185120</td>\n",
       "      <td>0.004189</td>\n",
       "      <td>1.054540</td>\n",
       "      <td>0.000056</td>\n",
       "      <td>0.965378</td>\n",
       "      <td>0.000976</td>\n",
       "      <td>0.088130</td>\n",
       "    </tr>\n",
       "    <tr>\n",
       "      <th>4</th>\n",
       "      <td>30</td>\n",
       "      <td>0.153203</td>\n",
       "      <td>0.002889</td>\n",
       "      <td>1.519284</td>\n",
       "      <td>0.000070</td>\n",
       "      <td>1.394029</td>\n",
       "      <td>0.001635</td>\n",
       "      <td>0.123550</td>\n",
       "    </tr>\n",
       "  </tbody>\n",
       "</table>\n",
       "</div>"
      ],
      "text/plain": [
       "   nb_vert         h       err     times      mesh  assemble     solve  \\\n",
       "0       10  0.493654  0.026173  0.159113  0.000065  0.134438  0.000341   \n",
       "1       15  0.317349  0.011802  0.357692  0.000044  0.328977  0.000514   \n",
       "2       20  0.233836  0.006597  0.679396  0.000043  0.626872  0.000714   \n",
       "3       25  0.185120  0.004189  1.054540  0.000056  0.965378  0.000976   \n",
       "4       30  0.153203  0.002889  1.519284  0.000070  1.394029  0.001635   \n",
       "\n",
       "   get_u_PINNs  \n",
       "0     0.024270  \n",
       "1     0.028158  \n",
       "2     0.051766  \n",
       "3     0.088130  \n",
       "4     0.123550  "
      ]
     },
     "execution_count": 12,
     "metadata": {},
     "output_type": "execute_result"
    }
   ],
   "source": [
    "df_Corr"
   ]
  },
  {
   "cell_type": "markdown",
   "metadata": {},
   "source": [
    "## Plots"
   ]
  },
  {
   "cell_type": "code",
   "execution_count": 13,
   "metadata": {},
   "outputs": [
    {
     "name": "stdout",
     "output_type": "stream",
     "text": [
      "subtimes FEM :  {'mesh': [0.0010898113250732422], 'assemble': [31.562018156051636], 'solve': [0.11896562576293945]}\n",
      "times FEM :  [31.68207359313965]\n"
     ]
    }
   ],
   "source": [
    "print(\"subtimes FEM : \", tab_subtimes_FEM)\n",
    "print(\"times FEM : \", tab_times_FEM)\n",
    "# print(\"subtimes Corr : \", tab_subtimes_Corr)"
   ]
  },
  {
   "cell_type": "code",
   "execution_count": 14,
   "metadata": {},
   "outputs": [
    {
     "data": {
      "image/png": "[encoded data removed]",
      "text/plain": [
       "<Figure size 640x480 with 1 Axes>"
      ]
     },
     "metadata": {},
     "output_type": "display_data"
    }
   ],
   "source": [
    "colors = [\"tab:blue\",\"tab:red\",\"tab:cyan\",\"tab:orange\"]\n",
    "\n",
    "plt.figure()\n",
    "\n",
    "def plot_values(times,norms,color,label):\n",
    "    plt.loglog(times,norms,\"+-\",color=color,label=label,markersize=10,markeredgewidth=2)\n",
    "\n",
    "plot_values(tab_times_FEM,tab_err_FEM,colors[0],\"FEM\")\n",
    "# plot_values(times_phifem,norms_phifem,colors[1],\"PHIFEM\")\n",
    "\n",
    "# plot_values(tab_times_Corr,tab_err_Corr,colors[2],\"Additive\")\n",
    "# plot_values(times_corr_add_phifem,norms_corr_add_phifem,colors[3],\"Corr_add_PHIFEM\")\n",
    "\n",
    "plt.xlabel(\"Time\")\n",
    "plt.ylabel(\"L2 norm\")\n",
    "\n",
    "plt.legend()\n",
    "plt.title(f'case{testcase} param{param_num} : {param}')\n",
    "plt.savefig(result_dir+f\"time_precision_param{param_num}_degree{degree}.png\")"
   ]
  },
  {
   "cell_type": "markdown",
   "metadata": {},
   "source": [
    "## Tableau"
   ]
  },
  {
   "cell_type": "code",
   "execution_count": 20,
   "metadata": {},
   "outputs": [],
   "source": [
    "tab_subtimes_FEM[\"get_u_PINNs\"] = None\n",
    "methods = [\"FEM\",\"Corr_FEM\"]\n",
    "steps = [\"mesh\",\"get_u_PINNs\",\"assemble\",\"solve\",\"TOTAL\"]\n",
    "\n",
    "norms = {\"FEM\":tab_err_FEM,\"Corr_FEM\":tab_err_Corr}\n",
    "subtimes = {\"FEM\":tab_subtimes_FEM,\"Corr_FEM\":tab_subtimes_Corr}\n",
    "times = {\"FEM\":tab_times_FEM,\"Corr_FEM\":tab_times_Corr}\n",
    "\n",
    "for method in methods:\n",
    "    subtimes[method][\"TOTAL\"] = times[method]\n",
    "\n",
    "###\n",
    "# Interpolation\n",
    "###\n",
    "\n",
    "def get_index(norms,given_precision):\n",
    "    norms = np.array(norms)\n",
    "    if given_precision < norms[-1]:\n",
    "        index = len(norms)-1\n",
    "    elif given_precision > norms[0]:\n",
    "        index = 0\n",
    "    else:           \n",
    "        index = np.where(norms < given_precision)[0][0]\n",
    "    \n",
    "    return index\n",
    "\n",
    "def linear_interpolation(norms,times,index):\n",
    "    norms = np.array(norms)\n",
    "    times = np.array(times)\n",
    "    \n",
    "    norm = norms[index-1:index+1]\n",
    "    time = times[index-1:index+1]\n",
    "\n",
    "    t_inter = time[0]+(time[1]-time[0])/(norm[1]-norm[0])*(given_precision-norm[0])\n",
    "    \n",
    "    return t_inter\n",
    "\n",
    "def get_time(given_precision):\n",
    "    times_inter = {}\n",
    "    for method in methods:\n",
    "        times_inter[method] = {}\n",
    "        for key in steps:\n",
    "            if not subtimes[method][key] is None:\n",
    "                index = get_index(norms[method],given_precision)\n",
    "                t_inter = linear_interpolation(norms[method],subtimes[method][key],index)\n",
    "                times_inter[method][key] = t_inter\n",
    "            else:\n",
    "                times_inter[method][key] = None\n",
    "    return times_inter"
   ]
  },
  {
   "cell_type": "code",
   "execution_count": 23,
   "metadata": {},
   "outputs": [
    {
     "data": {
      "text/html": [
       "<div>\n",
       "<style scoped>\n",
       "    .dataframe tbody tr th:only-of-type {\n",
       "        vertical-align: middle;\n",
       "    }\n",
       "\n",
       "    .dataframe tbody tr th {\n",
       "        vertical-align: top;\n",
       "    }\n",
       "\n",
       "    .dataframe thead th {\n",
       "        text-align: right;\n",
       "    }\n",
       "</style>\n",
       "<table border=\"1\" class=\"dataframe\">\n",
       "  <thead>\n",
       "    <tr style=\"text-align: right;\">\n",
       "      <th></th>\n",
       "      <th>mesh</th>\n",
       "      <th>get_u_PINNs</th>\n",
       "      <th>assemble</th>\n",
       "      <th>solve</th>\n",
       "      <th>TOTAL</th>\n",
       "    </tr>\n",
       "  </thead>\n",
       "  <tbody>\n",
       "    <tr>\n",
       "      <th>FEM</th>\n",
       "      <td>0.000754</td>\n",
       "      <td>NaN</td>\n",
       "      <td>25.886933</td>\n",
       "      <td>0.040524</td>\n",
       "      <td>25.928211</td>\n",
       "    </tr>\n",
       "    <tr>\n",
       "      <th>Corr_FEM</th>\n",
       "      <td>0.000091</td>\n",
       "      <td>0.175033</td>\n",
       "      <td>2.017048</td>\n",
       "      <td>0.002593</td>\n",
       "      <td>2.194764</td>\n",
       "    </tr>\n",
       "  </tbody>\n",
       "</table>\n",
       "</div>"
      ],
      "text/plain": [
       "              mesh  get_u_PINNs   assemble     solve      TOTAL\n",
       "FEM       0.000754          NaN  25.886933  0.040524  25.928211\n",
       "Corr_FEM  0.000091     0.175033   2.017048  0.002593   2.194764"
      ]
     },
     "execution_count": 23,
     "metadata": {},
     "output_type": "execute_result"
    }
   ],
   "source": [
    "given_precision = 1e-3\n",
    "times_inter = get_time(given_precision)\n",
    "# Create a dataframe with the times interpolated\n",
    "df_given_precision = pd.DataFrame.from_dict(times_inter).T\n",
    "# réorganiser lignes et colonnes par clés\n",
    "df_given_precision = df_given_precision.reindex(methods)\n",
    "df_given_precision = df_given_precision[steps]\n",
    "# Create an excel file with the times\n",
    "\n",
    "df_given_precision"
   ]
  },
  {
   "cell_type": "code",
   "execution_count": 24,
   "metadata": {},
   "outputs": [],
   "source": [
    "pre = int(np.log10(given_precision))\n",
    "result_file = result_dir+f'times_table_param{param_num}_degree{degree}_1e{pre}'\n",
    "\n",
    "df_given_precision.to_excel(result_file+'.xlsx')\n",
    "\n",
    "df_styled = df_given_precision.style.format(\"{:.2e}\")\n",
    "dfi.export(df_styled,result_file+\".png\",dpi=1000)"
   ]
  },
  {
   "cell_type": "code",
   "execution_count": 25,
   "metadata": {},
   "outputs": [
    {
     "data": {
      "text/html": [
       "<div>\n",
       "<style scoped>\n",
       "    .dataframe tbody tr th:only-of-type {\n",
       "        vertical-align: middle;\n",
       "    }\n",
       "\n",
       "    .dataframe tbody tr th {\n",
       "        vertical-align: top;\n",
       "    }\n",
       "\n",
       "    .dataframe thead th {\n",
       "        text-align: right;\n",
       "    }\n",
       "</style>\n",
       "<table border=\"1\" class=\"dataframe\">\n",
       "  <thead>\n",
       "    <tr style=\"text-align: right;\">\n",
       "      <th></th>\n",
       "      <th>mesh</th>\n",
       "      <th>get_u_PINNs</th>\n",
       "      <th>assemble</th>\n",
       "      <th>solve</th>\n",
       "      <th>TOTAL</th>\n",
       "    </tr>\n",
       "  </thead>\n",
       "  <tbody>\n",
       "    <tr>\n",
       "      <th>FEM</th>\n",
       "      <td>0.000950</td>\n",
       "      <td>NaN</td>\n",
       "      <td>32.818683</td>\n",
       "      <td>0.051104</td>\n",
       "      <td>32.870737</td>\n",
       "    </tr>\n",
       "    <tr>\n",
       "      <th>Corr_FEM</th>\n",
       "      <td>0.000101</td>\n",
       "      <td>0.199555</td>\n",
       "      <td>2.313812</td>\n",
       "      <td>0.003049</td>\n",
       "      <td>2.516516</td>\n",
       "    </tr>\n",
       "  </tbody>\n",
       "</table>\n",
       "</div>"
      ],
      "text/plain": [
       "              mesh  get_u_PINNs   assemble     solve      TOTAL\n",
       "FEM       0.000950          NaN  32.818683  0.051104  32.870737\n",
       "Corr_FEM  0.000101     0.199555   2.313812  0.003049   2.516516"
      ]
     },
     "execution_count": 25,
     "metadata": {},
     "output_type": "execute_result"
    }
   ],
   "source": [
    "given_precision = 1e-4\n",
    "times_inter = get_time(given_precision)\n",
    "# Create a dataframe with the times interpolated\n",
    "df_given_precision = pd.DataFrame.from_dict(times_inter).T\n",
    "# réorganiser lignes et colonnes par clés\n",
    "df_given_precision = df_given_precision.reindex(methods)\n",
    "df_given_precision = df_given_precision[steps]\n",
    "# Create an excel file with the times\n",
    "\n",
    "df_given_precision"
   ]
  },
  {
   "cell_type": "code",
   "execution_count": 26,
   "metadata": {},
   "outputs": [],
   "source": [
    "pre = int(np.log10(given_precision))\n",
    "result_file = result_dir+f'times_table_param{param_num}_degree{degree}_1e{pre}'\n",
    "\n",
    "df_given_precision.to_excel(result_file+'.xlsx')\n",
    "\n",
    "df_styled = df_given_precision.style.format(\"{:.2e}\")\n",
    "dfi.export(df_styled,result_file+\".png\",dpi=1000)"
   ]
  },
  {
   "cell_type": "code",
   "execution_count": null,
   "metadata": {},
   "outputs": [],
   "source": []
  }
 ],
 "metadata": {
  "kernelspec": {
   "display_name": "phifem_scimba_2",
   "language": "python",
   "name": "python3"
  },
  "language_info": {
   "codemirror_mode": {
    "name": "ipython",
    "version": 3
   },
   "file_extension": ".py",
   "mimetype": "text/x-python",
   "name": "python",
   "nbconvert_exporter": "python",
   "pygments_lexer": "ipython3",
   "version": "3.9.16"
  }
 },
 "nbformat": 4,
 "nbformat_minor": 2
}
