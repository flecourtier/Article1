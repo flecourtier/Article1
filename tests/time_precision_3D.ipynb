{
 "cells": [
  {
   "cell_type": "markdown",
   "metadata": {},
   "source": [
    "# Time / precision"
   ]
  },
  {
   "cell_type": "code",
   "execution_count": 1,
   "metadata": {},
   "outputs": [],
   "source": [
    "# sélection du cas test\n",
    "testcase = 1\n",
    "version = 1\n",
    "param_num = 1"
   ]
  },
  {
   "cell_type": "markdown",
   "metadata": {},
   "source": [
    "**Idée :** On se place ici dans un des cas tests proposés.\n",
    "\n",
    "On cherche à vérifier les convergences obtenues pour\n",
    "\n",
    "- FEM standard\n",
    "- le PINNs + Correction par addition\n",
    "\n",
    "On choisira d'effectuer ces convergences en P1,P2 et P3"
   ]
  },
  {
   "cell_type": "markdown",
   "metadata": {},
   "source": [
    "## Imports + Load"
   ]
  },
  {
   "cell_type": "code",
   "execution_count": 2,
   "metadata": {},
   "outputs": [],
   "source": [
    "%load_ext autoreload\n",
    "%autoreload 2"
   ]
  },
  {
   "cell_type": "code",
   "execution_count": 3,
   "metadata": {},
   "outputs": [
    {
     "name": "stderr",
     "output_type": "stream",
     "text": [
      "/home/u2/lecourtier/miniconda3/envs/test_phifem/lib/python3.9/site-packages/pandas/core/computation/expressions.py:21: UserWarning: Pandas requires version '2.8.4' or newer of 'numexpr' (version '2.8.3' currently installed).\n",
      "  from pandas.core.computation.check import NUMEXPR_INSTALLED\n"
     ]
    },
    {
     "data": {
      "text/plain": [
       "<Figure size 640x480 with 0 Axes>"
      ]
     },
     "metadata": {},
     "output_type": "display_data"
    }
   ],
   "source": [
    "import numpy as np\n",
    "import matplotlib.pyplot as plt\n",
    "import torch\n",
    "import pandas as pd\n",
    "import os\n",
    "import dolfin as df\n",
    "import time\n",
    "import seaborn as sns\n",
    "sns.set_theme(style=\"whitegrid\")\n",
    "sns.despine(left=True)\n",
    "import dataframe_image as dfi\n",
    "\n",
    "# from scimba.equations.domain import SpaceTensor\n",
    "# from scimba.equations import domain\n",
    "from modules.solver_fem_3D import FEMSolver\n",
    "from modules.utils import create_tree"
   ]
  },
  {
   "cell_type": "code",
   "execution_count": 4,
   "metadata": {},
   "outputs": [],
   "source": [
    "if testcase == 1:\n",
    "    # if version == 1:\n",
    "    #     from modules.testcases.test_1 import Run_laplacian2D,Poisson_2D\n",
    "    # elif version == 2:\n",
    "    #     from modules.testcases.test_1_v2 import Run_laplacian2D,Poisson_2D\n",
    "    # else:\n",
    "    #     raise ValueError(\"Version not found\")\n",
    "    from modules.problem_3D import TestCase1_3D\n",
    "    problem = TestCase1_3D()\n",
    "# elif testcase == 2:\n",
    "#     from modules.testcases.test_2 import Run_laplacian2D,Poisson_2D\n",
    "#     from modules.problem import TestCase2\n",
    "#     problem = TestCase2()\n",
    "else:\n",
    "    raise ValueError(\"Testcase not found\")\n",
    "\n",
    "result_dir = \"../results/testcase\"+str(testcase)+\"_3D\"\n",
    "if version != 1:\n",
    "    result_dir += \"_v\"+str(version)\n",
    "result_dir += \"/time_precision/\"\n",
    "create_tree(result_dir)"
   ]
  },
  {
   "cell_type": "code",
   "execution_count": 5,
   "metadata": {},
   "outputs": [],
   "source": [
    "# pde = Poisson_2D()\n",
    "# trainer,u_theta = Run_laplacian2D(pde)"
   ]
  },
  {
   "cell_type": "code",
   "execution_count": 6,
   "metadata": {},
   "outputs": [
    {
     "name": "stdout",
     "output_type": "stream",
     "text": [
      "[0.05 0.22 0.1 ]\n"
     ]
    }
   ],
   "source": [
    "def get_param(i):\n",
    "    params = problem.parameter_domain\n",
    "    # params = trainer.pde.parameter_domain.cpu().numpy()\n",
    "    # pick 1 random parameter\n",
    "    np.random.seed(0)\n",
    "    for j in range(i):\n",
    "        param = [np.random.uniform(params[0][0], params[0][1]), np.random.uniform(params[1][0], params[1][1]), np.random.uniform(params[2][0], params[2][1])]\n",
    "    param = np.round(param, 2)\n",
    "    return param\n",
    "\n",
    "param = get_param(param_num)\n",
    "print(param)\n",
    "params = [param]"
   ]
  },
  {
   "cell_type": "markdown",
   "metadata": {},
   "source": [
    "## Convergence FEM"
   ]
  },
  {
   "cell_type": "code",
   "execution_count": 7,
   "metadata": {},
   "outputs": [],
   "source": [
    "# import vedo\n",
    "# vedo.settings.default_backend= 'vtk'\n",
    "# vedo.Cone().show(axes=1).close()"
   ]
  },
  {
   "cell_type": "code",
   "execution_count": 9,
   "metadata": {},
   "outputs": [],
   "source": [
    "def read_csv(testcase,param_num,degree):\n",
    "    df_FEM = pd.read_csv(result_dir+f'FEM_case{testcase}_param{param_num}_degree{degree}.csv')\n",
    "    tab_nb_vert_FEM = list(df_FEM['nb_vert'].values)\n",
    "    tab_h_FEM = list(df_FEM['h'].values)\n",
    "    tab_err_FEM = list(df_FEM['err'].values)\n",
    "    tab_times_FEM = list(df_FEM['times'].values)\n",
    "    tab_subtimes_FEM = {}\n",
    "    for key in df_FEM.keys():\n",
    "        if key not in ['nb_vert', 'h', 'err', 'times']:\n",
    "            tab_subtimes_FEM[key] = list(df_FEM[key].values)\n",
    "    \n",
    "    return df_FEM, tab_nb_vert_FEM, tab_h_FEM, tab_err_FEM, tab_times_FEM, tab_subtimes_FEM\n",
    "\n",
    "def run_FEM(degree,new_run=False):\n",
    "    csv_file = result_dir+f'FEM_case{testcase}_param{param_num}_degree{degree}.csv'\n",
    "    if not new_run and os.path.exists(csv_file):\n",
    "        df_FEM, tab_nb_vert_FEM, tab_h_FEM, tab_err_FEM, tab_times_FEM, tab_subtimes_FEM = read_csv(testcase,param_num,degree)\n",
    "        print(f\"Read csv file {csv_file}\")\n",
    "    else:\n",
    "        tab_nb_vert_FEM = [20,40,80]\n",
    "        tab_h_FEM = []\n",
    "        tab_err_FEM = []\n",
    "        tab_times_FEM = []\n",
    "        tab_subtimes_FEM = {}\n",
    "\n",
    "        iter_solver = False\n",
    "        for nb_vert in tab_nb_vert_FEM:\n",
    "            if nb_vert>=50:\n",
    "                iter_solver=True\n",
    "                \n",
    "            solver = FEMSolver(nb_cell=nb_vert-1, params=params, problem=problem, degree=degree, high_degree=3)\n",
    "            \n",
    "            tab_h_FEM.append(solver.h)\n",
    "            _,norme_L2 = solver.fem(0,iter_solver=iter_solver)\n",
    "            print(f\"nb_vert={nb_vert}, norme_L2={norme_L2}\")\n",
    "            \n",
    "            # from vedo.dolfin import plot as vplot\n",
    "            # vplot(sol, cmap='viridis', add=True, wireframe=True)\n",
    "            \n",
    "            tab_err_FEM.append(norme_L2)\n",
    "            times_FEM = solver.times_fem\n",
    "            for key in times_FEM:\n",
    "                if key in tab_subtimes_FEM:\n",
    "                    tab_subtimes_FEM[key].append(times_FEM[key])\n",
    "                else:\n",
    "                    tab_subtimes_FEM[key] = [times_FEM[key]]\n",
    "            total = sum(times_FEM.values())\n",
    "            print(f\"total time: {total}\")\n",
    "            tab_times_FEM.append(total)\n",
    "        \n",
    "        df_FEM = pd.DataFrame({'nb_vert': tab_nb_vert_FEM, 'h': tab_h_FEM, 'err': tab_err_FEM, 'times': tab_times_FEM, **tab_subtimes_FEM})\n",
    "        df_FEM.to_csv(csv_file, index=False)\n",
    "            \n",
    "    return df_FEM, tab_nb_vert_FEM, tab_h_FEM, tab_err_FEM, tab_times_FEM, tab_subtimes_FEM"
   ]
  },
  {
   "cell_type": "code",
   "execution_count": 10,
   "metadata": {},
   "outputs": [
    {
     "name": "stdout",
     "output_type": "stream",
     "text": [
      "Read csv file ../results/testcase1_3D/time_precision/FEM_case1_param1_degree1.csv\n"
     ]
    }
   ],
   "source": [
    "degree = 1\n",
    "df_FEM, tab_nb_vert_FEM, tab_h_FEM, tab_err_FEM, tab_times_FEM, tab_subtimes_FEM = run_FEM(degree)"
   ]
  },
  {
   "cell_type": "markdown",
   "metadata": {},
   "source": [
    "## Convergence PINNs+Corr"
   ]
  },
  {
   "cell_type": "code",
   "execution_count": 14,
   "metadata": {},
   "outputs": [],
   "source": [
    "def get_test_sample(solver,trainer,deg_PINNs):\n",
    "    # get coordinates of the dof\n",
    "    V_test = df.FunctionSpace(solver.mesh,\"CG\",deg_PINNs)\n",
    "    XXYY = V_test.tabulate_dof_coordinates()\n",
    "    X_test = torch.tensor(XXYY,requires_grad=True)\n",
    "    X_test = SpaceTensor(X_test,torch.zeros_like(X_test,dtype=int))\n",
    "\n",
    "    # get parameters\n",
    "    nb_params = len(trainer.pde.parameter_domain)\n",
    "    shape = (XXYY.shape[0],nb_params)\n",
    "    if shape[1] == 0:\n",
    "        mu_test = torch.zeros(shape)\n",
    "    else:\n",
    "        ones = torch.ones(shape)\n",
    "        mu_test = (torch.mean(trainer.pde.parameter_domain, axis=1) * ones)#.to(device)\n",
    "\n",
    "    return V_test,X_test,mu_test"
   ]
  },
  {
   "cell_type": "code",
   "execution_count": 15,
   "metadata": {},
   "outputs": [],
   "source": [
    "degree_PINNs = 10\n",
    "\n",
    "def read_csv_Corr(testcase,param_num,degree):\n",
    "    df_Corr = pd.read_csv(result_dir+f'Corr_case{testcase}_param{param_num}_degree{degree}.csv')\n",
    "    tab_nb_vert_Corr = list(df_Corr['nb_vert'].values)\n",
    "    tab_h_Corr = list(df_Corr['h'].values)\n",
    "    tab_err_Corr = list(df_Corr['err'].values)\n",
    "    tab_times_Corr = list(df_Corr['times'].values)\n",
    "    tab_subtimes_Corr = {}\n",
    "    for key in df_Corr.keys():\n",
    "        if key not in ['nb_vert', 'h', 'err', 'times']:\n",
    "            tab_subtimes_Corr[key] = list(df_Corr[key].values)\n",
    "    \n",
    "    return df_Corr,tab_nb_vert_Corr, tab_h_Corr, tab_err_Corr, tab_times_Corr, tab_subtimes_Corr\n",
    "\n",
    "def run_Corr(degree,new_run=False):\n",
    "    csv_file = result_dir+f'Corr_case{testcase}_param{param_num}_degree{degree}.csv'\n",
    "    if not new_run and os.path.exists(csv_file):\n",
    "        df_Corr,tab_nb_vert_Corr, tab_h_Corr, tab_err_Corr, tab_times_Corr, tab_subtimes_Corr = read_csv_Corr(testcase,param_num,degree)\n",
    "        print(f\"Read csv file {csv_file}\")\n",
    "    else:\n",
    "        tab_nb_vert_Corr = [5*i for i in range(2,7)]\n",
    "        tab_h_Corr = []\n",
    "        tab_err_Corr = []\n",
    "        tab_times_Corr = []\n",
    "        tab_subtimes_Corr = {}\n",
    "\n",
    "        for nb_vert in tab_nb_vert_Corr:\n",
    "            solver = FEMSolver(nb_cell=nb_vert-1, params=params, problem=problem, degree=degree)\n",
    "            tab_h_Corr.append(solver.h)\n",
    "            \n",
    "            start = time.time()\n",
    "            V_test,X_test,mu_test = get_test_sample(solver,trainer,degree_PINNs)\n",
    "            pred = u_theta.setup_w_dict(X_test, mu_test)\n",
    "            phi_tild = pred[\"w\"][:,0].cpu().detach().numpy()\n",
    "            \n",
    "            u_PINNs = df.Function(V_test)\n",
    "            u_PINNs.vector()[:] = phi_tild.copy()\n",
    "            end = time.time()\n",
    "            \n",
    "            time_get_u_PINNs = end - start\n",
    "            \n",
    "            _,_,norme_L2 = solver.corr_add(0,u_PINNs)\n",
    "            print(f\"nb_vert={nb_vert}, norme_L2={norme_L2}\")\n",
    "            tab_err_Corr.append(norme_L2)\n",
    "            times_Corr = solver.times_corr_add\n",
    "            times_Corr[\"get_u_PINNs\"] = time_get_u_PINNs\n",
    "            for key in times_Corr:\n",
    "                if key in tab_subtimes_Corr:\n",
    "                    tab_subtimes_Corr[key].append(times_Corr[key])\n",
    "                else:\n",
    "                    tab_subtimes_Corr[key] = [times_Corr[key]]\n",
    "            tab_times_Corr.append(sum(times_Corr.values()))\n",
    "            \n",
    "            \n",
    "        df_Corr = pd.DataFrame({'nb_vert': tab_nb_vert_Corr, 'h': tab_h_Corr, 'err': tab_err_Corr, 'times': tab_times_Corr, **tab_subtimes_Corr})\n",
    "        df_Corr.to_csv(csv_file, index=False)\n",
    "            \n",
    "    return df_Corr,tab_nb_vert_Corr, tab_h_Corr, tab_err_Corr, tab_times_Corr, tab_subtimes_Corr"
   ]
  },
  {
   "cell_type": "code",
   "execution_count": 16,
   "metadata": {},
   "outputs": [],
   "source": [
    "# degree = 1\n",
    "# df_Corr, tab_nb_vert_Corr, tab_h_Corr, tab_err_Corr, tab_times_Corr, tab_subtimes_Corr = run_Corr(degree)"
   ]
  },
  {
   "cell_type": "code",
   "execution_count": 17,
   "metadata": {},
   "outputs": [
    {
     "ename": "NameError",
     "evalue": "name 'df_Corr' is not defined",
     "output_type": "error",
     "traceback": [
      "\u001b[0;31m---------------------------------------------------------------------------\u001b[0m",
      "\u001b[0;31mNameError\u001b[0m                                 Traceback (most recent call last)",
      "Cell \u001b[0;32mIn[17], line 1\u001b[0m\n\u001b[0;32m----> 1\u001b[0m \u001b[43mdf_Corr\u001b[49m\n",
      "\u001b[0;31mNameError\u001b[0m: name 'df_Corr' is not defined"
     ]
    }
   ],
   "source": [
    "df_Corr"
   ]
  },
  {
   "cell_type": "markdown",
   "metadata": {},
   "source": [
    "## Plots"
   ]
  },
  {
   "cell_type": "code",
   "execution_count": 18,
   "metadata": {},
   "outputs": [
    {
     "name": "stdout",
     "output_type": "stream",
     "text": [
      "subtimes FEM :  {'mesh': [0.0042357444763183, 0.0142135620117187, 0.1246802806854248], 'assemble': [50.284212827682495, 442.29187631607056, 3673.089465141296], 'solve': [0.2849161624908447, 4.993787050247192, 4.735661506652832]}\n",
      "times FEM :  [50.57336473464966, 447.2998769283295, 3677.949806928634]\n"
     ]
    }
   ],
   "source": [
    "print(\"subtimes FEM : \", tab_subtimes_FEM)\n",
    "print(\"times FEM : \", tab_times_FEM)\n",
    "# print(\"subtimes Corr : \", tab_subtimes_Corr)"
   ]
  },
  {
   "cell_type": "code",
   "execution_count": 19,
   "metadata": {},
   "outputs": [
    {
     "data": {
      "image/png": "[encoded data removed]",
      "text/plain": [
       "<Figure size 640x480 with 1 Axes>"
      ]
     },
     "metadata": {},
     "output_type": "display_data"
    }
   ],
   "source": [
    "colors = [\"tab:blue\",\"tab:red\",\"tab:cyan\",\"tab:orange\"]\n",
    "\n",
    "plt.figure()\n",
    "\n",
    "def plot_values(times,norms,color,label):\n",
    "    plt.loglog(times,norms,\"+-\",color=color,label=label,markersize=10,markeredgewidth=2)\n",
    "\n",
    "plot_values(tab_times_FEM,tab_err_FEM,colors[0],\"FEM\")\n",
    "# plot_values(times_phifem,norms_phifem,colors[1],\"PHIFEM\")\n",
    "\n",
    "# plot_values(tab_times_Corr,tab_err_Corr,colors[2],\"Additive\")\n",
    "# plot_values(times_corr_add_phifem,norms_corr_add_phifem,colors[3],\"Corr_add_PHIFEM\")\n",
    "\n",
    "plt.xlabel(\"Time\")\n",
    "plt.ylabel(\"L2 norm\")\n",
    "\n",
    "plt.legend()\n",
    "plt.title(f'case{testcase} param{param_num} : {param}')\n",
    "plt.savefig(result_dir+f\"time_precision_param{param_num}_degree{degree}.png\")"
   ]
  },
  {
   "cell_type": "code",
   "execution_count": 20,
   "metadata": {},
   "outputs": [],
   "source": [
    "tab_times_FEM_ = np.round(tab_times_FEM, 0)\n",
    "tab_times_FEM_ = tab_times_FEM_.astype(int)\n",
    "\n",
    "# create string with ..h..min..s (if needed)\n",
    "\n",
    "tab_times_FEM_str = []\n",
    "for time in tab_times_FEM_:\n",
    "    time_str = \"\"\n",
    "    if time >= 3600:\n",
    "        time_str += str(time//3600) + \"h\"\n",
    "        time = time % 3600\n",
    "    if time >= 60:\n",
    "        time_str += str(time//60) + \"min\"\n",
    "        time = time % 60\n",
    "    if time > 0:\n",
    "        time_str += str(time) + \"s\"\n",
    "    tab_times_FEM_str.append(time_str)"
   ]
  },
  {
   "cell_type": "code",
   "execution_count": 21,
   "metadata": {},
   "outputs": [
    {
     "data": {
      "text/html": [
       "<div>\n",
       "<style scoped>\n",
       "    .dataframe tbody tr th:only-of-type {\n",
       "        vertical-align: middle;\n",
       "    }\n",
       "\n",
       "    .dataframe tbody tr th {\n",
       "        vertical-align: top;\n",
       "    }\n",
       "\n",
       "    .dataframe thead th {\n",
       "        text-align: right;\n",
       "    }\n",
       "</style>\n",
       "<table border=\"1\" class=\"dataframe\">\n",
       "  <thead>\n",
       "    <tr style=\"text-align: right;\">\n",
       "      <th></th>\n",
       "      <th>err</th>\n",
       "      <th>CPU times</th>\n",
       "    </tr>\n",
       "  </thead>\n",
       "  <tbody>\n",
       "    <tr>\n",
       "      <th>20</th>\n",
       "      <td>0.0610268155205595</td>\n",
       "      <td>51s</td>\n",
       "    </tr>\n",
       "    <tr>\n",
       "      <th>40</th>\n",
       "      <td>0.0150110961335434</td>\n",
       "      <td>7min27s</td>\n",
       "    </tr>\n",
       "    <tr>\n",
       "      <th>80</th>\n",
       "      <td>0.0036898010457549</td>\n",
       "      <td>1h1min18s</td>\n",
       "    </tr>\n",
       "  </tbody>\n",
       "</table>\n",
       "</div>"
      ],
      "text/plain": [
       "                   err  CPU times\n",
       "20  0.0610268155205595        51s\n",
       "40  0.0150110961335434    7min27s\n",
       "80  0.0036898010457549  1h1min18s"
      ]
     },
     "execution_count": 21,
     "metadata": {},
     "output_type": "execute_result"
    }
   ],
   "source": [
    "df_time_pres = pd.DataFrame(np.array([tab_err_FEM,tab_times_FEM_str]).T,columns=[\"err\",\"CPU times\"],index=tab_nb_vert_FEM)\n",
    "df_time_pres"
   ]
  },
  {
   "cell_type": "markdown",
   "metadata": {},
   "source": [
    "## Tableau"
   ]
  },
  {
   "cell_type": "code",
   "execution_count": 23,
   "metadata": {},
   "outputs": [],
   "source": [
    "# tab_subtimes_FEM[\"get_u_PINNs\"] = None\n",
    "# methods = [\"FEM\",\"Corr_FEM\"]\n",
    "# steps = [\"mesh\",\"get_u_PINNs\",\"assemble\",\"solve\",\"TOTAL\"]\n",
    "\n",
    "# norms = {\"FEM\":tab_err_FEM,\"Corr_FEM\":tab_err_Corr}\n",
    "# subtimes = {\"FEM\":tab_subtimes_FEM,\"Corr_FEM\":tab_subtimes_Corr}\n",
    "# times = {\"FEM\":tab_times_FEM,\"Corr_FEM\":tab_times_Corr}\n",
    "\n",
    "# for method in methods:\n",
    "#     subtimes[method][\"TOTAL\"] = times[method]\n",
    "\n",
    "# ###\n",
    "# # Interpolation\n",
    "# ###\n",
    "\n",
    "# def get_index(norms,given_precision):\n",
    "#     norms = np.array(norms)\n",
    "#     if given_precision < norms[-1]:\n",
    "#         index = len(norms)-1\n",
    "#     elif given_precision > norms[0]:\n",
    "#         index = 0\n",
    "#     else:           \n",
    "#         index = np.where(norms < given_precision)[0][0]\n",
    "    \n",
    "#     return index\n",
    "\n",
    "# def linear_interpolation(norms,times,index,given_precision):\n",
    "#     norms = np.array(norms)\n",
    "#     times = np.array(times)\n",
    "    \n",
    "#     norm = norms[index-1:index+1]\n",
    "#     time = times[index-1:index+1]\n",
    "\n",
    "#     t_inter = time[0]+(time[1]-time[0])/(norm[1]-norm[0])*(given_precision-norm[0])\n",
    "    \n",
    "#     return t_inter\n",
    "\n",
    "# def get_time(given_precision):\n",
    "#     times_inter = {}\n",
    "#     for method in methods:\n",
    "#         times_inter[method] = {}\n",
    "#         for key in steps:\n",
    "#             if not subtimes[method][key] is None:\n",
    "#                 index = get_index(norms[method],given_precision)\n",
    "#                 t_inter = linear_interpolation(norms[method],subtimes[method][key],index,given_precision)\n",
    "#                 times_inter[method][key] = t_inter\n",
    "#             else:\n",
    "#                 times_inter[method][key] = None\n",
    "#     return times_inter"
   ]
  },
  {
   "cell_type": "code",
   "execution_count": 24,
   "metadata": {},
   "outputs": [],
   "source": [
    "# given_precision = 1e-3\n",
    "# times_inter = get_time(given_precision)\n",
    "# # Create a dataframe with the times interpolated\n",
    "# df_given_precision = pd.DataFrame.from_dict(times_inter).T\n",
    "# # réorganiser lignes et colonnes par clés\n",
    "# df_given_precision = df_given_precision.reindex(methods)\n",
    "# df_given_precision = df_given_precision[steps]\n",
    "# # Create an excel file with the times\n",
    "\n",
    "# df_given_precision"
   ]
  },
  {
   "cell_type": "code",
   "execution_count": 26,
   "metadata": {},
   "outputs": [],
   "source": [
    "# pre = int(np.log10(given_precision))\n",
    "# result_file = result_dir+f'times_table_param{param_num}_degree{degree}_1e{pre}'\n",
    "\n",
    "# df_given_precision.to_excel(result_file+'.xlsx')\n",
    "\n",
    "# df_styled = df_given_precision.style.format(\"{:.2e}\")\n",
    "# dfi.export(df_styled,result_file+\".png\",dpi=1000)"
   ]
  },
  {
   "cell_type": "code",
   "execution_count": 27,
   "metadata": {},
   "outputs": [],
   "source": [
    "# given_precision = 1e-4\n",
    "# times_inter = get_time(given_precision)\n",
    "# # Create a dataframe with the times interpolated\n",
    "# df_given_precision = pd.DataFrame.from_dict(times_inter).T\n",
    "# # réorganiser lignes et colonnes par clés\n",
    "# df_given_precision = df_given_precision.reindex(methods)\n",
    "# df_given_precision = df_given_precision[steps]\n",
    "# # Create an excel file with the times\n",
    "\n",
    "# df_given_precision"
   ]
  },
  {
   "cell_type": "code",
   "execution_count": 28,
   "metadata": {},
   "outputs": [],
   "source": [
    "# pre = int(np.log10(given_precision))\n",
    "# result_file = result_dir+f'times_table_param{param_num}_degree{degree}_1e{pre}'\n",
    "\n",
    "# df_given_precision.to_excel(result_file+'.xlsx')\n",
    "\n",
    "# df_styled = df_given_precision.style.format(\"{:.2e}\")\n",
    "# dfi.export(df_styled,result_file+\".png\",dpi=1000)"
   ]
  },
  {
   "cell_type": "code",
   "execution_count": 29,
   "metadata": {},
   "outputs": [],
   "source": [
    "# df_time_pres"
   ]
  },
  {
   "cell_type": "code",
   "execution_count": null,
   "metadata": {},
   "outputs": [],
   "source": []
  }
 ],
 "metadata": {
  "kernelspec": {
   "display_name": "phifem_scimba_2",
   "language": "python",
   "name": "python3"
  },
  "language_info": {
   "codemirror_mode": {
    "name": "ipython",
    "version": 3
   },
   "file_extension": ".py",
   "mimetype": "text/x-python",
   "name": "python",
   "nbconvert_exporter": "python",
   "pygments_lexer": "ipython3",
   "version": "3.9.16"
  }
 },
 "nbformat": 4,
 "nbformat_minor": 2
}
