{
 "cells": [
  {
   "cell_type": "code",
   "execution_count": 1,
   "metadata": {},
   "outputs": [
    {
     "name": "stderr",
     "output_type": "stream",
     "text": [
      "/home/firedrake/firedrake/lib/python3.12/site-packages/pytools/__init__.py:2447: UserWarning: unable to find git revision\n",
      "  warn(\"unable to find git revision\", stacklevel=1)\n"
     ]
    }
   ],
   "source": [
    "from firedrake import *\n",
    "from mesh import OriginBoxMesh"
   ]
  },
  {
   "cell_type": "code",
   "execution_count": 6,
   "metadata": {},
   "outputs": [],
   "source": [
    "# read a msh file\n",
    "# mesh = Mesh(\"cube.msh\",dim=3)\n",
    "PI = 3.14159265358979323846\n",
    "L = PI\n",
    "origin = -PI/2\n",
    "N = 20\n",
    "mesh = OriginBoxMesh(N, N, N, L, L, L, originX=origin, originY=origin, originZ=origin)\n",
    "\n",
    "# plot mesh\n",
    "\n",
    "# import matplotlib.pyplot as plt\n",
    "# from mpl_toolkits.mplot3d import axes3d\n",
    "# fig, axes = plt.subplots(1, 1, subplot_kw={'projection': '3d'})\n",
    "# triplot(mesh, axes=axes)\n",
    "# axes.legend();\n",
    "\n",
    "# create function space\n",
    "\n",
    "degV = 1\n",
    "V = FunctionSpace(mesh, \"CG\", degV)\n",
    "\n",
    "u = TrialFunction(V)\n",
    "v = TestFunction(V)\n",
    "\n",
    "# change the coordinates of the mesh\n",
    "x, y, z = SpatialCoordinate(mesh)\n",
    "mu1, mu2, mu3 = 0.05, 0.22, 0.1\n",
    "\n",
    "ex = exp(-((x-mu1)**2.0 + (y-mu2)**2.0 + ((z-mu3)**2.0))/2)\n",
    "fct_uex = ex * sin(2*x) * sin(2*y) * sin(2*z)\n",
    "u_ex = Function(V).interpolate(fct_uex)\n",
    "\n",
    "VTKFile(\"u_ex.pvd\").write(u_ex)\n",
    "\n",
    "ex = exp(-((x-mu1)**2.0 + (y-mu2)**2.0 + ((z-mu3)**2.0))/2)\n",
    "fct = (4.0*(-mu1 + x)**1.0*sin(2*y)*sin(2*z)*cos(2*x) - 1.0*(-mu1 + x)**2.0*sin(2*x)*sin(2*y)*sin(2*z) + 4.0*(-mu2 + y)**1.0*sin(2*x)*sin(2*z)*cos(2*y) - 1.0*(-mu2 + y)**2.0*sin(2*x)*sin(2*y)*sin(2*z) + 4.0*(-mu3 + z)**1.0*sin(2*x)*sin(2*y)*cos(2*z) - 1.0*(-mu3 + z)**2.0*sin(2*x)*sin(2*y)*sin(2*z) + 15.0*sin(2*x)*sin(2*y)*sin(2*z))*ex\n",
    "\n",
    "f = Function(V).interpolate(fct)\n",
    "\n",
    "a = inner(grad(u), grad(v))*dx\n",
    "L = f*v*dx\n",
    "\n",
    "g = Constant(0.0)\n",
    "bc0 = DirichletBC(V.sub(0), g, \"on_boundary\")\n",
    "# bc1 = DirichletBC(W.sub(0), as_vector([0.0, sin(5*x)]), 4)\n",
    "\n",
    "sol = Function(V)\n",
    "solve(a == L, sol, bcs=bc0)\n",
    "\n",
    "VTKFile(\"sol.pvd\").write(sol)"
   ]
  },
  {
   "cell_type": "code",
   "execution_count": 7,
   "metadata": {},
   "outputs": [
    {
     "name": "stdout",
     "output_type": "stream",
     "text": [
      "Error =  0.052203483070750636\n"
     ]
    }
   ],
   "source": [
    "\n",
    "\n",
    "# compute the relative L2 error\n",
    "\n",
    "error = sqrt(assemble((sol - u_ex)**2*dx)) / sqrt(assemble(u_ex**2*dx))\n",
    "print(\"Error = \", error)"
   ]
  },
  {
   "cell_type": "code",
   "execution_count": null,
   "metadata": {},
   "outputs": [],
   "source": []
  }
 ],
 "metadata": {
  "kernelspec": {
   "display_name": "Python 3",
   "language": "python",
   "name": "python3"
  },
  "language_info": {
   "codemirror_mode": {
    "name": "ipython",
    "version": 3
   },
   "file_extension": ".py",
   "mimetype": "text/x-python",
   "name": "python",
   "nbconvert_exporter": "python",
   "pygments_lexer": "ipython3",
   "version": "3.12.3"
  }
 },
 "nbformat": 4,
 "nbformat_minor": 2
}
