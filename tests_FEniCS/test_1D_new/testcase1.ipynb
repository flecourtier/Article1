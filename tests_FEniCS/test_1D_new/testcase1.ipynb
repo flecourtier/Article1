{
 "cells": [
  {
   "cell_type": "markdown",
   "metadata": {},
   "source": [
    "# TestCase 1"
   ]
  },
  {
   "cell_type": "code",
   "execution_count": 35,
   "metadata": {
    "metadata": {}
   },
   "outputs": [],
   "source": [
    "%load_ext autoreload\n",
    "%autoreload 2"
   ]
  },
  {
   "cell_type": "code",
   "execution_count": 36,
   "metadata": {},
   "outputs": [],
   "source": [
    "from create_jsonfile import ask_user,read_config,check_config\n",
    "\n",
    "# ask_user()\n",
    "config = read_config(configfile=\"configs/config1.json\")"
   ]
  },
  {
   "cell_type": "code",
   "execution_count": 37,
   "metadata": {},
   "outputs": [],
   "source": [
    "dimension = config[\"dimension\"]\n",
    "testcase = config[\"testcase\"]\n",
    "version = config[\"version\"]   \n",
    "# high_degree = 10"
   ]
  },
  {
   "cell_type": "code",
   "execution_count": null,
   "metadata": {},
   "outputs": [],
   "source": [
    "assert testcase == 1\n",
    "check_config(config)"
   ]
  },
  {
   "cell_type": "markdown",
   "metadata": {},
   "source": [
    "## Imports + Load network"
   ]
  },
  {
   "cell_type": "code",
   "execution_count": 39,
   "metadata": {},
   "outputs": [],
   "source": [
    "# export CUDA_VISIBLE_DEVICES=\n",
    "import os\n",
    "# os.environ[\"CUDA_VISIBLE_DEVICES\"] = \"\""
   ]
  },
  {
   "cell_type": "code",
   "execution_count": 40,
   "metadata": {},
   "outputs": [],
   "source": [
    "from testcases.utils import create_tree\n",
    "\n",
    "import torch\n",
    "device = torch.device(\"cuda\" if torch.cuda.is_available() else \"cpu\")"
   ]
  },
  {
   "cell_type": "code",
   "execution_count": 41,
   "metadata": {},
   "outputs": [],
   "source": [
    "current_dir = os.getcwd()\n",
    "repo_dir = os.path.dirname(current_dir)\n",
    "repo_dir = os.path.dirname(repo_dir)\n",
    "print(repo_dir)\n",
    "# vérifier que repo_dir finit bien par \"code\" (à modifier pour l'utilisateur)\n",
    "assert repo_dir.split(\"/\")[-1] == \"code\""
   ]
  },
  {
   "cell_type": "code",
   "execution_count": 42,
   "metadata": {},
   "outputs": [],
   "source": [
    "if version == 1:\n",
    "    from testcases.networks.test_1D.test_1.test_1_v1 import Run_laplacian1D,Poisson_1D\n",
    "elif version == 2:\n",
    "    from testcases.networks.test_1D.test_1.test_1_v2 import Run_laplacian1D,Poisson_1D\n",
    "else:\n",
    "    raise ValueError(\"Version not found\")\n",
    "from testcases.problem.problem_1D import TestCase1\n",
    "problem = TestCase1(version=version)"
   ]
  },
  {
   "cell_type": "code",
   "execution_count": 43,
   "metadata": {},
   "outputs": [],
   "source": [
    "pde = Poisson_1D()\n",
    "trainer,u_theta = Run_laplacian1D(pde)"
   ]
  },
  {
   "cell_type": "markdown",
   "metadata": {},
   "source": [
    "## Error estimations"
   ]
  },
  {
   "cell_type": "markdown",
   "metadata": {},
   "source": [
    "### Imports"
   ]
  },
  {
   "cell_type": "code",
   "execution_count": 10,
   "metadata": {
    "metadata": {}
   },
   "outputs": [
    {
     "name": "stderr",
     "output_type": "stream",
     "text": [
      "/home/u2/lecourtier/miniconda3/envs/fenics_scimba_modules/lib/python3.9/site-packages/pandas/core/computation/expressions.py:21: UserWarning: Pandas requires version '2.8.4' or newer of 'numexpr' (version '2.8.3' currently installed).\n",
      "  from pandas.core.computation.check import NUMEXPR_INSTALLED\n"
     ]
    }
   ],
   "source": [
    "from modfenics.error_estimations.error_estimations import ErrorEstimations\n",
    "from modfenics.error_estimations.compare import CompareMethods"
   ]
  },
  {
   "cell_type": "code",
   "execution_count": 11,
   "metadata": {},
   "outputs": [
    {
     "name": "stdout",
     "output_type": "stream",
     "text": [
      "## Results directory: /home/u2/lecourtier/Article1/code/results/fenics/test_1D/testcase1/version2/cvg/param1/\n"
     ]
    }
   ],
   "source": [
    "param_num = config[\"error_estimations\"][\"param_num\"]     \n",
    "error_estimations = ErrorEstimations(param_num, problem, repo_dir = repo_dir, tab_degree=[1])\n",
    "compare_methods = CompareMethods(error_estimations)\n",
    "tab_nb_vert = error_estimations.tab_nb_vert"
   ]
  },
  {
   "cell_type": "markdown",
   "metadata": {},
   "source": [
    "### Run FEM"
   ]
  },
  {
   "cell_type": "code",
   "execution_count": 12,
   "metadata": {
    "metadata": {}
   },
   "outputs": [
    {
     "name": "stdout",
     "output_type": "stream",
     "text": [
      "## Read csv file : /home/u2/lecourtier/Article1/code/results/fenics/test_1D/testcase1/version2/cvg/param1/FEM_case1_v2_param1_degree1.csv\n"
     ]
    }
   ],
   "source": [
    "degree = 1\n",
    "df_FEM, tab_h_FEM, tab_err_FEM = error_estimations.run_fem_deg(degree,new_run=False)"
   ]
  },
  {
   "cell_type": "code",
   "execution_count": 13,
   "metadata": {},
   "outputs": [],
   "source": [
    "# error_estimations.run_fem_alldeg(new_run=False,plot_cvg=False)"
   ]
  },
  {
   "cell_type": "markdown",
   "metadata": {},
   "source": [
    "### Run Add"
   ]
  },
  {
   "cell_type": "code",
   "execution_count": 14,
   "metadata": {},
   "outputs": [
    {
     "name": "stdout",
     "output_type": "stream",
     "text": [
      "## Read csv file : /home/u2/lecourtier/Article1/code/results/fenics/test_1D/testcase1/version2/cvg/param1/Corr_case1_v2_param1_degree1.csv\n"
     ]
    }
   ],
   "source": [
    "degree = 1\n",
    "df_Corr, tab_h_Corr, tab_err_Corr = error_estimations.run_corr_deg(degree,u_theta,new_run=False)"
   ]
  },
  {
   "cell_type": "code",
   "execution_count": 15,
   "metadata": {
    "metadata": {}
   },
   "outputs": [],
   "source": [
    "# error_estimations.run_corr_alldeg(u_theta,new_run=False,plot_cvg=False)"
   ]
  },
  {
   "cell_type": "markdown",
   "metadata": {},
   "source": [
    "### Run Mult"
   ]
  },
  {
   "cell_type": "code",
   "execution_count": 16,
   "metadata": {},
   "outputs": [],
   "source": [
    "tab_M = [3.0,100.0]"
   ]
  },
  {
   "cell_type": "code",
   "execution_count": 17,
   "metadata": {},
   "outputs": [
    {
     "name": "stdout",
     "output_type": "stream",
     "text": [
      "## Read csv file : /home/u2/lecourtier/Article1/code/results/fenics/test_1D/testcase1/version2/cvg/param1/Mult_case1_v2_param1_degree1_M3.0.csv\n",
      "## Read csv file : /home/u2/lecourtier/Article1/code/results/fenics/test_1D/testcase1/version2/cvg/param1/Mult_case1_v2_param1_degree1_M100.0.csv\n"
     ]
    }
   ],
   "source": [
    "degree = 1\n",
    "error_estimations.run_mult_deg_allM(degree,u_theta,tab_M,new_run=False)"
   ]
  },
  {
   "cell_type": "code",
   "execution_count": 18,
   "metadata": {},
   "outputs": [],
   "source": [
    "# error_estimations.run_mult_alldeg_allM(u_theta,tab_M,new_run=False,plot_cvg=False)"
   ]
  },
  {
   "cell_type": "markdown",
   "metadata": {},
   "source": [
    "### Save results"
   ]
  },
  {
   "cell_type": "code",
   "execution_count": 19,
   "metadata": {},
   "outputs": [
    {
     "name": "stdout",
     "output_type": "stream",
     "text": [
      "/home/u2/lecourtier/Article1/code/results/fenics/test_1D/testcase1/version2/cvg/param1/Mult_case1_v2_param1_degree1_M3.0.csv\n",
      "Mult weak P1 M3.0 not found\n",
      "/home/u2/lecourtier/Article1/code/results/fenics/test_1D/testcase1/version2/cvg/param1/Mult_case1_v2_param1_degree1_M100.0.csv\n",
      "Mult weak P1 M100.0 not found\n"
     ]
    },
    {
     "data": {
      "image/png": "[encoded data removed]",
      "text/plain": [
       "<Figure size 500x500 with 1 Axes>"
      ]
     },
     "metadata": {},
     "output_type": "display_data"
    }
   ],
   "source": [
    "compare_methods.plot_Mult_vs_Add_vs_FEM_alldeg_allM(tab_M)"
   ]
  },
  {
   "cell_type": "code",
   "execution_count": 20,
   "metadata": {},
   "outputs": [
    {
     "name": "stdout",
     "output_type": "stream",
     "text": [
      "Mult weak P1 M3.0 not found\n",
      "Mult weak P1 M100.0 not found\n"
     ]
    },
    {
     "name": "stderr",
     "output_type": "stream",
     "text": [
      "/home/u2/lecourtier/Article1/code/src/modfenics/error_estimations/compare.py:189: FutureWarning: DataFrame.applymap has been deprecated. Use DataFrame.map instead.\n",
      "  df[error_cols] = df[error_cols].applymap(lambda x: f'{x:.2e}')\n",
      "/home/u2/lecourtier/Article1/code/src/modfenics/error_estimations/compare.py:193: FutureWarning: DataFrame.applymap has been deprecated. Use DataFrame.map instead.\n",
      "  df[factor_cols] = df[factor_cols].applymap(lambda x: f'{round(x,2)}')\n"
     ]
    }
   ],
   "source": [
    "compare_methods.save_tab_alldeg_allM(tab_M)"
   ]
  },
  {
   "cell_type": "markdown",
   "metadata": {},
   "source": [
    "## Gains constant from Error estimations"
   ]
  },
  {
   "cell_type": "code",
   "execution_count": 44,
   "metadata": {},
   "outputs": [],
   "source": [
    "import numpy as np\n",
    "from scimba.equations.domain import SpaceTensor\n",
    "from testcases.utils import select_param\n",
    "import dolfin as df\n",
    "\n",
    "N_ex = 500\n",
    "mesh_ex = df.UnitIntervalMesh(N_ex)\n",
    "V_ex = df.FunctionSpace(mesh_ex, \"CG\", 4)\n",
    "dx_ex = df.Measure(\"dx\", domain=mesh_ex)\n",
    "XXYY = V_ex.tabulate_dof_coordinates().reshape(-1,1)\n",
    "\n",
    "param_num = config[\"error_estimations\"][\"param_num\"]    \n",
    "params = [select_param(problem,param_num)]\n",
    "\n",
    "X_test = torch.tensor(XXYY,requires_grad=True)\n",
    "X_test = SpaceTensor(X_test,torch.zeros_like(X_test,dtype=int))\n",
    "\n",
    "# get parameters\n",
    "nb_params = len(trainer.pde.parameter_domain)\n",
    "shape = (XXYY.shape[0],nb_params)\n",
    "ones = torch.ones(shape)\n",
    "mu_test = (torch.Tensor(params[0]).to(device) * ones).to(device)\n",
    "\n",
    "u_ex = pde.reference_solution(X_test, mu_test).cpu().detach().numpy()[:,0]\n",
    "du_ex_dx = pde.reference_solution_derivative(X_test, mu_test).cpu().detach().numpy()[:,0]\n",
    "d2u_ex_dx2 = pde.reference_solution_second_derivative(X_test, mu_test).cpu().detach().numpy()[:,0]\n",
    "\n",
    "pred = u_theta.setup_w_dict(X_test, mu_test)\n",
    "u_theta.get_first_derivatives(pred, X_test)\n",
    "u_theta.get_second_derivatives(pred, X_test)\n",
    "        \n",
    "u_theta_ = pred[\"w\"][:,0].cpu().detach().numpy()\n",
    "u_theta_x = pred[\"w_x\"][:,0].cpu().detach().numpy()\n",
    "u_theta_xx = pred[\"w_xx\"][:,0].cpu().detach().numpy()"
   ]
  },
  {
   "cell_type": "code",
   "execution_count": 45,
   "metadata": {},
   "outputs": [],
   "source": [
    "M=100\n",
    "\n",
    "# Solutions\n",
    "u_fe = df.Function(V_ex)\n",
    "u_fe_M = df.Function(V_ex)\n",
    "u_fe.vector()[:] = u_ex\n",
    "u_fe_M.vector()[:] = u_ex+M\n",
    "\n",
    "u_theta_fe = df.Function(V_ex)\n",
    "u_theta_fe_M = df.Function(V_ex)\n",
    "u_theta_fe.vector()[:] = u_theta_\n",
    "u_theta_fe_M.vector()[:] = u_theta_+M\n",
    "\n",
    "# First derivatives\n",
    "dudx_fe = df.Function(V_ex)\n",
    "dudx_fe.vector()[:] = du_ex_dx\n",
    "\n",
    "duthetadx_fe = df.Function(V_ex)\n",
    "duthetadx_fe.vector()[:] = u_theta_x\n",
    "\n",
    "# Second derivatives\n",
    "d2udx2_fe = df.Function(V_ex)\n",
    "d2udx2_fe.vector()[:] = d2u_ex_dx2\n",
    "\n",
    "d2uthetadx2_fe = df.Function(V_ex)\n",
    "d2uthetadx2_fe.vector()[:] = u_theta_xx"
   ]
  },
  {
   "cell_type": "code",
   "execution_count": 55,
   "metadata": {},
   "outputs": [
    {
     "name": "stdout",
     "output_type": "stream",
     "text": [
      "0.02940315944770827\n",
      "34.00995058978064\n"
     ]
    }
   ],
   "source": [
    "seminormH2 = df.assemble((((d2udx2_fe - d2uthetadx2_fe)) ** 2) * dx_ex) ** (0.5)\n",
    "seminormH2_rel = df.assemble(d2udx2_fe ** 2 * dx_ex) ** (0.5)\n",
    "c_gain_add = seminormH2 / seminormH2_rel\n",
    "print(c_gain_add)\n",
    "print(1/c_gain_add)"
   ]
  },
  {
   "cell_type": "code",
   "execution_count": null,
   "metadata": {},
   "outputs": [],
   "source": [
    "# der = df.grad(u_fe_M/u_theta_fe_M)\n",
    "# der2 = df.grad(der[0])\n",
    "# seminormH2 = df.assemble((der2[0] ** 2) * dx_ex) ** (0.5)\n",
    "\n",
    "num = df.Function(V_ex)\n",
    "den = df.Function(V_ex)\n",
    "num.vector()[:] = u_theta_fe_M.vector()[:]**2 * d2udx2_fe.vector()[:] - 2 * u_theta_fe_M.vector()[:] * duthetadx_fe.vector()[:] * dudx_fe.vector()[:] - u_fe_M.vector()[:] * (u_theta_fe_M.vector()[:]*d2uthetadx2_fe.vector()[:] - 2 * duthetadx_fe.vector()[:]**2)\n",
    "den.vector()[:] = u_theta_fe_M.vector()[:]**3\n",
    "\n",
    "seminormH2 = df.assemble((num/den)**2 * dx_ex) ** (0.5)\n",
    "seminormH2_rel = df.assemble(d2udx2_fe ** 2 * dx_ex) ** (0.5)\n",
    "norm_Linf = np.max(np.abs(u_theta_fe_M.vector()[:]))\n",
    "c_gain_mult = seminormH2 / seminormH2_rel * norm_Linf\n",
    "# print(seminormH2,seminormH2_rel,norm_Linf)\n",
    "print(c_gain_mult)\n",
    "print(1/c_gain_mult)"
   ]
  },
  {
   "cell_type": "code",
   "execution_count": null,
   "metadata": {},
   "outputs": [],
   "source": [
    "# import sympy as sp\n",
    "\n",
    "# x = sp.symbols('x')\n",
    "# u = sp.Function('u')(x)\n",
    "# v = sp.Function('v')(x)\n",
    "# f = u / v\n",
    "\n",
    "# f_double_prime = sp.diff(f, x, x)\n",
    "# f_double_prime.simplify()"
   ]
  },
  {
   "cell_type": "markdown",
   "metadata": {},
   "source": [
    "## Derivatives"
   ]
  },
  {
   "cell_type": "code",
   "execution_count": null,
   "metadata": {},
   "outputs": [],
   "source": [
    "import numpy as np\n",
    "from scimba.equations.domain import SpaceTensor\n",
    "from testcases.utils import select_param\n",
    "\n",
    "N=1000\n",
    "\n",
    "param_num = config[\"error_estimations\"][\"param_num\"]    \n",
    "params = [select_param(problem,param_num)]\n",
    "\n",
    "XXYY = np.linspace(0, 1, N)\n",
    "print(XXYY.shape)\n",
    "XXYY = XXYY.reshape(-1,1)\n",
    "\n",
    "X_test = torch.tensor(XXYY,requires_grad=True)\n",
    "X_test = SpaceTensor(X_test,torch.zeros_like(X_test,dtype=int))\n",
    "\n",
    "# get parameters\n",
    "nb_params = len(trainer.pde.parameter_domain)\n",
    "shape = (XXYY.shape[0],nb_params)\n",
    "ones = torch.ones(shape)\n",
    "mu_test = (torch.Tensor(params[0]).to(device) * ones).to(device)\n",
    "\n",
    "u_ex = pde.reference_solution(X_test, mu_test).cpu().detach().numpy()\n",
    "du_ex_dx = pde.reference_solution_derivative(X_test, mu_test).cpu().detach().numpy()\n",
    "d2u_ex_dx2 = pde.reference_solution_second_derivative(X_test, mu_test).cpu().detach().numpy()\n",
    "\n",
    "pred = u_theta.setup_w_dict(X_test, mu_test)\n",
    "u_theta.get_first_derivatives(pred, X_test)\n",
    "u_theta.get_second_derivatives(pred, X_test)\n",
    "        \n",
    "u_theta_ = pred[\"w\"][:,0].cpu().detach().numpy()\n",
    "u_theta_x = pred[\"w_x\"][:,0].cpu().detach().numpy()\n",
    "u_theta_xx = pred[\"w_xx\"][:,0].cpu().detach().numpy()"
   ]
  },
  {
   "cell_type": "code",
   "execution_count": null,
   "metadata": {},
   "outputs": [],
   "source": [
    "import matplotlib.pyplot as plt\n",
    "from matplotlib import rc\n",
    "\n",
    "rc('font', **{'family': 'serif', 'serif': ['Computer Modern']})\n",
    "rc('text', usetex=True)\n",
    "\n",
    "# Définir les tailles pour les titres et les légendes\n",
    "title_size = 24  # Taille des titres\n",
    "legend_size = 20  # Taille des légendes\n",
    "\n",
    "fig, axs = plt.subplots(1, 3, figsize=(15, 5))\n",
    "\n",
    "# plot u\n",
    "axs[0].plot(XXYY, u_theta_, label=r\"$u_\\theta$\")\n",
    "axs[0].plot(XXYY, u_ex, label=r\"$u$\")\n",
    "axs[0].set_title(\"Solution\", fontsize=title_size)\n",
    "axs[0].legend(fontsize=legend_size)\n",
    "\n",
    "# plot du/dx\n",
    "axs[1].plot(XXYY, u_theta_x, label=r\"$d_xu_\\theta$\")\n",
    "axs[1].plot(XXYY, du_ex_dx, label=r\"$d_xu$\")\n",
    "axs[1].set_title(\"First derivative\", fontsize=title_size)\n",
    "axs[1].legend(loc=\"upper center\", fontsize=legend_size)\n",
    "\n",
    "# plot d2u/dx2\n",
    "axs[2].plot(XXYY, u_theta_xx, label=r\"$d_{xx}u_\\theta$\")\n",
    "axs[2].plot(XXYY, d2u_ex_dx2, label=r\"$d_{xx}u$\")\n",
    "axs[2].set_title(\"Second derivative\", fontsize=title_size)\n",
    "axs[2].legend(fontsize=legend_size)\n",
    "\n",
    "# Ajouter une grille\n",
    "for ax in axs:\n",
    "    ax.grid()\n",
    "\n",
    "# Affichage de la figure\n",
    "plt.savefig(\"NN\",dpi=1000)\n",
    "plt.show()"
   ]
  },
  {
   "cell_type": "markdown",
   "metadata": {},
   "source": [
    "## Gains"
   ]
  },
  {
   "cell_type": "markdown",
   "metadata": {},
   "source": [
    "### Imports"
   ]
  },
  {
   "cell_type": "code",
   "execution_count": 51,
   "metadata": {},
   "outputs": [],
   "source": [
    "from modfenics.gains.gains import GainsEnhancedFEM\n",
    "from modfenics.gains.compare import CompareGainsMethods"
   ]
  },
  {
   "cell_type": "code",
   "execution_count": null,
   "metadata": {},
   "outputs": [],
   "source": [
    "n_params = config[\"gains\"][\"n_params\"]   \n",
    "gains_enhanced_fem = GainsEnhancedFEM(n_params, problem, repo_dir = repo_dir, tab_degree=[1])\n",
    "compare_gains_methods = CompareGainsMethods(gains_enhanced_fem)"
   ]
  },
  {
   "cell_type": "markdown",
   "metadata": {},
   "source": [
    "### Run FEM"
   ]
  },
  {
   "cell_type": "code",
   "execution_count": null,
   "metadata": {},
   "outputs": [],
   "source": [
    "degree = 1\n",
    "df_FEM, tab_h_FEM, tab_err_FEM = gains_enhanced_fem.run_fem_deg(degree,new_run=False)"
   ]
  },
  {
   "cell_type": "code",
   "execution_count": 24,
   "metadata": {},
   "outputs": [
    {
     "ename": "NameError",
     "evalue": "name 'gains_enhanced_fem' is not defined",
     "output_type": "error",
     "traceback": [
      "\u001b[0;31m---------------------------------------------------------------------------\u001b[0m",
      "\u001b[0;31mNameError\u001b[0m                                 Traceback (most recent call last)",
      "Cell \u001b[0;32mIn[54], line 1\u001b[0m\n\u001b[0;32m----> 1\u001b[0m \u001b[43mgains_enhanced_fem\u001b[49m\u001b[38;5;241m.\u001b[39mrun_fem_alldeg(new_run\u001b[38;5;241m=\u001b[39m\u001b[38;5;28;01mFalse\u001b[39;00m)\n",
      "\u001b[0;31mNameError\u001b[0m: name 'gains_enhanced_fem' is not defined"
     ]
    }
   ],
   "source": [
    "# gains_enhanced_fem.run_fem_alldeg(new_run=False)"
   ]
  },
  {
   "cell_type": "markdown",
   "metadata": {},
   "source": [
    "### Run PINNs"
   ]
  },
  {
   "cell_type": "code",
   "execution_count": 25,
   "metadata": {},
   "outputs": [
    {
     "name": "stdout",
     "output_type": "stream",
     "text": [
      "## Run errrors with PINNs for degree=1\n",
      "V_ex created with  501  vertices and degree  4  : h_ex = 0.0020000000000000018\n",
      "nb_vert=20\n",
      "V created with  20  vertices and degree  4  : h = 0.052631578947368474\n",
      "0 1 2 3 4 5 6 7 8 9 10 11 12 13 14 15 16 17 18 19 20 21 22 23 24 25 26 27 28 29 30 31 32 33 34 35 36 37 38 39 40 41 42 43 44 45 46 47 48 49 50 51 52 53 54 55 56 57 58 59 60 61 62 63 64 65 66 67 68 69 70 71 72 73 74 75 76 77 78 79 80 81 82 83 84 85 86 87 88 89 90 91 92 93 94 95 96 97 98 99 nb_vert=40\n",
      "V created with  40  vertices and degree  4  : h = 0.02564102564102566\n",
      "0 1 2 3 4 5 6 7 8 9 10 11 12 13 14 15 16 17 18 19 20 21 22 23 24 25 26 27 28 29 30 31 32 33 34 35 36 37 38 39 40 41 42 43 44 45 46 47 48 49 50 51 52 53 54 55 56 57 58 59 60 61 62 63 64 65 66 67 68 69 70 71 72 73 74 75 76 77 78 79 80 81 82 83 84 85 86 87 88 89 90 91 92 93 94 95 96 97 98 99 "
     ]
    }
   ],
   "source": [
    "degree = 1\n",
    "df_PINNs, tab_h_PINNs, tab_err_PINNs = gains_enhanced_fem.run_pinns_deg(degree,u_theta,new_run=False)"
   ]
  },
  {
   "cell_type": "code",
   "execution_count": 26,
   "metadata": {},
   "outputs": [],
   "source": [
    "# gains_enhanced_fem.run_pinns_alldeg(new_run=False)"
   ]
  },
  {
   "cell_type": "markdown",
   "metadata": {},
   "source": [
    "### Run Add"
   ]
  },
  {
   "cell_type": "code",
   "execution_count": 27,
   "metadata": {},
   "outputs": [
    {
     "name": "stdout",
     "output_type": "stream",
     "text": [
      "## Run errrors with Corr for degree=1\n",
      "V_ex created with  501  vertices and degree  4  : h_ex = 0.0020000000000000018\n",
      "nb_vert=20\n",
      "V created with  20  vertices and degree  4  : h = 0.052631578947368474\n",
      "0 1 2 3 4 5 6 7 8 9 10 11 12 13 14 15 16 17 18 19 20 21 22 23 24 25 26 27 28 29 30 31 32 33 34 35 36 37 38 39 40 41 42 43 44 45 46 47 48 49 50 51 52 53 54 55 56 57 58 59 60 61 62 63 64 65 66 67 68 69 70 71 72 73 74 75 76 77 78 79 80 81 82 83 84 85 86 87 88 89 90 91 92 93 94 95 96 97 98 99 nb_vert=40\n",
      "V created with  40  vertices and degree  4  : h = 0.02564102564102566\n",
      "0 1 2 3 4 5 6 7 8 9 10 11 12 13 14 15 16 17 18 19 20 21 22 23 24 25 26 27 28 29 30 31 32 33 34 35 36 37 38 39 40 41 42 43 44 45 46 47 48 49 50 51 52 53 54 55 56 57 58 59 60 61 62 63 64 65 66 67 68 69 70 71 72 73 74 75 76 77 78 79 80 81 82 83 84 85 86 87 88 89 90 91 92 93 94 95 96 97 98 99 "
     ]
    }
   ],
   "source": [
    "degree = 1\n",
    "df_Corr, tab_h_Corr, tab_err_Corr = gains_enhanced_fem.run_corr_deg(degree,u_theta,new_run=False)"
   ]
  },
  {
   "cell_type": "code",
   "execution_count": 28,
   "metadata": {},
   "outputs": [],
   "source": [
    "# gains_enhanced_fem.run_corr_alldeg(new_run=False)"
   ]
  },
  {
   "cell_type": "markdown",
   "metadata": {},
   "source": [
    "### Run Mult"
   ]
  },
  {
   "cell_type": "code",
   "execution_count": null,
   "metadata": {},
   "outputs": [],
   "source": [
    "tab_M = [0.0]"
   ]
  },
  {
   "cell_type": "code",
   "execution_count": 36,
   "metadata": {},
   "outputs": [
    {
     "name": "stdout",
     "output_type": "stream",
     "text": [
      "## Read csv file : /home/u2/lecourtier/Article1/code/results/fenics/test_1D/testcase1/version2/gains/Mult_errors_case1_v2_degree1_M3.0.csv\n",
      "## Read csv file : /home/u2/lecourtier/Article1/code/results/fenics/test_1D/testcase1/version2/gains/Mult_errors_case1_v2_degree1_M100.0.csv\n"
     ]
    }
   ],
   "source": [
    "degree = 1\n",
    "gains_enhanced_fem.run_mult_deg_allM(degree,u_theta,tab_M,new_run=False)"
   ]
  },
  {
   "cell_type": "code",
   "execution_count": 31,
   "metadata": {},
   "outputs": [],
   "source": [
    "# gains_enhanced_fem.run_mult_alldeg_allM(tab_M,new_run=False)"
   ]
  },
  {
   "cell_type": "markdown",
   "metadata": {},
   "source": [
    "### Compare methods"
   ]
  },
  {
   "cell_type": "code",
   "execution_count": null,
   "metadata": {},
   "outputs": [
    {
     "name": "stdout",
     "output_type": "stream",
     "text": [
      "/home/u2/lecourtier/Article1/code/results/fenics/test_1D/testcase1/version2/gains/FEM_errors_case1_v2_degree1.csv\n",
      "Mult weak P1 M3.0 not found\n",
      "Mult weak P1 M100.0 not found\n"
     ]
    }
   ],
   "source": [
    "degree = 1\n",
    "# df_errors = compare_gains_methods.create_dferrors_deg_allM(degree,tab_M)\n",
    "df_gains = compare_gains_methods.create_dataframes_deg_allM(degree,tab_M)"
   ]
  },
  {
   "cell_type": "code",
   "execution_count": 34,
   "metadata": {},
   "outputs": [],
   "source": [
    "# compare_gains_methods.create_dataframes_alldeg_allM(tab_M)"
   ]
  },
  {
   "cell_type": "code",
   "execution_count": 35,
   "metadata": {},
   "outputs": [
    {
     "name": "stdout",
     "output_type": "stream",
     "text": [
      "/home/u2/lecourtier/Article1/code/results/fenics/test_1D/testcase1/version2/gains/FEM_errors_case1_v2_degree1.csv\n",
      "Mult weak P1 M3.0 not found\n",
      "Mult weak P1 M100.0 not found\n",
      "method           PINNs                       FEM                     \n",
      "type               min    max   mean   std   min    max   mean    std\n",
      "method    n_vert                                                     \n",
      "Corr      20      1.34  10.95   3.33  2.09  6.91  60.85  26.12  12.45\n",
      "          40      4.35  34.37  11.19  6.97  7.13  39.34  20.55   7.94\n",
      "Mult3.0   20      0.85  10.40   2.56  1.98  3.54  53.99  19.66  11.11\n",
      "          40      2.64  35.30   8.68  6.98  2.18  39.06  15.66   8.25\n",
      "Mult100.0 20      1.35  10.96   3.33  2.09  6.90  60.73  26.11  12.43\n",
      "          40      4.35  34.41  11.19  6.97  7.13  39.38  20.55   7.93\n"
     ]
    },
    {
     "name": "stderr",
     "output_type": "stream",
     "text": [
      "/home/u2/lecourtier/Article1/code/src/modfenics/gains/compare.py:252: FutureWarning: DataFrame.applymap has been deprecated. Use DataFrame.map instead.\n",
      "  df_stats_round = df_stats.applymap(lambda x: f\"{x:.2f}\")\n"
     ]
    }
   ],
   "source": [
    "df_stats = compare_gains_methods.save_stats_deg_allM(degree,tab_M)"
   ]
  }
 ],
 "metadata": {
  "kernelspec": {
   "display_name": "fenics_scimba_modules",
   "language": "python",
   "name": "python3"
  },
  "language_info": {
   "codemirror_mode": {
    "name": "ipython",
    "version": 3
   },
   "file_extension": ".py",
   "mimetype": "text/x-python",
   "name": "python",
   "nbconvert_exporter": "python",
   "pygments_lexer": "ipython3",
   "version": "3.9.16"
  }
 },
 "nbformat": 4,
 "nbformat_minor": 2
}
