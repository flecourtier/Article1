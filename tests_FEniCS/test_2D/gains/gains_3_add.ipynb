{
 "cells": [
  {
   "cell_type": "markdown",
   "metadata": {},
   "source": [
    "# TestCase3 - Comparaison gains PINNs/PINNs+Corr et FEM/PINNs+Corr"
   ]
  },
  {
   "cell_type": "code",
   "execution_count": 1,
   "metadata": {},
   "outputs": [],
   "source": [
    "# sélection du cas test\n",
    "testcase = 3\n",
    "size_param = \"new\"\n",
    "largenet = False\n",
    "degree = 1\n",
    "n_params = 1"
   ]
  },
  {
   "cell_type": "code",
   "execution_count": 2,
   "metadata": {},
   "outputs": [],
   "source": [
    "assert testcase == 3\n",
    "assert size_param in [\"small\",\"medium\",\"big\",\"new\"]"
   ]
  },
  {
   "cell_type": "markdown",
   "metadata": {},
   "source": [
    "**Idée :** On se place ici dans le TestCase3.\n",
    "\n",
    "On cherche à vérifier les gains obtenues pour\n",
    "\n",
    "- PINNs vs PINNs + Correction par addition\n",
    "- FEM vs PINNs + Correction par addition\n",
    "\n",
    "On choisira d'effectuer ces comparaisons sur 2 tailles de grilles fixées (20x20 et 40x40) en sélectionnant 50 paramètres aléatoires."
   ]
  },
  {
   "cell_type": "markdown",
   "metadata": {},
   "source": [
    "## Imports + Load"
   ]
  },
  {
   "cell_type": "code",
   "execution_count": 3,
   "metadata": {},
   "outputs": [],
   "source": [
    "%load_ext autoreload\n",
    "%autoreload 2"
   ]
  },
  {
   "cell_type": "code",
   "execution_count": 4,
   "metadata": {
    "metadata": {}
   },
   "outputs": [
    {
     "name": "stderr",
     "output_type": "stream",
     "text": [
      "hwloc/linux: Ignoring PCI device with non-16bit domain.\n",
      "Pass --enable-32bits-pci-domain to configure to support such devices\n",
      "(warning: it would break the library ABI, don't enable unless really needed).\n"
     ]
    },
    {
     "name": "stdout",
     "output_type": "stream",
     "text": [
      "Using device: cuda\n",
      "cuda devices:        1\n",
      "cuda current device: 0\n",
      "cuda device name:    NVIDIA RTX 2000 Ada Generation Laptop GPU\n"
     ]
    }
   ],
   "source": [
    "import numpy as np\n",
    "import matplotlib.pyplot as plt\n",
    "import torch\n",
    "import pandas as pd\n",
    "import os\n",
    "import dolfin as df\n",
    "import seaborn as sns\n",
    "import dataframe_image as dfi\n",
    "\n",
    "# from modfenics.fenics_expressions.fenics_expressions import UexExpr\n",
    "from scimba.equations.domain import SpaceTensor\n",
    "from scimba.equations import domain\n",
    "\n",
    "from testcases.utils import create_tree\n",
    "from testcases.geometry.geometry_2D import Square\n",
    "from modfenics.fenics_expressions.fenics_expressions_3 import FExpr,AnisotropyExpr\n",
    "\n",
    "device = torch.device(\"cuda\" if torch.cuda.is_available() else \"cpu\")"
   ]
  },
  {
   "cell_type": "code",
   "execution_count": 5,
   "metadata": {
    "metadata": {}
   },
   "outputs": [
    {
     "name": "stdout",
     "output_type": "stream",
     "text": [
      "torch loaded; device is cuda\n",
      "hmax =  0.07443229275647877\n",
      "hmax =  0.036261886214694776\n"
     ]
    }
   ],
   "source": [
    "if size_param != \"new\":\n",
    "    from testcases.networks.test_2D.test_3.test_3_v1 import Run_laplacian2D,Poisson_2D\n",
    "else:\n",
    "    from testcases.networks.test_2D.test_3.test_3_v2 import Run_laplacian2D,Poisson_2D\n",
    "from testcases.problem.problem_2D import TestCase3,TestCase3_new,TestCase3_small_param,TestCase3_medium_param\n",
    "from modfenics.solver_fem.solver_fem_3 import FEMSolver\n",
    "    \n",
    "if size_param == \"big\":\n",
    "    problem = TestCase3()\n",
    "elif size_param == \"medium\":\n",
    "    problem = TestCase3_medium_param()\n",
    "elif size_param == \"new\":\n",
    "    problem = TestCase3_new()\n",
    "else:\n",
    "    problem = TestCase3_small_param()\n",
    "\n",
    "dim_params = problem.nb_parameters\n",
    "result_dir = \"../../../results/test_2D/testcase\"+str(testcase)+\"/\"+size_param\n",
    "if size_param == \"medium\" and largenet:\n",
    "    result_dir += \"_largenet\"\n",
    "result_dir += \"/facteurs/\"\n",
    "create_tree(result_dir)\n",
    "\n",
    "tab_nb_vert = [20,40]\n",
    "tab_h = []\n",
    "for nb_vert in tab_nb_vert:\n",
    "    solver = FEMSolver(nb_cell=nb_vert-1, params=[[]], problem=problem, degree=degree)\n",
    "    tab_h.append(np.round(solver.mesh.hmax(),2))"
   ]
  },
  {
   "cell_type": "code",
   "execution_count": 6,
   "metadata": {
    "metadata": {}
   },
   "outputs": [
    {
     "name": "stdout",
     "output_type": "stream",
     "text": [
      "init\n",
      "init\n",
      ">> load network /home/flecourtier/Bureau/Article1/code/networks/test_2D/test_fe3_new.pth\n",
      "network loaded\n"
     ]
    }
   ],
   "source": [
    "if size_param != \"new\":\n",
    "    pde = Poisson_2D(size_param)\n",
    "    trainer,u_theta = Run_laplacian2D(pde,size_param,largenet)\n",
    "else:\n",
    "    pde = Poisson_2D()\n",
    "    trainer,u_theta = Run_laplacian2D(pde)"
   ]
  },
  {
   "cell_type": "code",
   "execution_count": 7,
   "metadata": {
    "metadata": {}
   },
   "outputs": [],
   "source": [
    "def get_params(n_params):\n",
    "    parameter_domain = trainer.pde.parameter_domain.cpu().numpy()\n",
    "    # pick 1 random parameter\n",
    "    np.random.seed(0)\n",
    "    params = []\n",
    "    for j in range(n_params):\n",
    "        param = []\n",
    "        for k in range(len(parameter_domain)):\n",
    "            param.append(np.random.uniform(parameter_domain[k][0], parameter_domain[k][1]))\n",
    "        params.append(param)\n",
    "    # params = np.round(params, 2)\n",
    "    return np.array(params)\n",
    "\n",
    "params = get_params(n_params)\n",
    "params_str = np.array([f\"{params[i][0].round(2)},{params[i][1].round(2)},{params[i][2].round(2)},{params[i][3].round(2)}\" for i in range(n_params)])"
   ]
  },
  {
   "cell_type": "markdown",
   "metadata": {},
   "source": [
    "## Solution de référence"
   ]
  },
  {
   "cell_type": "code",
   "execution_count": 8,
   "metadata": {
    "metadata": {}
   },
   "outputs": [
    {
     "name": "stdout",
     "output_type": "stream",
     "text": [
      "hmax =  0.002834095315376947\n"
     ]
    }
   ],
   "source": [
    "def create_ref_domain(deg):\n",
    "    nb_vert = 500\n",
    "\n",
    "    # check if pb_considered is instance of Square class\n",
    "    if isinstance(problem.geometry, Square):\n",
    "        box = np.array(problem.geometry.box)\n",
    "        mesh_ref = df.RectangleMesh(df.Point(box[0,0], box[1,0]), df.Point(box[0,1], box[1,1]), nb_vert - 1, nb_vert - 1)\n",
    "    else:\n",
    "        raise ValueError(\"Geometry not implemented\")\n",
    "    \n",
    "    V_ref = df.FunctionSpace(mesh_ref, \"CG\", deg)\n",
    "    dx_ref = df.Measure(\"dx\", domain=mesh_ref)\n",
    "    \n",
    "    h_ref = mesh_ref.hmax()\n",
    "    print(\"hmax = \",h_ref)\n",
    "\n",
    "    return mesh_ref, V_ref, dx_ref\n",
    "    \n",
    "def get_uref(param, mesh_ref, V_ref, dx_ref):\n",
    "    \n",
    "    boundary = \"on_boundary\"\n",
    "\n",
    "    mat = AnisotropyExpr(param, degree=10, domain=mesh_ref, pb_considered=problem) \n",
    "    # mat = df.Expression(((\"eps * x[0]*x[0] + x[1]*x[1]\",\"(eps - 1) * x[0] * x[1]\"),\n",
    "    #                 (\"(eps - 1) * x[0] * x[1]\",\"x[0]*x[0] + eps * x[1]*x[1]\")), \n",
    "    #                 eps=param[3],\n",
    "    #                 degree=10, \n",
    "    #                 domain=mesh_ref)\n",
    "    \n",
    "    f_expr = FExpr(param, degree=10, domain=mesh_ref, pb_considered=problem)\n",
    "    \n",
    "    g = df.Constant(\"0.0\")\n",
    "    bc = df.DirichletBC(V_ref, g, boundary)\n",
    "\n",
    "    u = df.TrialFunction(V_ref)\n",
    "    v = df.TestFunction(V_ref)\n",
    "    \n",
    "    # Resolution of the variationnal problem\n",
    "\n",
    "    a = df.inner(mat*df.grad(u),df.grad(v)) * dx_ref\n",
    "    l = f_expr * v * dx_ref\n",
    "\n",
    "    sol = df.Function(V_ref)\n",
    "    df.solve(a==l, sol, bcs=bc)\n",
    "\n",
    "    return sol\n",
    "\n",
    "mesh_ref, V_ref, dx_ref = create_ref_domain(deg=2)\n"
   ]
  },
  {
   "cell_type": "code",
   "execution_count": 9,
   "metadata": {},
   "outputs": [],
   "source": [
    "loadresult = True\n",
    "\n",
    "savedir = result_dir + \"u_ref/\"\n",
    "create_tree(savedir)\n",
    "\n",
    "tab_u_ref = []\n",
    "if not loadresult:\n",
    "    for i,param in enumerate(params):\n",
    "        print(i, param)\n",
    "        filename = savedir + f\"u_ref_{i}.npy\"\n",
    "        u_ref = get_uref(param, mesh_ref, V_ref, dx_ref)\n",
    "        vct_u_ref = u_ref.vector().get_local()\n",
    "        np.save(filename, vct_u_ref)\n",
    "        tab_u_ref.append(u_ref)\n",
    "else:\n",
    "    for i,param in enumerate(params):\n",
    "        filename = savedir + f\"u_ref_{i}.npy\"\n",
    "        if os.path.exists(filename):\n",
    "            vct_u_ref = np.load(filename)\n",
    "            u_ref = df.Function(V_ref)\n",
    "            u_ref.vector()[:] = vct_u_ref\n",
    "            tab_u_ref.append(u_ref)\n",
    "        else:\n",
    "            print(i, param)\n",
    "            u_ref = get_uref(param, mesh_ref, V_ref, dx_ref)\n",
    "            vct_u_ref = u_ref.vector().get_local()\n",
    "            np.save(filename, vct_u_ref)\n",
    "            tab_u_ref.append(u_ref)\n",
    "            "
   ]
  },
  {
   "cell_type": "markdown",
   "metadata": {},
   "source": [
    "## Erreurs FEM"
   ]
  },
  {
   "cell_type": "code",
   "execution_count": 10,
   "metadata": {
    "metadata": {}
   },
   "outputs": [],
   "source": [
    "def read_csv_FEM(testcase,degree):\n",
    "    df_FEM = pd.read_csv(result_dir+f'FEM_case{testcase}_degree{degree}.csv')\n",
    "    tab_err_FEM = df_FEM.values[2:,1:]\n",
    "    return tab_err_FEM\n",
    "\n",
    "def run_FEM(degree,new_run=False):\n",
    "    csv_file = result_dir+f'FEM_case{testcase}_degree{degree}.csv'\n",
    "    col_names = [(\"FEM\",str(tab_nb_vert[i]),tab_h[i]) for i in range(len(tab_nb_vert))]\n",
    "    mi = pd.MultiIndex.from_tuples(col_names, names=[\"method\",\"n_vert\",\"h\"])\n",
    "        \n",
    "    if not new_run and os.path.exists(csv_file):\n",
    "        tab_err_FEM = read_csv_FEM(testcase,degree)\n",
    "        df_FEM = pd.DataFrame(tab_err_FEM,columns=mi)\n",
    "        print(f\"Read csv file {csv_file}\")\n",
    "    else:\n",
    "        tab_err_FEM = np.zeros((n_params,len(tab_nb_vert)))\n",
    "        for (j,nb_vert) in enumerate(tab_nb_vert):\n",
    "            print(f\"nb_vert={nb_vert}\")\n",
    "            solver = FEMSolver(nb_cell=nb_vert-1, params=params, problem=problem, degree=degree)\n",
    "            print(\"param =\",end=\" \")\n",
    "            for i in range(n_params):\n",
    "                print(i,end=\" \")\n",
    "                _,norme_L2 = solver.fem(i,tab_u_ref[i])\n",
    "                tab_err_FEM[i,j] = norme_L2\n",
    "            print()\n",
    "        \n",
    "        df_FEM = pd.DataFrame(tab_err_FEM,columns=mi)\n",
    "        df_FEM.to_csv(csv_file)\n",
    "           \n",
    "    return df_FEM, tab_err_FEM"
   ]
  },
  {
   "cell_type": "code",
   "execution_count": 11,
   "metadata": {
    "metadata": {}
   },
   "outputs": [
    {
     "name": "stdout",
     "output_type": "stream",
     "text": [
      "nb_vert=20\n",
      "hmax =  0.07443229275647877\n",
      "param = 0 \n",
      "nb_vert=40\n",
      "hmax =  0.036261886214694776\n",
      "param = 0 \n"
     ]
    }
   ],
   "source": [
    "df_FEM, tab_err_FEM = run_FEM(degree,new_run=True)"
   ]
  },
  {
   "cell_type": "markdown",
   "metadata": {},
   "source": [
    "## Erreurs PINNs"
   ]
  },
  {
   "cell_type": "code",
   "execution_count": 12,
   "metadata": {
    "metadata": {}
   },
   "outputs": [],
   "source": [
    "def get_test_sample(i,solver,trainer,deg_PINNs):\n",
    "    # get coordinates of the dof\n",
    "    V_test = df.FunctionSpace(solver.mesh,\"CG\",deg_PINNs)\n",
    "    XXYY = V_test.tabulate_dof_coordinates()\n",
    "    X_test = torch.tensor(XXYY,requires_grad=True)\n",
    "    X_test = SpaceTensor(X_test,torch.zeros_like(X_test,dtype=int))\n",
    "\n",
    "    # get parameters\n",
    "    nb_params = len(trainer.pde.parameter_domain)\n",
    "    shape = (XXYY.shape[0],nb_params)\n",
    "    ones = torch.ones(shape)\n",
    "    mu_test = (torch.Tensor(params[i]).to(device) * ones).to(device)\n",
    "\n",
    "    return V_test,X_test,mu_test"
   ]
  },
  {
   "cell_type": "code",
   "execution_count": 13,
   "metadata": {
    "metadata": {}
   },
   "outputs": [],
   "source": [
    "def read_csv_PINNs(testcase,degree):\n",
    "    df_PINNs = pd.read_csv(result_dir+f'PINNs_case{testcase}_degree{degree}.csv')\n",
    "    tab_err_PINNs = df_PINNs.values[2:,1:]\n",
    "    \n",
    "    return tab_err_PINNs\n",
    "\n",
    "def run_PINNs(degree,new_run=False):\n",
    "    csv_file = result_dir+f'PINNs_case{testcase}_degree{degree}.csv'\n",
    "    col_names = [(\"PINNs\",str(tab_nb_vert[i]),tab_h[i]) for i in range(len(tab_nb_vert))]\n",
    "    mi = pd.MultiIndex.from_tuples(col_names, names=[\"method\",\"n_vert\",\"h\"])\n",
    "    if not new_run and os.path.exists(csv_file):\n",
    "        tab_err_PINNs = read_csv_PINNs(testcase,degree)\n",
    "        df_PINNs = pd.DataFrame(tab_err_PINNs,columns=mi)\n",
    "        print(f\"Read csv file {csv_file}\")\n",
    "    else:\n",
    "        tab_err_PINNs = np.zeros((n_params,len(tab_nb_vert)))\n",
    "\n",
    "        for (j,nb_vert) in enumerate(tab_nb_vert):\n",
    "            print(f\"nb_vert={nb_vert}\")\n",
    "            solver = FEMSolver(nb_cell=nb_vert-1, params=params, problem=problem, degree=degree)\n",
    "            degree_PINNs = solver.high_degree\n",
    "            print(\"param =\",end=\" \")\n",
    "            for i in range(n_params):\n",
    "                print(i,end=\" \")\n",
    "                V_test,X_test,mu_test = get_test_sample(i,solver,trainer,degree_PINNs)\n",
    "                pred = u_theta.setup_w_dict(X_test, mu_test)\n",
    "                phi_tild = pred[\"w\"][:,0].cpu().detach().numpy()\n",
    "                \n",
    "                u_PINNs = df.Function(V_test)\n",
    "                u_PINNs.vector()[:] = phi_tild.copy()\n",
    "\n",
    "                uref_Vex = df.interpolate(tab_u_ref[i],solver.V_ex)\n",
    "                norme_L2 = (df.assemble((((uref_Vex - u_PINNs)) ** 2) * solver.dx) ** (0.5)) / (df.assemble((((uref_Vex)) ** 2) * solver.dx) ** (0.5))\n",
    "            \n",
    "                tab_err_PINNs[i,j] = norme_L2\n",
    "            print()\n",
    "\n",
    "        \n",
    "        df_PINNs = pd.DataFrame(tab_err_PINNs,columns=mi)\n",
    "        df_PINNs.to_csv(csv_file)\n",
    "        \n",
    "    return df_PINNs, tab_err_PINNs"
   ]
  },
  {
   "cell_type": "code",
   "execution_count": 14,
   "metadata": {
    "metadata": {}
   },
   "outputs": [
    {
     "name": "stdout",
     "output_type": "stream",
     "text": [
      "nb_vert=20\n",
      "hmax =  0.07443229275647877\n",
      "param = 0 Calling FFC just-in-time (JIT) compiler, this may take some time.\n",
      "  WARNING: The number of integration points for each cell will be: 121\n",
      "           Consider using the option 'quadrature_degree' to reduce the number of points\n",
      "\n",
      "nb_vert=40\n",
      "hmax =  0.036261886214694776\n",
      "param = 0 \n"
     ]
    }
   ],
   "source": [
    "df_PINNs, tab_err_PINNs = run_PINNs(degree,new_run=True)"
   ]
  },
  {
   "cell_type": "markdown",
   "metadata": {},
   "source": [
    "## Erreurs Corr"
   ]
  },
  {
   "cell_type": "code",
   "execution_count": 15,
   "metadata": {
    "metadata": {}
   },
   "outputs": [],
   "source": [
    "def read_csv_Corr(testcase,degree):\n",
    "    df_Corr = pd.read_csv(result_dir+f'Corr_case{testcase}_degree{degree}.csv')\n",
    "    tab_err_Corr = df_Corr.values[2:,1:]\n",
    "    \n",
    "    return tab_err_Corr\n",
    "\n",
    "def run_Corr(degree,new_run=False):\n",
    "    csv_file = result_dir+f'Corr_case{testcase}_degree{degree}.csv'\n",
    "    col_names = [(\"Corr\",str(tab_nb_vert[i]),tab_h[i]) for i in range(len(tab_nb_vert))]\n",
    "    mi = pd.MultiIndex.from_tuples(col_names, names=[\"method\",\"n_vert\",\"h\"])\n",
    "    if not new_run and os.path.exists(csv_file):\n",
    "        tab_err_Corr = read_csv_Corr(testcase,degree)\n",
    "        df_Corr = pd.DataFrame(tab_err_Corr,columns=mi)\n",
    "        print(f\"Read csv file {csv_file}\")\n",
    "    else:\n",
    "        tab_err_Corr = np.zeros((n_params,len(tab_nb_vert)))\n",
    "\n",
    "        for (j,nb_vert) in enumerate(tab_nb_vert):\n",
    "            print(f\"nb_vert={nb_vert}\")\n",
    "            solver = FEMSolver(nb_cell=nb_vert-1, params=params, problem=problem, degree=degree)\n",
    "            degree_Corr = solver.high_degree\n",
    "            print(\"param =\",end=\" \")\n",
    "            for i in range(n_params):\n",
    "                print(i,end=\" \")\n",
    "                V_test,X_test,mu_test = get_test_sample(i,solver,trainer,degree_Corr)\n",
    "                pred = u_theta.setup_w_dict(X_test, mu_test)\n",
    "                phi_tild = pred[\"w\"][:,0].cpu().detach().numpy()\n",
    "                \n",
    "                u_PINNs = df.Function(V_test)\n",
    "                u_PINNs.vector()[:] = phi_tild.copy()\n",
    "                \n",
    "                _,_,norme_L2 = solver.corr_add(i,u_PINNs,tab_u_ref[i])\n",
    "                tab_err_Corr[i,j] = norme_L2\n",
    "            print()\n",
    "\n",
    "        df_Corr = pd.DataFrame(tab_err_Corr,columns=mi)\n",
    "        df_Corr.to_csv(csv_file)\n",
    "        \n",
    "    return df_Corr, tab_err_Corr"
   ]
  },
  {
   "cell_type": "code",
   "execution_count": 16,
   "metadata": {
    "metadata": {}
   },
   "outputs": [
    {
     "name": "stdout",
     "output_type": "stream",
     "text": [
      "nb_vert=20\n",
      "hmax =  0.07443229275647877\n",
      "param = 0 Calling FFC just-in-time (JIT) compiler, this may take some time.\n",
      "  WARNING: The number of integration points for each cell will be: 100\n",
      "           Consider using the option 'quadrature_degree' to reduce the number of points\n",
      "\n",
      "nb_vert=40\n",
      "hmax =  0.036261886214694776\n",
      "param = 0 \n"
     ]
    }
   ],
   "source": [
    "df_Corr, tab_err_Corr = run_Corr(degree)"
   ]
  },
  {
   "cell_type": "markdown",
   "metadata": {},
   "source": [
    "## Dataframe erreurs"
   ]
  },
  {
   "cell_type": "code",
   "execution_count": 17,
   "metadata": {
    "metadata": {}
   },
   "outputs": [],
   "source": [
    "# concatenate dataframe : for each columns, we have the error for each method\n",
    "# we want a multiindex dataframe with FEM, PINNs and Corr for each n_vert and h\n",
    "col_names = [(\"FEM\",str(tab_nb_vert[i]),str(tab_h[i])) for i in range(len(tab_nb_vert))] + \\\n",
    "        [(\"PINNs\",str(tab_nb_vert[i]),str(tab_h[i])) for i in range(len(tab_nb_vert))] + \\\n",
    "        [(\"Corr\",str(tab_nb_vert[i]),str(tab_h[i])) for i in range(len(tab_nb_vert))]\n",
    "\n",
    "mi = pd.MultiIndex.from_tuples(col_names, names=[\"method\",\"n_vert\",\"h\"])\n",
    "row_names = [str(i) + \" : \" + params_str[i] for i in range(n_params)]\n",
    "df = pd.DataFrame(columns=mi,index=row_names)\n",
    "\n",
    "for i in range(n_params):\n",
    "    for j in range(len(tab_nb_vert)):\n",
    "        df.loc[row_names[i],col_names[j]] = tab_err_FEM[i,j]\n",
    "        j2=j+1\n",
    "    for j in range(len(tab_nb_vert)):\n",
    "        df.loc[row_names[i],col_names[j2+j]] = tab_err_PINNs[i,j]\n",
    "        j3 = j2+j+1\n",
    "    for j in range(len(tab_nb_vert)):\n",
    "        df.loc[row_names[i],col_names[j3+j]] = tab_err_Corr[i,j]\n",
    "        \n",
    "df.to_csv(result_dir+f'comparison_case{testcase}_degree{degree}.csv')"
   ]
  },
  {
   "cell_type": "markdown",
   "metadata": {},
   "source": [
    "## Dataframe facteurs"
   ]
  },
  {
   "cell_type": "code",
   "execution_count": 18,
   "metadata": {
    "metadata": {}
   },
   "outputs": [],
   "source": [
    "facteurs_PINNs_Corr = df[\"PINNs\"] / df[\"Corr\"]\n",
    "facteurs_FEM_PINNs = df[\"FEM\"] / df[\"PINNs\"]\n",
    "facteurs_FEM_Corr = df[\"FEM\"] / df[\"Corr\"]\n",
    "\n",
    "col_names = [(\"FEM/PINNs\",str(tab_nb_vert[i]),str(tab_h[i].round(2))) for i in range(len(tab_nb_vert))] + \\\n",
    "        [(\"PINNs/Corr\",str(tab_nb_vert[i]),str(tab_h[i].round(2))) for i in range(len(tab_nb_vert))] + \\\n",
    "        [(\"FEM/Corr\",str(tab_nb_vert[i]),str(tab_h[i].round(2))) for i in range(len(tab_nb_vert))]\n",
    "mi = pd.MultiIndex.from_tuples(col_names, names=[\"facteurs\",\"n_vert\",\"h\"])\n",
    "\n",
    "index_names = [str(i) + \" : \" + params_str[i] for i in range(n_params)]\n",
    "df_facteurs = pd.DataFrame(columns=mi,index=index_names)\n",
    "\n",
    "for i in range(n_params):\n",
    "    for j in range(len(tab_nb_vert)):\n",
    "        df_facteurs.loc[index_names[i],col_names[j]] = facteurs_FEM_PINNs.to_numpy()[i,j]\n",
    "        j2=j+1\n",
    "    for j in range(len(tab_nb_vert)):\n",
    "        df_facteurs.loc[index_names[i],col_names[j2+j]] = facteurs_PINNs_Corr.to_numpy()[i,j]\n",
    "        j3 = j2+j+1\n",
    "    for j in range(len(tab_nb_vert)):\n",
    "        df_facteurs.loc[index_names[i],col_names[j3+j]] = facteurs_FEM_Corr.to_numpy()[i,j]\n",
    "        \n",
    "df_facteurs.to_csv(result_dir+f'comparison_facteurs_case{testcase}_degree{degree}.csv')\n"
   ]
  },
  {
   "cell_type": "code",
   "execution_count": 19,
   "metadata": {},
   "outputs": [
    {
     "data": {
      "text/html": [
       "<div>\n",
       "<style scoped>\n",
       "    .dataframe tbody tr th:only-of-type {\n",
       "        vertical-align: middle;\n",
       "    }\n",
       "\n",
       "    .dataframe tbody tr th {\n",
       "        vertical-align: top;\n",
       "    }\n",
       "\n",
       "    .dataframe thead tr th {\n",
       "        text-align: left;\n",
       "    }\n",
       "</style>\n",
       "<table border=\"1\" class=\"dataframe\">\n",
       "  <thead>\n",
       "    <tr>\n",
       "      <th>facteurs</th>\n",
       "      <th colspan=\"2\" halign=\"left\">FEM/PINNs</th>\n",
       "      <th colspan=\"2\" halign=\"left\">PINNs/Corr</th>\n",
       "      <th colspan=\"2\" halign=\"left\">FEM/Corr</th>\n",
       "    </tr>\n",
       "    <tr>\n",
       "      <th>n_vert</th>\n",
       "      <th>20</th>\n",
       "      <th>40</th>\n",
       "      <th>20</th>\n",
       "      <th>40</th>\n",
       "      <th>20</th>\n",
       "      <th>40</th>\n",
       "    </tr>\n",
       "    <tr>\n",
       "      <th>h</th>\n",
       "      <th>0.07</th>\n",
       "      <th>0.04</th>\n",
       "      <th>0.07</th>\n",
       "      <th>0.04</th>\n",
       "      <th>0.07</th>\n",
       "      <th>0.04</th>\n",
       "    </tr>\n",
       "  </thead>\n",
       "  <tbody>\n",
       "    <tr>\n",
       "      <th>0 : 0.51,0.54,0.64,0.77</th>\n",
       "      <td>1.317493</td>\n",
       "      <td>0.323599</td>\n",
       "      <td>29.24979</td>\n",
       "      <td>112.69253</td>\n",
       "      <td>38.536398</td>\n",
       "      <td>36.46724</td>\n",
       "    </tr>\n",
       "  </tbody>\n",
       "</table>\n",
       "</div>"
      ],
      "text/plain": [
       "facteurs                FEM/PINNs           PINNs/Corr              FEM/Corr  \\\n",
       "n_vert                         20        40         20         40         20   \n",
       "h                            0.07      0.04       0.07       0.04       0.07   \n",
       "0 : 0.51,0.54,0.64,0.77  1.317493  0.323599   29.24979  112.69253  38.536398   \n",
       "\n",
       "facteurs                           \n",
       "n_vert                         40  \n",
       "h                            0.04  \n",
       "0 : 0.51,0.54,0.64,0.77  36.46724  "
      ]
     },
     "execution_count": 19,
     "metadata": {},
     "output_type": "execute_result"
    }
   ],
   "source": [
    "df_facteurs"
   ]
  },
  {
   "cell_type": "markdown",
   "metadata": {},
   "source": [
    "## Boxplots"
   ]
  },
  {
   "cell_type": "code",
   "execution_count": 65,
   "metadata": {
    "metadata": {}
   },
   "outputs": [],
   "source": [
    "sns.set_style('darkgrid')\n",
    "sns.set_theme(style=\"ticks\")\n",
    "sns.set_context(\"paper\")\n",
    "    \n",
    "def plot_boxplot(i):\n",
    "    n_vert = tab_nb_vert[i]\n",
    "    \n",
    "    # on crée une dataframe contenant les facteurs pour chaque méthode avec n_vert=n_vert\n",
    "    df_facteurs_n_vert = df_facteurs[[col for col in df_facteurs.columns if col[1] == str(n_vert)]]\n",
    "    # on supprime la première colonne \n",
    "    df_facteurs_n_vert = df_facteurs_n_vert.drop(columns=[df_facteurs_n_vert.columns[0]])\n",
    "    \n",
    "    # on change les noms des colonnes\n",
    "    df_facteurs_n_vert.columns = [col[0] for col in df_facteurs_n_vert.columns]\n",
    "\n",
    "    sns.boxplot(data=df_facteurs_n_vert, orient=\"h\", palette=\"Set2\")\n",
    "    plt.grid(axis=\"x\", visible=True, which=\"both\")\n",
    "    plt.title(f\"n_vert={n_vert}, n_params={n_params}\")\n",
    "    \n",
    "    return df_facteurs_n_vert\n",
    "\n",
    "def plot_table(df_facteurs_n_vert,ax):\n",
    "    df_min = df_facteurs_n_vert.min(axis=0)\n",
    "    df_max = df_facteurs_n_vert.max(axis=0)\n",
    "    df_mean = df_facteurs_n_vert.mean(axis=0)\n",
    "    \n",
    "    df_val = pd.concat([df_min,df_max,df_mean],axis=1).T\n",
    "    tab = df_val.values.T.astype(float)\n",
    "    tab = np.round(tab,2)\n",
    "\n",
    "    thetable = ax.table(cellText=tab, rowLabels=df_facteurs_n_vert.columns, colLabels=[\"min\",\"max\",\"mean\"], loc='right', cellLoc='center', colLoc='center', bbox=[0,0,1,1])\n",
    "    thetable.scale(1.,0.8)\n",
    "    thetable.auto_set_font_size(False)\n",
    "    \n",
    "    ax.axis('off')"
   ]
  },
  {
   "cell_type": "code",
   "execution_count": 66,
   "metadata": {
    "metadata": {}
   },
   "outputs": [
    {
     "data": {
      "image/png": "[encoded data removed]",
      "text/plain": [
       "<Figure size 800x800 with 4 Axes>"
      ]
     },
     "metadata": {},
     "output_type": "display_data"
    }
   ],
   "source": [
    "nb_test = len(tab_nb_vert)\n",
    "\n",
    "plt.figure(figsize=(8,nb_test*4))\n",
    "\n",
    "for i in range(nb_test):\n",
    "    plt.subplot(nb_test,2,2*i+1)\n",
    "    df_facteurs_n_vert = plot_boxplot(i)\n",
    "\n",
    "    ax = plt.subplot(nb_test,2,2*i+2)\n",
    "    plot_table(df_facteurs_n_vert,ax)\n",
    "\n",
    "plt.tight_layout()\n",
    "plt.savefig(result_dir+f'boxplot_facteurs_case{testcase}_degree{degree}.png')\n",
    "plt.show()"
   ]
  },
  {
   "cell_type": "markdown",
   "metadata": {},
   "source": [
    "## Table"
   ]
  },
  {
   "cell_type": "code",
   "execution_count": 67,
   "metadata": {},
   "outputs": [],
   "source": [
    "def get_df_facteurs_n_vert(i):\n",
    "    n_vert = tab_nb_vert[i]\n",
    "    \n",
    "    # on crée une dataframe contenant les facteurs pour chaque méthode avec n_vert=n_vert\n",
    "    df_facteurs_n_vert = df_facteurs[[col for col in df_facteurs.columns if col[1] == str(n_vert)]]\n",
    "    # on supprime la première colonne \n",
    "    df_facteurs_n_vert = df_facteurs_n_vert.drop(columns=[df_facteurs_n_vert.columns[0]])\n",
    "    \n",
    "    # on change les noms des colonnes\n",
    "    df_facteurs_n_vert.columns = [col[0] for col in df_facteurs_n_vert.columns]\n",
    "    \n",
    "    return df_facteurs_n_vert\n",
    "\n",
    "def get_values(df_facteurs_n_vert):\n",
    "    df_min = df_facteurs_n_vert.min(axis=0)\n",
    "    df_max = df_facteurs_n_vert.max(axis=0)\n",
    "    df_mean = df_facteurs_n_vert.mean(axis=0)\n",
    "    df_std = df_facteurs_n_vert.std(axis=0)\n",
    "    \n",
    "    return [df_min[\"PINNs/Corr\"],df_max[\"PINNs/Corr\"],df_mean[\"PINNs/Corr\"],df_std[\"PINNs/Corr\"]], \\\n",
    "            [df_min[\"FEM/Corr\"],df_max[\"FEM/Corr\"],df_mean[\"FEM/Corr\"],df_std[\"FEM/Corr\"]]"
   ]
  },
  {
   "cell_type": "code",
   "execution_count": 68,
   "metadata": {},
   "outputs": [],
   "source": [
    "nb_test = len(tab_nb_vert)\n",
    "\n",
    "tab_gains_on_PINNs = []\n",
    "tab_gains_on_FEM = []\n",
    "\n",
    "for i in range(nb_test):\n",
    "    df_facteurs_n_vert = get_df_facteurs_n_vert(i)\n",
    "    gains_on_PINNs,gains_on_FEM = get_values(df_facteurs_n_vert)\n",
    "    tab_gains_on_PINNs.append(gains_on_PINNs)\n",
    "    tab_gains_on_FEM.append(gains_on_FEM)\n",
    "    \n",
    "tab_gains_on_PINNs = np.array(tab_gains_on_PINNs)\n",
    "tab_gains_on_FEM = np.array(tab_gains_on_FEM)\n",
    "\n",
    "columns= [\"N\",\"min_PINNs\",\"max_PINNs\",\"mean_PINNs\",\"std_PINNs\",\"min_FEM\",\"max_FEM\",\"mean_FEM\",\"std_FEM\"]\n",
    "\n",
    "df_gains = pd.DataFrame(np.concatenate([np.array(tab_nb_vert).reshape(-1,1),tab_gains_on_PINNs,tab_gains_on_FEM],axis=1),columns=columns)"
   ]
  },
  {
   "cell_type": "code",
   "execution_count": 69,
   "metadata": {},
   "outputs": [
    {
     "data": {
      "text/html": [
       "<div>\n",
       "<style scoped>\n",
       "    .dataframe tbody tr th:only-of-type {\n",
       "        vertical-align: middle;\n",
       "    }\n",
       "\n",
       "    .dataframe tbody tr th {\n",
       "        vertical-align: top;\n",
       "    }\n",
       "\n",
       "    .dataframe thead th {\n",
       "        text-align: right;\n",
       "    }\n",
       "</style>\n",
       "<table border=\"1\" class=\"dataframe\">\n",
       "  <thead>\n",
       "    <tr style=\"text-align: right;\">\n",
       "      <th></th>\n",
       "      <th>N</th>\n",
       "      <th>min_PINNs</th>\n",
       "      <th>max_PINNs</th>\n",
       "      <th>mean_PINNs</th>\n",
       "      <th>std_PINNs</th>\n",
       "      <th>min_FEM</th>\n",
       "      <th>max_FEM</th>\n",
       "      <th>mean_FEM</th>\n",
       "      <th>std_FEM</th>\n",
       "    </tr>\n",
       "  </thead>\n",
       "  <tbody>\n",
       "    <tr>\n",
       "      <th>0</th>\n",
       "      <td>20.0</td>\n",
       "      <td>29.606325</td>\n",
       "      <td>583.663750</td>\n",
       "      <td>184.151886</td>\n",
       "      <td>137.619321</td>\n",
       "      <td>2.108400</td>\n",
       "      <td>24.623544</td>\n",
       "      <td>12.096587</td>\n",
       "      <td>5.962015</td>\n",
       "    </tr>\n",
       "    <tr>\n",
       "      <th>1</th>\n",
       "      <td>40.0</td>\n",
       "      <td>173.824294</td>\n",
       "      <td>5015.291027</td>\n",
       "      <td>1414.894178</td>\n",
       "      <td>1174.995015</td>\n",
       "      <td>1.763961</td>\n",
       "      <td>22.566203</td>\n",
       "      <td>10.278489</td>\n",
       "      <td>5.929664</td>\n",
       "    </tr>\n",
       "  </tbody>\n",
       "</table>\n",
       "</div>"
      ],
      "text/plain": [
       "      N   min_PINNs    max_PINNs   mean_PINNs    std_PINNs   min_FEM  \\\n",
       "0  20.0   29.606325   583.663750   184.151886   137.619321  2.108400   \n",
       "1  40.0  173.824294  5015.291027  1414.894178  1174.995015  1.763961   \n",
       "\n",
       "     max_FEM   mean_FEM   std_FEM  \n",
       "0  24.623544  12.096587  5.962015  \n",
       "1  22.566203  10.278489  5.929664  "
      ]
     },
     "execution_count": 69,
     "metadata": {},
     "output_type": "execute_result"
    }
   ],
   "source": [
    "df_gains"
   ]
  },
  {
   "cell_type": "code",
   "execution_count": 70,
   "metadata": {},
   "outputs": [],
   "source": [
    "result_file = result_dir+f'gains_table_case{testcase}_degree{degree}'\n",
    "\n",
    "df_gains.to_csv(result_file+'.csv')\n",
    "\n",
    "df_styled = df_gains.style.format(\"{:.2e}\")\n",
    "dfi.export(df_styled,result_file+\".png\",dpi=1000)"
   ]
  },
  {
   "cell_type": "code",
   "execution_count": null,
   "metadata": {},
   "outputs": [],
   "source": []
  },
  {
   "cell_type": "code",
   "execution_count": null,
   "metadata": {},
   "outputs": [],
   "source": []
  }
 ],
 "metadata": {
  "kernelspec": {
   "display_name": "phifem_scimba_2",
   "language": "python",
   "name": "python3"
  },
  "language_info": {
   "codemirror_mode": {
    "name": "ipython",
    "version": 3
   },
   "file_extension": ".py",
   "mimetype": "text/x-python",
   "name": "python",
   "nbconvert_exporter": "python",
   "pygments_lexer": "ipython3",
   "version": "3.9.16"
  }
 },
 "nbformat": 4,
 "nbformat_minor": 2
}
