{
 "cells": [
  {
   "cell_type": "markdown",
   "metadata": {},
   "source": [
    "# TestCase3 - Convergence FEM / PINNs+Corr"
   ]
  },
  {
   "cell_type": "code",
   "execution_count": null,
   "metadata": {
    "metadata": {}
   },
   "outputs": [],
   "source": [
    "from create_jsonfile import ask_user,read_config\n",
    "\n",
    "# ask_user()\n",
    "config = read_config()"
   ]
  },
  {
   "cell_type": "code",
   "execution_count": 2,
   "metadata": {},
   "outputs": [],
   "source": [
    "dimension = config[\"dimension\"]\n",
    "testcase = config[\"testcase\"]\n",
    "version = config[\"version\"]\n",
    "if testcase == 3:\n",
    "    largenet = False\n",
    "    if \"largenet\" in version:\n",
    "        largenet = True\n",
    "    version = \"medium\"\n",
    "param_num = config[\"param_num\"]        "
   ]
  },
  {
   "cell_type": "code",
   "execution_count": 3,
   "metadata": {},
   "outputs": [],
   "source": [
    "high_degree = 10"
   ]
  },
  {
   "cell_type": "markdown",
   "metadata": {},
   "source": [
    "## Imports + Load"
   ]
  },
  {
   "cell_type": "code",
   "execution_count": 4,
   "metadata": {
    "metadata": {}
   },
   "outputs": [],
   "source": [
    "%load_ext autoreload\n",
    "%autoreload 2"
   ]
  },
  {
   "cell_type": "code",
   "execution_count": null,
   "metadata": {
    "metadata": {}
   },
   "outputs": [],
   "source": [
    "import numpy as np\n",
    "import matplotlib.pyplot as plt\n",
    "import torch\n",
    "import pandas as pd\n",
    "import os\n",
    "import dolfin as df\n",
    "import seaborn as sns\n",
    "import dataframe_image as dfi\n",
    "\n",
    "# from modfenics.fenics_expressions.fenics_expressions_2D import UexExpr\n",
    "from scimba.equations.domain import SpaceTensor\n",
    "from scimba.equations import domain\n",
    "\n",
    "from testcases.utils import create_tree\n",
    "# from modfenics.fenics_expressions.fenics_expressions import FExpr,AnisotropyExpr\n",
    "# from modfenics.utils import get_param,compute_slope\n",
    "from modfenics.error_estimations.fem import compute_error_estimations_fem_deg,compute_error_estimations_fem_all\n",
    "from modfenics.error_estimations.add import compute_error_estimations_Corr_deg,compute_error_estimations_Corr_all,plot_Corr_vs_FEM\n",
    "from modfenics.error_estimations.mult import compute_error_estimations_Mult_deg,compute_error_estimations_Mult_all,plot_Mult_vs_FEM\n",
    "\n",
    "device = torch.device(\"cuda\" if torch.cuda.is_available() else \"cpu\")"
   ]
  },
  {
   "cell_type": "code",
   "execution_count": null,
   "metadata": {},
   "outputs": [],
   "source": [
    "assert dimension == 2\n",
    "if dimension == 2:\n",
    "    result_dir = \"../../../results/fenics/test_2D/testcase\"+str(testcase)+\"/version\"+str(version)\n",
    "    if testcase == 1:\n",
    "        if version == 1:\n",
    "            from testcases.networks.test_2D.test_1.test_1_v1 import Run_laplacian2D,Poisson_2D\n",
    "        elif version == 2:\n",
    "            from testcases.networks.test_2D.test_1.test_1_v2 import Run_laplacian2D,Poisson_2D\n",
    "        else:\n",
    "            raise ValueError(\"Version not found\")\n",
    "        from testcases.problem.problem_2D import TestCase1\n",
    "        problem = TestCase1(version=version)\n",
    "    elif testcase == 2:\n",
    "        from testcases.networks.test_2D.test_2.test_2_v1 import Run_laplacian2D,Poisson_2D\n",
    "        from testcases.problem.problem_2D import TestCase2\n",
    "        problem = TestCase2(version=version)\n",
    "    elif testcase == 3:\n",
    "        if version != \"new\":\n",
    "            from testcases.networks.test_2D.test_3.test_3_v1 import Run_laplacian2D,Poisson_2D\n",
    "        else:\n",
    "            from testcases.networks.test_2D.test_3.test_3_v2 import Run_laplacian2D,Poisson_2D\n",
    "        from testcases.problem.problem_2D import TestCase3\n",
    "        problem = TestCase3(version=version)\n",
    "        result_dir = \"../../../results/fenics/test_2D/testcase\"+str(testcase)+\"/\"+version\n",
    "        if version == \"medium\" and largenet:\n",
    "            result_dir += \"_largenet\"\n",
    "    elif testcase == 4:\n",
    "        from testcases.networks.test_2D.test_4.test_4_v1 import Run_laplacian2D,Poisson_2D\n",
    "        from testcases.problem.problem_2D import TestCase4\n",
    "        problem = TestCase4(v=version)\n",
    "\n",
    "result_dir += \"/cvg/\"\n",
    "create_tree(result_dir)\n",
    "    # elif testcase == 4:"
   ]
  },
  {
   "cell_type": "code",
   "execution_count": null,
   "metadata": {
    "metadata": {}
   },
   "outputs": [],
   "source": [
    "if dimension == 2:\n",
    "    if testcase == 3 and version != \"new\":\n",
    "        pde = Poisson_2D(version)\n",
    "        trainer,u_theta = Run_laplacian2D(pde,version,largenet)\n",
    "    else:\n",
    "        pde = Poisson_2D()\n",
    "        trainer,u_theta = Run_laplacian2D(pde)"
   ]
  },
  {
   "cell_type": "markdown",
   "metadata": {},
   "source": [
    "## Convergence FEM"
   ]
  },
  {
   "cell_type": "code",
   "execution_count": 8,
   "metadata": {
    "metadata": {}
   },
   "outputs": [],
   "source": [
    "# degree = 2\n",
    "# df_FEM, tab_nb_vert_FEM, tab_h_FEM, tab_err_FEM = compute_error_estimations_fem_deg(param_num,problem,degree,high_degree,new_run=False,result_dir=result_dir)"
   ]
  },
  {
   "cell_type": "code",
   "execution_count": null,
   "metadata": {},
   "outputs": [],
   "source": [
    "compute_error_estimations_fem_all(param_num,problem,high_degree,new_run=False,result_dir=result_dir,plot_cvg=True)"
   ]
  },
  {
   "cell_type": "markdown",
   "metadata": {},
   "source": [
    "## Convergence PINNs+Corr"
   ]
  },
  {
   "cell_type": "code",
   "execution_count": 23,
   "metadata": {},
   "outputs": [],
   "source": [
    "# degree = 2\n",
    "# df_Corr, tab_nb_vert_Corr, tab_h_Corr, tab_err_Corr = compute_error_estimations_Corr_deg(param_num,problem,degree,high_degree,u_theta,new_run=False,result_dir=result_dir)"
   ]
  },
  {
   "cell_type": "code",
   "execution_count": null,
   "metadata": {
    "metadata": {}
   },
   "outputs": [],
   "source": [
    "compute_error_estimations_Corr_all(param_num,problem,high_degree,u_theta,new_run=False,result_dir=result_dir,plot_cvg=True)"
   ]
  },
  {
   "cell_type": "markdown",
   "metadata": {},
   "source": [
    "### Plots FEM-Corr"
   ]
  },
  {
   "cell_type": "code",
   "execution_count": null,
   "metadata": {
    "metadata": {}
   },
   "outputs": [],
   "source": [
    "plot_Corr_vs_FEM(param_num,problem,result_dir=result_dir)"
   ]
  },
  {
   "cell_type": "markdown",
   "metadata": {},
   "source": [
    "## Convergence PINNs+Mult"
   ]
  },
  {
   "cell_type": "code",
   "execution_count": 13,
   "metadata": {},
   "outputs": [],
   "source": [
    "# M=0.0\n",
    "# degree = 2\n",
    "# df_Corr, tab_nb_vert_Corr, tab_h_Corr, tab_err_Corr = compute_error_estimations_Mult_deg(param_num,problem,degree,high_degree,u_theta,M=M,new_run=False,result_dir=result_dir)"
   ]
  },
  {
   "cell_type": "code",
   "execution_count": null,
   "metadata": {},
   "outputs": [],
   "source": [
    "tab_M = [0.0,0.1,1.0,100.0]\n",
    "\n",
    "for M in tab_M:\n",
    "    print(\"#### M = \",M)\n",
    "    compute_error_estimations_Mult_all(param_num,problem,high_degree,u_theta,M=M,new_run=False,result_dir=result_dir,plot_cvg=True)"
   ]
  },
  {
   "cell_type": "code",
   "execution_count": null,
   "metadata": {},
   "outputs": [],
   "source": []
  }
 ],
 "metadata": {
  "kernelspec": {
   "display_name": "fenics_scimba_modules",
   "language": "python",
   "name": "python3"
  },
  "language_info": {
   "codemirror_mode": {
    "name": "ipython",
    "version": 3
   },
   "file_extension": ".py",
   "mimetype": "text/x-python",
   "name": "python",
   "nbconvert_exporter": "python",
   "pygments_lexer": "ipython3",
   "version": "3.9.16"
  }
 },
 "nbformat": 4,
 "nbformat_minor": 2
}
