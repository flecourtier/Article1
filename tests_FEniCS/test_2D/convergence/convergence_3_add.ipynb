{
 "cells": [
  {
   "cell_type": "markdown",
   "metadata": {},
   "source": [
    "# TestCase3 - Convergence FEM / PINNs+Corr"
   ]
  },
  {
   "cell_type": "code",
   "execution_count": 1,
   "metadata": {
    "metadata": {}
   },
   "outputs": [],
   "source": [
    "# sélection du cas test\n",
    "testcase = 3\n",
    "size_param = \"new\"\n",
    "largenet = False\n",
    "degree = 1\n",
    "param_num = 1"
   ]
  },
  {
   "cell_type": "code",
   "execution_count": 2,
   "metadata": {},
   "outputs": [],
   "source": [
    "assert testcase == 3\n",
    "assert size_param in [\"small\",\"medium\",\"big\",\"new\"]"
   ]
  },
  {
   "cell_type": "markdown",
   "metadata": {},
   "source": [
    "**Idée :** On se place ici dans le TestCase3.\n",
    "\n",
    "On cherche à vérifier les convergences obtenues pour\n",
    "\n",
    "- FEM standard\n",
    "- le PINNs + Correction par addition\n",
    "\n",
    "On choisira d'effectuer ces convergences en P1,P2 et P3"
   ]
  },
  {
   "cell_type": "markdown",
   "metadata": {},
   "source": [
    "## Imports + Load"
   ]
  },
  {
   "cell_type": "code",
   "execution_count": 3,
   "metadata": {
    "metadata": {}
   },
   "outputs": [],
   "source": [
    "%load_ext autoreload\n",
    "%autoreload 2"
   ]
  },
  {
   "cell_type": "code",
   "execution_count": 4,
   "metadata": {
    "metadata": {}
   },
   "outputs": [
    {
     "name": "stderr",
     "output_type": "stream",
     "text": [
      "hwloc/linux: Ignoring PCI device with non-16bit domain.\n",
      "Pass --enable-32bits-pci-domain to configure to support such devices\n",
      "(warning: it would break the library ABI, don't enable unless really needed).\n"
     ]
    },
    {
     "name": "stdout",
     "output_type": "stream",
     "text": [
      "Using device: cpu\n"
     ]
    },
    {
     "name": "stderr",
     "output_type": "stream",
     "text": [
      "/home/flecourtier/anaconda3/envs/fenics_scimba_modules/lib/python3.9/site-packages/torch/cuda/__init__.py:138: UserWarning: CUDA initialization: CUDA unknown error - this may be due to an incorrectly set up environment, e.g. changing env variable CUDA_VISIBLE_DEVICES after program start. Setting the available devices to be zero. (Triggered internally at /opt/conda/conda-bld/pytorch_1702400441250/work/c10/cuda/CUDAFunctions.cpp:108.)\n",
      "  return torch._C._cuda_getDeviceCount() > 0\n"
     ]
    }
   ],
   "source": [
    "import numpy as np\n",
    "import matplotlib.pyplot as plt\n",
    "import torch\n",
    "import pandas as pd\n",
    "import os\n",
    "import dolfin as df\n",
    "import seaborn as sns\n",
    "import dataframe_image as dfi\n",
    "\n",
    "# from modfenics.fenics_expressions.fenics_expressions import UexExpr\n",
    "from scimba.equations.domain import SpaceTensor\n",
    "from scimba.equations import domain\n",
    "\n",
    "from testcases.utils import create_tree\n",
    "from testcases.geometry.geometry_2D import Square\n",
    "from modfenics.fenics_expressions.fenics_expressions_3 import FExpr,AnisotropyExpr\n",
    "\n",
    "device = torch.device(\"cuda\" if torch.cuda.is_available() else \"cpu\")"
   ]
  },
  {
   "cell_type": "code",
   "execution_count": 5,
   "metadata": {
    "metadata": {}
   },
   "outputs": [
    {
     "name": "stdout",
     "output_type": "stream",
     "text": [
      "torch loaded; device is cpu\n"
     ]
    }
   ],
   "source": [
    "if size_param != \"new\":\n",
    "    from testcases.networks.test_2D.test_3.test_3_v1 import Run_laplacian2D,Poisson_2D\n",
    "else:\n",
    "    from testcases.networks.test_2D.test_3.test_3_v2 import Run_laplacian2D,Poisson_2D\n",
    "from testcases.problem.problem_2D import TestCase3,TestCase3_new,TestCase3_small_param,TestCase3_medium_param\n",
    "from modfenics.solver_fem.solver_fem_3 import FEMSolver\n",
    "    \n",
    "if size_param == \"big\":\n",
    "    problem = TestCase3()\n",
    "elif size_param == \"medium\":\n",
    "    problem = TestCase3_medium_param()\n",
    "elif size_param == \"new\":\n",
    "    problem = TestCase3_new()\n",
    "else:\n",
    "    problem = TestCase3_small_param()\n",
    "\n",
    "dim_params = problem.nb_parameters\n",
    "result_dir = \"../../../results/test_2D/testcase\"+str(testcase)+\"/\"+size_param\n",
    "if size_param == \"medium\" and largenet:\n",
    "    result_dir += \"_largenet\"\n",
    "result_dir += \"/cvg/\"\n",
    "create_tree(result_dir)"
   ]
  },
  {
   "cell_type": "code",
   "execution_count": 6,
   "metadata": {
    "metadata": {}
   },
   "outputs": [
    {
     "name": "stdout",
     "output_type": "stream",
     "text": [
      "init\n",
      "init\n",
      ">> load network /home/flecourtier/Bureau/Article1/code/networks/test_2D/test_fe3_new.pth\n",
      "network loaded\n"
     ]
    }
   ],
   "source": [
    "if size_param != \"new\":\n",
    "    pde = Poisson_2D(size_param)\n",
    "    trainer,u_theta = Run_laplacian2D(pde,size_param,largenet)\n",
    "else:\n",
    "    pde = Poisson_2D()\n",
    "    trainer,u_theta = Run_laplacian2D(pde)"
   ]
  },
  {
   "cell_type": "code",
   "execution_count": 7,
   "metadata": {
    "metadata": {}
   },
   "outputs": [
    {
     "name": "stdout",
     "output_type": "stream",
     "text": [
      "[0.51 0.54 0.64 0.77]\n"
     ]
    }
   ],
   "source": [
    "def get_param(i):\n",
    "    parameter_domain = trainer.pde.parameter_domain.cpu().numpy()\n",
    "    # pick 1 random parameter\n",
    "    np.random.seed(0)\n",
    "    for j in range(i):\n",
    "        param = []\n",
    "        for k in range(len(parameter_domain)):\n",
    "            param.append(np.random.uniform(parameter_domain[k][0], parameter_domain[k][1]))\n",
    "    param = np.round(param, 2)\n",
    "    return param\n",
    "\n",
    "param = get_param(param_num)\n",
    "print(param)\n",
    "params = [param]"
   ]
  },
  {
   "cell_type": "markdown",
   "metadata": {},
   "source": [
    "## Solution de référence"
   ]
  },
  {
   "cell_type": "code",
   "execution_count": 8,
   "metadata": {},
   "outputs": [],
   "source": [
    "from dolfin import *\n",
    "prm = parameters[\"krylov_solver\"]\n",
    "prm[\"absolute_tolerance\"] = 1e-13\n",
    "prm[\"relative_tolerance\"] = 1e-13"
   ]
  },
  {
   "cell_type": "code",
   "execution_count": 9,
   "metadata": {
    "metadata": {}
   },
   "outputs": [],
   "source": [
    "def create_ref_domain(deg):\n",
    "    nb_vert = 1000\n",
    "\n",
    "    # check if pb_considered is instance of Square class\n",
    "    if isinstance(problem.geometry, Square):\n",
    "        box = np.array(problem.geometry.box)\n",
    "        mesh_ref = df.RectangleMesh(df.Point(box[0,0], box[1,0]), df.Point(box[0,1], box[1,1]), nb_vert - 1, nb_vert - 1)\n",
    "    else:\n",
    "        raise ValueError(\"Geometry not implemented\")\n",
    "    \n",
    "    V_ref = df.FunctionSpace(mesh_ref, \"CG\", deg)\n",
    "    print(V_ref.tabulate_dof_coordinates().shape)\n",
    "    dx_ref = df.Measure(\"dx\", domain=mesh_ref)\n",
    "    \n",
    "    h_ref = mesh_ref.hmax()\n",
    "    print(\"hmax = \",h_ref)\n",
    "\n",
    "    return mesh_ref, V_ref, dx_ref\n",
    "    \n",
    "def get_uref(param,deg):\n",
    "    mesh_ref, V_ref, dx_ref = create_ref_domain(deg)\n",
    "    boundary = \"on_boundary\"\n",
    "\n",
    "    mat = AnisotropyExpr(param, degree=10, domain=mesh_ref, pb_considered=problem) \n",
    "    # mat = df.Expression(((\"eps * x[0]*x[0] + x[1]*x[1]\",\"(eps - 1) * x[0] * x[1]\"),\n",
    "    #                 (\"(eps - 1) * x[0] * x[1]\",\"x[0]*x[0] + eps * x[1]*x[1]\")), \n",
    "    #                 eps=param[3],\n",
    "    #                 degree=10, \n",
    "    #                 domain=mesh_ref)\n",
    "    \n",
    "    f_expr = FExpr(param, degree=10, domain=mesh_ref, pb_considered=problem)\n",
    "    \n",
    "    g = df.Constant(\"0.0\")\n",
    "    bc = df.DirichletBC(V_ref, g, boundary)\n",
    "\n",
    "    u = df.TrialFunction(V_ref)\n",
    "    v = df.TestFunction(V_ref)\n",
    "    \n",
    "    # Resolution of the variationnal problem\n",
    "\n",
    "    a = df.inner(mat*df.grad(u),df.grad(v)) * dx_ref\n",
    "    l = f_expr * v * dx_ref\n",
    "\n",
    "    # solver = dol.KrylovSolver('cg', 'hypre_amg')\n",
    "    # prm = solver.parameters\n",
    "    # print(prm[\"absolute_tolerance\"],prm[\"relative_tolerance\"])\n",
    "    # prm[\"absolute_tolerance\"] = 1E-10\n",
    "    # prm[\"relative_tolerance\"] = 1E-10\n",
    "\n",
    "    sol = df.Function(V_ref)\n",
    "    # solver.solve(a==l, sol, bcs=bc)\n",
    "    df.solve(a==l, sol, bcs=bc, solver_parameters={\"linear_solver\": \"cg\",\"preconditioner\":\"hypre_amg\"})\n",
    "\n",
    "    return sol\n"
   ]
  },
  {
   "cell_type": "code",
   "execution_count": 10,
   "metadata": {},
   "outputs": [
    {
     "name": "stdout",
     "output_type": "stream",
     "text": [
      "(8988004, 2)\n",
      "hmax =  0.001415629191564785\n"
     ]
    }
   ],
   "source": [
    "savedir = result_dir + \"u_ref/\"\n",
    "create_tree(savedir)\n",
    "filename = savedir + f\"u_ref_{param_num}.npy\"\n",
    "\n",
    "load_ref = True\n",
    "if not load_ref or not os.path.exists(filename):\n",
    "    u_ref = get_uref(param,deg=3)\n",
    "    vct_u_ref = u_ref.vector().get_local()\n",
    "    np.save(filename, vct_u_ref)  \n",
    "else:\n",
    "    vct_u_ref = np.load(filename)\n",
    "    mesh_ref, V_ref, dx_ref = create_ref_domain(deg=3)\n",
    "    u_ref = df.Function(V_ref)\n",
    "    u_ref.vector()[:] = vct_u_ref"
   ]
  },
  {
   "cell_type": "markdown",
   "metadata": {},
   "source": [
    "## Convergence FEM"
   ]
  },
  {
   "cell_type": "code",
   "execution_count": 11,
   "metadata": {
    "metadata": {}
   },
   "outputs": [],
   "source": [
    "def read_csv(testcase,param_num,degree):\n",
    "    csv_file = result_dir+f'FEM_case{testcase}_param{param_num}_degree{degree}.csv'\n",
    "    df_FEM = pd.read_csv(csv_file)\n",
    "    tab_nb_vert_FEM = list(df_FEM['nb_vert'].values)\n",
    "    tab_h_FEM = list(df_FEM['h'].values)\n",
    "    tab_err_FEM = list(df_FEM['err'].values)\n",
    "    \n",
    "    return df_FEM,tab_nb_vert_FEM, tab_h_FEM, tab_err_FEM\n",
    "\n",
    "def run_FEM(degree,new_run=False):\n",
    "    csv_file = result_dir+f'FEM_case{testcase}_param{param_num}_degree{degree}.csv'\n",
    "    if not new_run and os.path.exists(csv_file):\n",
    "        df_FEM,tab_nb_vert_FEM, tab_h_FEM, tab_err_FEM = read_csv(testcase,param_num,degree)\n",
    "        print(f\"Read csv file {csv_file}\")\n",
    "    else:\n",
    "        print(\"Run FEM\")\n",
    "        tab_nb_vert_FEM = [2**i for i in range(4,9)]\n",
    "        # tab_nb_vert_FEM = [2**i for i in range(3,8)]\n",
    "        tab_h_FEM = []\n",
    "        tab_err_FEM = []\n",
    "\n",
    "        for nb_vert in tab_nb_vert_FEM:\n",
    "            solver = FEMSolver(nb_cell=nb_vert-1, params=params, problem=problem, degree=degree)\n",
    "            tab_h_FEM.append(solver.h)\n",
    "            _,norme_L2 = solver.fem(0,u_ref)\n",
    "            print(f\"nb_vert={nb_vert}, norme_L2={norme_L2}\")\n",
    "            tab_err_FEM.append(norme_L2)\n",
    "            \n",
    "        df_FEM = pd.DataFrame({'nb_vert': tab_nb_vert_FEM, 'h': tab_h_FEM, 'err': tab_err_FEM})\n",
    "        df_FEM.to_csv(csv_file, index=False)\n",
    "            \n",
    "    return df_FEM,tab_nb_vert_FEM, tab_h_FEM, tab_err_FEM"
   ]
  },
  {
   "cell_type": "code",
   "execution_count": 12,
   "metadata": {
    "metadata": {}
   },
   "outputs": [
    {
     "name": "stdout",
     "output_type": "stream",
     "text": [
      "Read csv file ../../../results/test_2D/testcase3/new/cvg/FEM_case3_param1_degree3.csv\n"
     ]
    }
   ],
   "source": [
    "degree = 3\n",
    "df_FEM, tab_nb_vert_FEM, tab_h_FEM, tab_err_FEM = run_FEM(degree)"
   ]
  },
  {
   "cell_type": "code",
   "execution_count": 13,
   "metadata": {
    "metadata": {}
   },
   "outputs": [
    {
     "name": "stdout",
     "output_type": "stream",
     "text": [
      "degree=1\n",
      "Read csv file ../../../results/test_2D/testcase3/new/cvg/FEM_case3_param1_degree1.csv\n",
      "degree=2\n",
      "Read csv file ../../../results/test_2D/testcase3/new/cvg/FEM_case3_param1_degree2.csv\n",
      "degree=3\n",
      "Read csv file ../../../results/test_2D/testcase3/new/cvg/FEM_case3_param1_degree3.csv\n"
     ]
    },
    {
     "data": {
      "image/png": "[encoded data removed]",
      "text/plain": [
       "<Figure size 500x500 with 1 Axes>"
      ]
     },
     "metadata": {},
     "output_type": "display_data"
    }
   ],
   "source": [
    "plt.figure(figsize=(5, 5))\n",
    "\n",
    "# plot FEM error (L2 norm) as a function of h\n",
    "for d in [1, 2, 3]:\n",
    "    print(f\"degree={d}\")\n",
    "    \n",
    "    df_FEM, tab_nb_vert_FEM, tab_h_FEM, tab_err_FEM = run_FEM(d)\n",
    "    plt.loglog(df_FEM['nb_vert'], df_FEM['err'], \"+-\", label='P'+str(d))\n",
    "    \n",
    "    # add slope with a triangle\n",
    "    start = [tab_nb_vert_FEM[1],tab_err_FEM[1]]\n",
    "    end = [tab_nb_vert_FEM[0],tab_err_FEM[0]]\n",
    "    third = [end[0],start[1]]\n",
    "    \n",
    "    tri_x = [end[0], third[0], start[0], end[0]]\n",
    "    tri_y = [end[1], third[1], start[1], end[1]]\n",
    "    plt.plot(tri_x, tri_y, \"k--\", linewidth=0.5)\n",
    "    \n",
    "    slope = (np.log(start[1])-np.log(end[1]))/(np.log(start[0])-np.log(end[0]))\n",
    "    slope = abs(int(slope.round(0)))\n",
    "\n",
    "    vert_mid = [(end[0]+third[0])/2., (end[1]+third[1])/2.]\n",
    "    plt.text(vert_mid[0]+1e-2 , vert_mid[1], str(slope), fontsize=12, ha='left', va='top')\n",
    "    \n",
    "plt.xticks(df_FEM['nb_vert'], df_FEM['nb_vert'].round(3).astype(str))\n",
    "plt.xlabel('nb_vert')\n",
    "plt.ylabel('L2 norm')\n",
    "plt.title(f'FEM case{testcase} param{param_num} : {param}')\n",
    "plt.legend()\n",
    "plt.savefig(result_dir+f'FEM_case{testcase}_param{param_num}.png')"
   ]
  },
  {
   "cell_type": "code",
   "execution_count": 14,
   "metadata": {
    "metadata": {}
   },
   "outputs": [
    {
     "name": "stdout",
     "output_type": "stream",
     "text": [
      "degree=1\n",
      "Read csv file ../../../results/test_2D/testcase3/new/cvg/FEM_case3_param1_degree1.csv\n",
      "degree=2\n",
      "Read csv file ../../../results/test_2D/testcase3/new/cvg/FEM_case3_param1_degree2.csv\n",
      "degree=3\n",
      "Read csv file ../../../results/test_2D/testcase3/new/cvg/FEM_case3_param1_degree3.csv\n"
     ]
    }
   ],
   "source": [
    "dict = {}\n",
    "for d in [1, 2, 3]:\n",
    "    print(f\"degree={d}\")\n",
    "    _, tab_nb_vert_FEM, _, tab_err_FEM = run_FEM(d)\n",
    "    if d == 1:\n",
    "        dict['N'] = tab_nb_vert_FEM\n",
    "    dict[f'P{d}'] = tab_err_FEM\n",
    "    \n",
    "df_deg = pd.DataFrame(dict)\n",
    "\n",
    "csv_file = result_dir+f'FEM_case{testcase}_param{param_num}.csv'\n",
    "df_deg.to_csv(csv_file, index=False)"
   ]
  },
  {
   "cell_type": "markdown",
   "metadata": {},
   "source": [
    "## Convergence PINNs+Corr"
   ]
  },
  {
   "cell_type": "code",
   "execution_count": 15,
   "metadata": {
    "metadata": {}
   },
   "outputs": [],
   "source": [
    "def get_test_sample(solver,trainer,deg_PINNs):\n",
    "    # get coordinates of the dof\n",
    "    V_test = df.FunctionSpace(solver.mesh,\"CG\",deg_PINNs)\n",
    "    XXYY = V_test.tabulate_dof_coordinates()\n",
    "    X_test = torch.tensor(XXYY,requires_grad=True)\n",
    "    X_test = SpaceTensor(X_test,torch.zeros_like(X_test,dtype=int))\n",
    "\n",
    "    # get parameters\n",
    "    nb_params = len(trainer.pde.parameter_domain)\n",
    "    shape = (XXYY.shape[0],nb_params)\n",
    "    if shape[1] == 0:\n",
    "        mu_test = torch.zeros(shape)\n",
    "    else:\n",
    "        ones = torch.ones(shape)\n",
    "        mu_test = (torch.mean(trainer.pde.parameter_domain, axis=1) * ones)#.to(device)\n",
    "\n",
    "    return V_test,X_test,mu_test"
   ]
  },
  {
   "cell_type": "code",
   "execution_count": 16,
   "metadata": {
    "metadata": {}
   },
   "outputs": [],
   "source": [
    "degree_PINNs = 10\n",
    "\n",
    "def read_csv_Corr(testcase,param_num,degree):\n",
    "    df_Corr = pd.read_csv(result_dir+f'Corr_case{testcase}_param{param_num}_degree{degree}.csv')\n",
    "    tab_nb_vert_Corr = list(df_Corr['nb_vert'].values)\n",
    "    tab_h_Corr = list(df_Corr['h'].values)\n",
    "    tab_err_Corr = list(df_Corr['err'].values)\n",
    "    \n",
    "    return df_Corr,tab_nb_vert_Corr, tab_h_Corr, tab_err_Corr\n",
    "\n",
    "def run_Corr(degree,new_run=False):\n",
    "    csv_file = result_dir+f'Corr_case{testcase}_param{param_num}_degree{degree}.csv'\n",
    "    if not new_run and os.path.exists(csv_file):\n",
    "        df_Corr,tab_nb_vert_Corr, tab_h_Corr, tab_err_Corr = read_csv_Corr(testcase,param_num,degree)\n",
    "        print(f\"Read csv file {csv_file}\")\n",
    "    else:\n",
    "        tab_nb_vert_Corr = [2**i for i in range(4,9)]\n",
    "        # tab_nb_vert_Corr = [5*i for i in range(2,7)]\n",
    "        tab_h_Corr = []\n",
    "        tab_err_Corr = []\n",
    "\n",
    "        for nb_vert in tab_nb_vert_Corr:\n",
    "            solver = FEMSolver(nb_cell=nb_vert-1, params=params, problem=problem, degree=degree)\n",
    "            tab_h_Corr.append(solver.h)\n",
    "            \n",
    "            V_test,X_test,mu_test = get_test_sample(solver,trainer,degree_PINNs)\n",
    "            pred = u_theta.setup_w_dict(X_test, mu_test)\n",
    "            phi_tild = pred[\"w\"][:,0].cpu().detach().numpy()\n",
    "            \n",
    "            u_PINNs = df.Function(V_test)\n",
    "            u_PINNs.vector()[:] = phi_tild.copy()\n",
    "            \n",
    "            _,_,norme_L2 = solver.corr_add(0,u_PINNs,u_ref)\n",
    "            print(f\"nb_vert={nb_vert}, norme_L2={norme_L2}\")\n",
    "            tab_err_Corr.append(norme_L2)\n",
    "            \n",
    "        df_Corr = pd.DataFrame({'nb_vert': tab_nb_vert_Corr, 'h': tab_h_Corr, 'err': tab_err_Corr})\n",
    "        df_Corr.to_csv(csv_file, index=False)\n",
    "            \n",
    "    return df_Corr,tab_nb_vert_Corr, tab_h_Corr, tab_err_Corr"
   ]
  },
  {
   "cell_type": "code",
   "execution_count": 17,
   "metadata": {
    "metadata": {}
   },
   "outputs": [
    {
     "name": "stdout",
     "output_type": "stream",
     "text": [
      "degree=1\n",
      "hmax =  0.09428090415820647\n",
      "nb_vert=16, norme_L2=0.011491322298348067\n",
      "hmax =  0.045619792334616084\n",
      "nb_vert=32, norme_L2=0.0030141205795902746\n",
      "hmax =  0.02244783432338254\n",
      "nb_vert=64, norme_L2=0.0007517062097933053\n",
      "hmax =  0.01113553986120561\n",
      "nb_vert=128, norme_L2=0.00018634514607210385\n",
      "hmax =  0.005545935538718157\n"
     ]
    },
    {
     "ename": "",
     "evalue": "",
     "output_type": "error",
     "traceback": [
      "\u001b[1;31mLe noyau s’est bloqué lors de l’exécution du code dans une cellule active ou une cellule précédente. \n",
      "\u001b[1;31mVeuillez vérifier le code dans la ou les cellules pour identifier une cause possible de l’échec. \n",
      "\u001b[1;31mCliquez <a href='https://aka.ms/vscodeJupyterKernelCrash'>ici</a> pour plus d’informations. \n",
      "\u001b[1;31mPour plus d’informations, consultez Jupyter <a href='command:jupyter.viewOutput'>log</a>."
     ]
    }
   ],
   "source": [
    "plt.figure(figsize=(5, 5))\n",
    "\n",
    "# plot Corr error (L2 norm) as a function of h\n",
    "for d in [1, 2, 3]:\n",
    "    print(f\"degree={d}\")\n",
    "    df_Corr,tab_nb_vert_Corr, tab_h_Corr, tab_err_Corr = run_Corr(d)\n",
    "    plt.loglog(df_Corr['nb_vert'], df_Corr['err'], \"+-\", label='P'+str(d))\n",
    "    \n",
    "    # add slope with a triangle\n",
    "    start = [tab_nb_vert_Corr[1],tab_err_Corr[1]]\n",
    "    end = [tab_nb_vert_Corr[0],tab_err_Corr[0]]\n",
    "    third = [end[0],start[1]]\n",
    "    \n",
    "    tri_x = [end[0], third[0], start[0], end[0]]\n",
    "    tri_y = [end[1], third[1], start[1], end[1]]\n",
    "    plt.plot(tri_x, tri_y, \"k--\", linewidth=0.5)\n",
    "    \n",
    "    slope = (np.log(start[1])-np.log(end[1]))/(np.log(start[0])-np.log(end[0]))\n",
    "    slope = abs(int(slope.round(0)))\n",
    "\n",
    "    vert_mid = [(end[0]+third[0])/2., (end[1]+third[1])/2.]\n",
    "    plt.text(vert_mid[0]+1e-2 , vert_mid[1], str(slope), fontsize=12, ha='left', va='top')\n",
    "\n",
    "plt.xticks(df_Corr['nb_vert'], df_Corr['nb_vert'].round(3).astype(str), minor=True)\n",
    "plt.xlabel(\"nb_vert\")\n",
    "plt.ylabel('L2 norm')\n",
    "plt.legend()\n",
    "plt.title(f'Corr case{testcase} param{param_num} : {param}')\n",
    "plt.savefig(result_dir+f'Corr_case{testcase}_param{param_num}.png')"
   ]
  },
  {
   "cell_type": "code",
   "execution_count": 23,
   "metadata": {
    "metadata": {}
   },
   "outputs": [
    {
     "name": "stdout",
     "output_type": "stream",
     "text": [
      "degree=1\n",
      "hmax =  0.09428090415820647\n"
     ]
    },
    {
     "ename": "RuntimeError",
     "evalue": "CUDA error: unspecified launch failure\nCUDA kernel errors might be asynchronously reported at some other API call, so the stacktrace below might be incorrect.\nFor debugging consider passing CUDA_LAUNCH_BLOCKING=1.\nCompile with `TORCH_USE_CUDA_DSA` to enable device-side assertions.\n",
     "output_type": "error",
     "traceback": [
      "\u001b[0;31m---------------------------------------------------------------------------\u001b[0m",
      "\u001b[0;31mRuntimeError\u001b[0m                              Traceback (most recent call last)",
      "Cell \u001b[0;32mIn[23], line 4\u001b[0m\n\u001b[1;32m      2\u001b[0m \u001b[38;5;28;01mfor\u001b[39;00m d \u001b[38;5;129;01min\u001b[39;00m [\u001b[38;5;241m1\u001b[39m, \u001b[38;5;241m2\u001b[39m, \u001b[38;5;241m3\u001b[39m]:\n\u001b[1;32m      3\u001b[0m     \u001b[38;5;28mprint\u001b[39m(\u001b[38;5;124mf\u001b[39m\u001b[38;5;124m\"\u001b[39m\u001b[38;5;124mdegree=\u001b[39m\u001b[38;5;132;01m{\u001b[39;00md\u001b[38;5;132;01m}\u001b[39;00m\u001b[38;5;124m\"\u001b[39m)\n\u001b[0;32m----> 4\u001b[0m     _, tab_nb_vert_Corr, _, tab_err_Corr \u001b[38;5;241m=\u001b[39m \u001b[43mrun_Corr\u001b[49m\u001b[43m(\u001b[49m\u001b[43md\u001b[49m\u001b[43m)\u001b[49m\n\u001b[1;32m      5\u001b[0m     \u001b[38;5;28;01mif\u001b[39;00m d \u001b[38;5;241m==\u001b[39m \u001b[38;5;241m1\u001b[39m:\n\u001b[1;32m      6\u001b[0m         \u001b[38;5;28mdict\u001b[39m[\u001b[38;5;124m'\u001b[39m\u001b[38;5;124mN\u001b[39m\u001b[38;5;124m'\u001b[39m] \u001b[38;5;241m=\u001b[39m tab_nb_vert_Corr\n",
      "Cell \u001b[0;32mIn[20], line 26\u001b[0m, in \u001b[0;36mrun_Corr\u001b[0;34m(degree, new_run)\u001b[0m\n\u001b[1;32m     23\u001b[0m solver \u001b[38;5;241m=\u001b[39m FEMSolver(nb_cell\u001b[38;5;241m=\u001b[39mnb_vert\u001b[38;5;241m-\u001b[39m\u001b[38;5;241m1\u001b[39m, params\u001b[38;5;241m=\u001b[39mparams, problem\u001b[38;5;241m=\u001b[39mproblem, degree\u001b[38;5;241m=\u001b[39mdegree)\n\u001b[1;32m     24\u001b[0m tab_h_Corr\u001b[38;5;241m.\u001b[39mappend(solver\u001b[38;5;241m.\u001b[39mh)\n\u001b[0;32m---> 26\u001b[0m V_test,X_test,mu_test \u001b[38;5;241m=\u001b[39m \u001b[43mget_test_sample\u001b[49m\u001b[43m(\u001b[49m\u001b[43msolver\u001b[49m\u001b[43m,\u001b[49m\u001b[43mtrainer\u001b[49m\u001b[43m,\u001b[49m\u001b[43mdegree_PINNs\u001b[49m\u001b[43m)\u001b[49m\n\u001b[1;32m     27\u001b[0m pred \u001b[38;5;241m=\u001b[39m u_theta\u001b[38;5;241m.\u001b[39msetup_w_dict(X_test, mu_test)\n\u001b[1;32m     28\u001b[0m phi_tild \u001b[38;5;241m=\u001b[39m pred[\u001b[38;5;124m\"\u001b[39m\u001b[38;5;124mw\u001b[39m\u001b[38;5;124m\"\u001b[39m][:,\u001b[38;5;241m0\u001b[39m]\u001b[38;5;241m.\u001b[39mcpu()\u001b[38;5;241m.\u001b[39mdetach()\u001b[38;5;241m.\u001b[39mnumpy()\n",
      "Cell \u001b[0;32mIn[19], line 5\u001b[0m, in \u001b[0;36mget_test_sample\u001b[0;34m(solver, trainer, deg_PINNs)\u001b[0m\n\u001b[1;32m      3\u001b[0m V_test \u001b[38;5;241m=\u001b[39m df\u001b[38;5;241m.\u001b[39mFunctionSpace(solver\u001b[38;5;241m.\u001b[39mmesh,\u001b[38;5;124m\"\u001b[39m\u001b[38;5;124mCG\u001b[39m\u001b[38;5;124m\"\u001b[39m,deg_PINNs)\n\u001b[1;32m      4\u001b[0m XXYY \u001b[38;5;241m=\u001b[39m V_test\u001b[38;5;241m.\u001b[39mtabulate_dof_coordinates()\n\u001b[0;32m----> 5\u001b[0m X_test \u001b[38;5;241m=\u001b[39m \u001b[43mtorch\u001b[49m\u001b[38;5;241;43m.\u001b[39;49m\u001b[43mtensor\u001b[49m\u001b[43m(\u001b[49m\u001b[43mXXYY\u001b[49m\u001b[43m,\u001b[49m\u001b[43mrequires_grad\u001b[49m\u001b[38;5;241;43m=\u001b[39;49m\u001b[38;5;28;43;01mTrue\u001b[39;49;00m\u001b[43m)\u001b[49m\n\u001b[1;32m      6\u001b[0m X_test \u001b[38;5;241m=\u001b[39m SpaceTensor(X_test,torch\u001b[38;5;241m.\u001b[39mzeros_like(X_test,dtype\u001b[38;5;241m=\u001b[39m\u001b[38;5;28mint\u001b[39m))\n\u001b[1;32m      8\u001b[0m \u001b[38;5;66;03m# get parameters\u001b[39;00m\n",
      "File \u001b[0;32m~/anaconda3/envs/fenics_scimba_modules/lib/python3.9/site-packages/torch/utils/_device.py:77\u001b[0m, in \u001b[0;36mDeviceContext.__torch_function__\u001b[0;34m(self, func, types, args, kwargs)\u001b[0m\n\u001b[1;32m     75\u001b[0m \u001b[38;5;28;01mif\u001b[39;00m func \u001b[38;5;129;01min\u001b[39;00m _device_constructors() \u001b[38;5;129;01mand\u001b[39;00m kwargs\u001b[38;5;241m.\u001b[39mget(\u001b[38;5;124m'\u001b[39m\u001b[38;5;124mdevice\u001b[39m\u001b[38;5;124m'\u001b[39m) \u001b[38;5;129;01mis\u001b[39;00m \u001b[38;5;28;01mNone\u001b[39;00m:\n\u001b[1;32m     76\u001b[0m     kwargs[\u001b[38;5;124m'\u001b[39m\u001b[38;5;124mdevice\u001b[39m\u001b[38;5;124m'\u001b[39m] \u001b[38;5;241m=\u001b[39m \u001b[38;5;28mself\u001b[39m\u001b[38;5;241m.\u001b[39mdevice\n\u001b[0;32m---> 77\u001b[0m \u001b[38;5;28;01mreturn\u001b[39;00m \u001b[43mfunc\u001b[49m\u001b[43m(\u001b[49m\u001b[38;5;241;43m*\u001b[39;49m\u001b[43margs\u001b[49m\u001b[43m,\u001b[49m\u001b[43m \u001b[49m\u001b[38;5;241;43m*\u001b[39;49m\u001b[38;5;241;43m*\u001b[39;49m\u001b[43mkwargs\u001b[49m\u001b[43m)\u001b[49m\n",
      "\u001b[0;31mRuntimeError\u001b[0m: CUDA error: unspecified launch failure\nCUDA kernel errors might be asynchronously reported at some other API call, so the stacktrace below might be incorrect.\nFor debugging consider passing CUDA_LAUNCH_BLOCKING=1.\nCompile with `TORCH_USE_CUDA_DSA` to enable device-side assertions.\n"
     ]
    }
   ],
   "source": [
    "dict = {}\n",
    "for d in [1, 2, 3]:\n",
    "    print(f\"degree={d}\")\n",
    "    _, tab_nb_vert_Corr, _, tab_err_Corr = run_Corr(d)\n",
    "    if d == 1:\n",
    "        dict['N'] = tab_nb_vert_Corr\n",
    "    dict[f'P{d}'] = tab_err_Corr\n",
    "    \n",
    "df_deg_Corr = pd.DataFrame(dict)\n",
    "\n",
    "csv_file = result_dir+f'Corr_case{testcase}_param{param_num}.csv'\n",
    "df_deg_Corr.to_csv(csv_file, index=False)"
   ]
  },
  {
   "cell_type": "markdown",
   "metadata": {},
   "source": [
    "## Plots"
   ]
  },
  {
   "cell_type": "code",
   "execution_count": 21,
   "metadata": {
    "metadata": {}
   },
   "outputs": [
    {
     "name": "stdout",
     "output_type": "stream",
     "text": [
      "degree=1\n",
      "Read csv file ../results/test_2D/testcase3/cvg/FEM_case3_param1_degree1.csv\n",
      "degree=2\n",
      "Read csv file ../results/test_2D/testcase3/cvg/FEM_case3_param1_degree2.csv\n",
      "degree=3\n",
      "Read csv file ../results/test_2D/testcase3/cvg/FEM_case3_param1_degree3.csv\n",
      "degree=1\n",
      "Read csv file ../results/test_2D/testcase3/cvg/Corr_case3_param1_degree1.csv\n",
      "degree=2\n",
      "Read csv file ../results/test_2D/testcase3/cvg/Corr_case3_param1_degree2.csv\n",
      "degree=3\n",
      "Read csv file ../results/test_2D/testcase3/cvg/Corr_case3_param1_degree3.csv\n"
     ]
    },
    {
     "data": {
      "image/png": "[encoded data removed]",
      "text/plain": [
       "<Figure size 500x500 with 1 Axes>"
      ]
     },
     "metadata": {},
     "output_type": "display_data"
    }
   ],
   "source": [
    "plt.figure(figsize=(5, 5))\n",
    "\n",
    "# plot FEM error (L2 norm) as a function of h\n",
    "for d in [1, 2, 3]:\n",
    "    print(f\"degree={d}\")\n",
    "    df_FEM, tab_nb_vert_FEM, tab_h_FEM, tab_err_FEM = run_FEM(d)\n",
    "    plt.loglog(df_FEM['nb_vert'], df_FEM['err'], \"+-\", label='FEM P'+str(d))\n",
    "\n",
    "# plot Corr error (L2 norm) as a function of h\n",
    "for d in [1, 2, 3]:\n",
    "    print(f\"degree={d}\")\n",
    "    df_Corr,tab_nb_vert_Corr, tab_h_Corr, tab_err_Corr = run_Corr(d)\n",
    "    plt.loglog(df_Corr['nb_vert'], df_Corr['err'], \".--\", label='Corr P'+str(d))\n",
    "\n",
    "plt.xticks(df_Corr['nb_vert'], df_Corr['nb_vert'].round(3).astype(str), minor=False)\n",
    "plt.xlabel(\"N\")\n",
    "plt.ylabel('L2 norm')\n",
    "plt.legend()\n",
    "plt.title(f'FEM + Corr case{testcase} param{param_num} : {param}')\n",
    "plt.savefig(result_dir+f'FEM-Corr_case{testcase}_param{param_num}.png')"
   ]
  },
  {
   "cell_type": "code",
   "execution_count": null,
   "metadata": {},
   "outputs": [],
   "source": []
  },
  {
   "cell_type": "code",
   "execution_count": null,
   "metadata": {},
   "outputs": [],
   "source": []
  }
 ],
 "metadata": {
  "kernelspec": {
   "display_name": "phifem_scimba_2",
   "language": "python",
   "name": "python3"
  },
  "language_info": {
   "codemirror_mode": {
    "name": "ipython",
    "version": 3
   },
   "file_extension": ".py",
   "mimetype": "text/x-python",
   "name": "python",
   "nbconvert_exporter": "python",
   "pygments_lexer": "ipython3",
   "version": "3.9.16"
  }
 },
 "nbformat": 4,
 "nbformat_minor": 2
}
