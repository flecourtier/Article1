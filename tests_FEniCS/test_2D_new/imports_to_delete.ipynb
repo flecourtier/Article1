{
 "cells": [
  {
   "cell_type": "markdown",
   "metadata": {},
   "source": [
    "# Imports"
   ]
  },
  {
   "cell_type": "code",
   "execution_count": null,
   "metadata": {},
   "outputs": [
    {
     "name": "stdout",
     "output_type": "stream",
     "text": [
      "/home/flecourtier/Bureau/Article1/code\n",
      "/home/flecourtier/Bureau/Article1/code\n",
      "torch loaded; device is cuda\n"
     ]
    }
   ],
   "source": [
    "current_dir = os.getcwd()\n",
    "repo_dir = os.path.dirname(current_dir)\n",
    "repo_dir = os.path.dirname(repo_dir)\n",
    "print(repo_dir)\n",
    "assert dimension in [1,2]\n",
    "if dimension == 1:\n",
    "    result_dir = repo_dir + \"/results/fenics/test_1D/testcase\"+str(testcase)+\"/version\"+str(version)\n",
    "    if testcase == 1:\n",
    "        if version == 1:\n",
    "            from testcases.networks.test_1D.test_1.test_1_v1 import Run_laplacian1D,Poisson_1D\n",
    "        elif version == 2:\n",
    "            from testcases.networks.test_1D.test_1.test_1_v2 import Run_laplacian1D,Poisson_1D\n",
    "        else:\n",
    "            raise ValueError(\"Version not found\")\n",
    "        from testcases.problem.problem_1D import TestCase1\n",
    "        problem = TestCase1(version=version)\n",
    "    elif testcase == 2:\n",
    "        if version == 1:\n",
    "            from testcases.networks.test_1D.test_2.test_2_v1 import Run_laplacian1D,Poisson_1D\n",
    "        elif version == 2:\n",
    "            from testcases.networks.test_1D.test_2.test_2_v2 import Run_laplacian1D,Poisson_1D\n",
    "        else:\n",
    "            raise ValueError(\"Version not found\")\n",
    "        from testcases.problem.problem_1D import TestCase2\n",
    "        problem = TestCase2(version=version)\n",
    "elif dimension == 2:\n",
    "    result_dir = repo_dir + \"/results/fenics/test_2D/testcase\"+str(testcase)+\"/version\"+str(version)\n",
    "    if testcase == 1:\n",
    "        if version == 1:\n",
    "            from testcases.networks.test_2D.test_1.test_1_v1 import Run_laplacian2D,Poisson_2D\n",
    "        elif version == 2:\n",
    "            from testcases.networks.test_2D.test_1.test_1_v2 import Run_laplacian2D,Poisson_2D\n",
    "        else:\n",
    "            raise ValueError(\"Version not found\")\n",
    "        from testcases.problem.problem_2D import TestCase1\n",
    "        problem = TestCase1(version=version)\n",
    "    elif testcase == 2:\n",
    "        from testcases.networks.test_2D.test_2.test_2_v1 import Run_laplacian2D,Poisson_2D\n",
    "        from testcases.problem.problem_2D import TestCase2\n",
    "        problem = TestCase2(version=version)\n",
    "    elif testcase == 3:\n",
    "        if version != \"new\":\n",
    "            from testcases.networks.test_2D.test_3.test_3_v1 import Run_laplacian2D,Poisson_2D\n",
    "        else:\n",
    "            from testcases.networks.test_2D.test_3.test_3_v2 import Run_laplacian2D,Poisson_2D\n",
    "        from testcases.problem.problem_2D import TestCase3\n",
    "        problem = TestCase3(version=version)\n",
    "        result_dir = repo_dir + \"/results/fenics/test_2D/testcase\"+str(testcase)+\"/\"+version\n",
    "        if version == \"medium\" and largenet:\n",
    "            result_dir += \"_largenet\"\n",
    "    elif testcase == 4:\n",
    "        from testcases.networks.test_2D.test_4.test_4_v1 import Run_laplacian2D,Poisson_2D\n",
    "        from testcases.problem.problem_2D import TestCase4\n",
    "        problem = TestCase4(v=version)\n",
    "\n",
    "result_dir += \"/cvg/\"\n",
    "create_tree(result_dir)"
   ]
  }
 ],
 "metadata": {
  "kernelspec": {
   "display_name": "fenics_scimba_modules",
   "language": "python",
   "name": "python3"
  },
  "language_info": {
   "codemirror_mode": {
    "name": "ipython",
    "version": 3
   },
   "file_extension": ".py",
   "mimetype": "text/x-python",
   "name": "python",
   "nbconvert_exporter": "python",
   "pygments_lexer": "ipython3",
   "version": "3.9.16"
  }
 },
 "nbformat": 4,
 "nbformat_minor": 2
}
