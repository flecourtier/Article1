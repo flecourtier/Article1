{
 "cells": [
  {
   "cell_type": "markdown",
   "metadata": {},
   "source": [
    "# Time / precision 3D"
   ]
  },
  {
   "cell_type": "code",
   "execution_count": 1,
   "metadata": {},
   "outputs": [],
   "source": [
    "# sélection du cas test\n",
    "testcase = 1\n",
    "version = 1\n",
    "param_num = 1"
   ]
  },
  {
   "cell_type": "markdown",
   "metadata": {},
   "source": [
    "**Idée :** On se place ici dans le TestCase1 3D.\n",
    "\n",
    "On cherche à obtenir le temps et l'erreur de FEM pour différents $N$."
   ]
  },
  {
   "cell_type": "markdown",
   "metadata": {},
   "source": [
    "## Imports + Load"
   ]
  },
  {
   "cell_type": "code",
   "execution_count": 2,
   "metadata": {},
   "outputs": [],
   "source": [
    "%load_ext autoreload\n",
    "%autoreload 2"
   ]
  },
  {
   "cell_type": "code",
   "execution_count": 3,
   "metadata": {},
   "outputs": [
    {
     "name": "stderr",
     "output_type": "stream",
     "text": [
      "hwloc/linux: Ignoring PCI device with non-16bit domain.\n",
      "Pass --enable-32bits-pci-domain to configure to support such devices\n",
      "(warning: it would break the library ABI, don't enable unless really needed).\n"
     ]
    },
    {
     "data": {
      "text/plain": [
       "<Figure size 640x480 with 0 Axes>"
      ]
     },
     "metadata": {},
     "output_type": "display_data"
    }
   ],
   "source": [
    "import numpy as np\n",
    "import matplotlib.pyplot as plt\n",
    "import torch\n",
    "import pandas as pd\n",
    "import os\n",
    "import dolfin as df\n",
    "import time\n",
    "import seaborn as sns\n",
    "sns.set_theme(style=\"whitegrid\")\n",
    "sns.despine(left=True)\n",
    "import dataframe_image as dfi\n",
    "\n",
    "from modfenics.solver_fem.solver_fem_1_3D import FEMSolver\n",
    "from testcases.utils import create_tree"
   ]
  },
  {
   "cell_type": "code",
   "execution_count": 4,
   "metadata": {},
   "outputs": [],
   "source": [
    "if testcase == 1:\n",
    "    from testcases.problem.problem_3D import TestCase1_3D\n",
    "    problem = TestCase1_3D()\n",
    "else:\n",
    "    raise ValueError(\"Testcase not found\")\n",
    "\n",
    "result_dir = \"../../results/fenics/test_3D/testcase\"+str(testcase)\n",
    "if version != 1:\n",
    "    result_dir += \"_v\"+str(version)\n",
    "result_dir += \"/time_precision/\"\n",
    "create_tree(result_dir)"
   ]
  },
  {
   "cell_type": "code",
   "execution_count": 5,
   "metadata": {},
   "outputs": [
    {
     "name": "stdout",
     "output_type": "stream",
     "text": [
      "[0.05 0.22 0.1 ]\n"
     ]
    }
   ],
   "source": [
    "def get_param(i):\n",
    "    params = problem.parameter_domain\n",
    "    # params = trainer.pde.parameter_domain.cpu().numpy()\n",
    "    # pick 1 random parameter\n",
    "    np.random.seed(0)\n",
    "    for j in range(i):\n",
    "        param = [np.random.uniform(params[0][0], params[0][1]), np.random.uniform(params[1][0], params[1][1]), np.random.uniform(params[2][0], params[2][1])]\n",
    "    param = np.round(param, 2)\n",
    "    return param\n",
    "\n",
    "param = get_param(param_num)\n",
    "print(param)\n",
    "params = [param]"
   ]
  },
  {
   "cell_type": "markdown",
   "metadata": {},
   "source": [
    "## Convergence FEM"
   ]
  },
  {
   "cell_type": "code",
   "execution_count": 6,
   "metadata": {},
   "outputs": [],
   "source": [
    "# import vedo\n",
    "# vedo.settings.default_backend= 'vtk'\n",
    "# vedo.Cone().show(axes=1).close()"
   ]
  },
  {
   "cell_type": "code",
   "execution_count": 12,
   "metadata": {},
   "outputs": [],
   "source": [
    "def read_csv(testcase,param_num,degree):\n",
    "    df_FEM = pd.read_csv(result_dir+f'FEM_case{testcase}_param{param_num}_degree{degree}.csv')\n",
    "    tab_nb_vert_FEM = list(df_FEM['nb_vert'].values)\n",
    "    tab_h_FEM = list(df_FEM['h'].values)\n",
    "    tab_err_FEM = list(df_FEM['err'].values)\n",
    "    tab_times_FEM = list(df_FEM['times'].values)\n",
    "    tab_subtimes_FEM = {}\n",
    "    for key in df_FEM.keys():\n",
    "        if key not in ['nb_vert', 'h', 'err', 'times']:\n",
    "            tab_subtimes_FEM[key] = list(df_FEM[key].values)\n",
    "    \n",
    "    return df_FEM, tab_nb_vert_FEM, tab_h_FEM, tab_err_FEM, tab_times_FEM, tab_subtimes_FEM\n",
    "\n",
    "def run_FEM(degree,new_run=False):\n",
    "    csv_file = result_dir+f'FEM_case{testcase}_param{param_num}_degree{degree}.csv'\n",
    "    if not new_run and os.path.exists(csv_file):\n",
    "        df_FEM, tab_nb_vert_FEM, tab_h_FEM, tab_err_FEM, tab_times_FEM, tab_subtimes_FEM = read_csv(testcase,param_num,degree)\n",
    "        print(f\"Read csv file {csv_file}\")\n",
    "    else:\n",
    "        tab_nb_vert_FEM = [20,40,80,90,100]\n",
    "        tab_h_FEM = []\n",
    "        tab_err_FEM = []\n",
    "        tab_times_FEM = []\n",
    "        tab_subtimes_FEM = {}\n",
    "\n",
    "        iter_solver = False\n",
    "        for nb_vert in tab_nb_vert_FEM:\n",
    "            if nb_vert>=50:\n",
    "                iter_solver=True\n",
    "                \n",
    "            solver = FEMSolver(nb_cell=nb_vert-1, params=params, problem=problem, degree=degree, high_degree=3)\n",
    "            \n",
    "            tab_h_FEM.append(solver.h)\n",
    "            _,norme_L2 = solver.fem(0,iter_solver=iter_solver)\n",
    "            print(f\"nb_vert={nb_vert}, norme_L2={norme_L2}\")\n",
    "            \n",
    "            # from vedo.dolfin import plot as vplot\n",
    "            # vplot(sol, cmap='viridis', add=True, wireframe=True)\n",
    "            \n",
    "            tab_err_FEM.append(norme_L2)\n",
    "            times_FEM = solver.times_fem\n",
    "            for key in times_FEM:\n",
    "                if key in tab_subtimes_FEM:\n",
    "                    tab_subtimes_FEM[key].append(times_FEM[key])\n",
    "                else:\n",
    "                    tab_subtimes_FEM[key] = [times_FEM[key]]\n",
    "            total = sum(times_FEM.values())\n",
    "            print(f\"total time: {total}\")\n",
    "            tab_times_FEM.append(total)\n",
    "        \n",
    "        df_FEM = pd.DataFrame({'nb_vert': tab_nb_vert_FEM, 'h': tab_h_FEM, 'err': tab_err_FEM, 'times': tab_times_FEM, **tab_subtimes_FEM})\n",
    "        df_FEM.to_csv(csv_file, index=False)\n",
    "            \n",
    "    return df_FEM, tab_nb_vert_FEM, tab_h_FEM, tab_err_FEM, tab_times_FEM, tab_subtimes_FEM"
   ]
  },
  {
   "cell_type": "code",
   "execution_count": 13,
   "metadata": {},
   "outputs": [
    {
     "ename": "TypeError",
     "evalue": "subplot() takes 1 or 3 positional arguments but 2 were given",
     "output_type": "error",
     "traceback": [
      "\u001b[0;31m---------------------------------------------------------------------------\u001b[0m",
      "\u001b[0;31mTypeError\u001b[0m                                 Traceback (most recent call last)",
      "Cell \u001b[0;32mIn[13], line 2\u001b[0m\n\u001b[1;32m      1\u001b[0m degree \u001b[38;5;241m=\u001b[39m \u001b[38;5;241m1\u001b[39m\n\u001b[0;32m----> 2\u001b[0m df_FEM, tab_nb_vert_FEM, tab_h_FEM, tab_err_FEM, tab_times_FEM, tab_subtimes_FEM \u001b[38;5;241m=\u001b[39m \u001b[43mrun_FEM\u001b[49m\u001b[43m(\u001b[49m\u001b[43mdegree\u001b[49m\u001b[43m,\u001b[49m\u001b[43mnew_run\u001b[49m\u001b[38;5;241;43m=\u001b[39;49m\u001b[38;5;28;43;01mTrue\u001b[39;49;00m\u001b[43m)\u001b[49m\n",
      "Cell \u001b[0;32mIn[12], line 31\u001b[0m, in \u001b[0;36mrun_FEM\u001b[0;34m(degree, new_run)\u001b[0m\n\u001b[1;32m     28\u001b[0m \u001b[38;5;28;01mif\u001b[39;00m nb_vert\u001b[38;5;241m>\u001b[39m\u001b[38;5;241m=\u001b[39m\u001b[38;5;241m50\u001b[39m:\n\u001b[1;32m     29\u001b[0m     iter_solver\u001b[38;5;241m=\u001b[39m\u001b[38;5;28;01mTrue\u001b[39;00m\n\u001b[0;32m---> 31\u001b[0m solver \u001b[38;5;241m=\u001b[39m \u001b[43mFEMSolver\u001b[49m\u001b[43m(\u001b[49m\u001b[43mnb_cell\u001b[49m\u001b[38;5;241;43m=\u001b[39;49m\u001b[43mnb_vert\u001b[49m\u001b[38;5;241;43m-\u001b[39;49m\u001b[38;5;241;43m1\u001b[39;49m\u001b[43m,\u001b[49m\u001b[43m \u001b[49m\u001b[43mparams\u001b[49m\u001b[38;5;241;43m=\u001b[39;49m\u001b[43mparams\u001b[49m\u001b[43m,\u001b[49m\u001b[43m \u001b[49m\u001b[43mproblem\u001b[49m\u001b[38;5;241;43m=\u001b[39;49m\u001b[43mproblem\u001b[49m\u001b[43m,\u001b[49m\u001b[43m \u001b[49m\u001b[43mdegree\u001b[49m\u001b[38;5;241;43m=\u001b[39;49m\u001b[43mdegree\u001b[49m\u001b[43m,\u001b[49m\u001b[43m \u001b[49m\u001b[43mhigh_degree\u001b[49m\u001b[38;5;241;43m=\u001b[39;49m\u001b[38;5;241;43m3\u001b[39;49m\u001b[43m)\u001b[49m\n\u001b[1;32m     33\u001b[0m tab_h_FEM\u001b[38;5;241m.\u001b[39mappend(solver\u001b[38;5;241m.\u001b[39mh)\n\u001b[1;32m     34\u001b[0m _,norme_L2 \u001b[38;5;241m=\u001b[39m solver\u001b[38;5;241m.\u001b[39mfem(\u001b[38;5;241m0\u001b[39m,iter_solver\u001b[38;5;241m=\u001b[39miter_solver)\n",
      "File \u001b[0;32m~/Bureau/Article1/code/src/modules/solver_fem_1_3D.py:46\u001b[0m, in \u001b[0;36mFEMSolver.__init__\u001b[0;34m(self, nb_cell, params, problem, degree, high_degree)\u001b[0m\n\u001b[1;32m     44\u001b[0m \u001b[38;5;28mself\u001b[39m\u001b[38;5;241m.\u001b[39mtimes_fem \u001b[38;5;241m=\u001b[39m {}\n\u001b[1;32m     45\u001b[0m \u001b[38;5;28mself\u001b[39m\u001b[38;5;241m.\u001b[39mtimes_corr_add \u001b[38;5;241m=\u001b[39m {}\n\u001b[0;32m---> 46\u001b[0m \u001b[38;5;28mself\u001b[39m\u001b[38;5;241m.\u001b[39mmesh,\u001b[38;5;28mself\u001b[39m\u001b[38;5;241m.\u001b[39mV,\u001b[38;5;28mself\u001b[39m\u001b[38;5;241m.\u001b[39mdx \u001b[38;5;241m=\u001b[39m \u001b[38;5;28;43mself\u001b[39;49m\u001b[38;5;241;43m.\u001b[39;49m\u001b[43m__create_FEM_domain\u001b[49m\u001b[43m(\u001b[49m\u001b[43m)\u001b[49m\n\u001b[1;32m     48\u001b[0m \u001b[38;5;28mself\u001b[39m\u001b[38;5;241m.\u001b[39mV_ex \u001b[38;5;241m=\u001b[39m FunctionSpace(\u001b[38;5;28mself\u001b[39m\u001b[38;5;241m.\u001b[39mmesh, \u001b[38;5;124m\"\u001b[39m\u001b[38;5;124mCG\u001b[39m\u001b[38;5;124m\"\u001b[39m, \u001b[38;5;28mself\u001b[39m\u001b[38;5;241m.\u001b[39mhigh_degree)\n",
      "File \u001b[0;32m~/Bureau/Article1/code/src/modules/solver_fem_1_3D.py:63\u001b[0m, in \u001b[0;36mFEMSolver.__create_FEM_domain\u001b[0;34m(self)\u001b[0m\n\u001b[1;32m     61\u001b[0m \u001b[38;5;28;01mfrom\u001b[39;00m \u001b[38;5;21;01mmpl_toolkits\u001b[39;00m\u001b[38;5;21;01m.\u001b[39;00m\u001b[38;5;21;01mmplot3d\u001b[39;00m \u001b[38;5;28;01mimport\u001b[39;00m axes3d\n\u001b[1;32m     62\u001b[0m fig \u001b[38;5;241m=\u001b[39m plt\u001b[38;5;241m.\u001b[39mfigure()\n\u001b[0;32m---> 63\u001b[0m \u001b[43mplt\u001b[49m\u001b[38;5;241;43m.\u001b[39;49m\u001b[43msubplot\u001b[49m\u001b[43m(\u001b[49m\u001b[38;5;241;43m1\u001b[39;49m\u001b[43m,\u001b[49m\u001b[43m \u001b[49m\u001b[38;5;241;43m1\u001b[39;49m\u001b[43m,\u001b[49m\u001b[43m \u001b[49m\u001b[43msubplot_kw\u001b[49m\u001b[38;5;241;43m=\u001b[39;49m\u001b[43m{\u001b[49m\u001b[38;5;124;43m'\u001b[39;49m\u001b[38;5;124;43mprojection\u001b[39;49m\u001b[38;5;124;43m'\u001b[39;49m\u001b[43m:\u001b[49m\u001b[43m \u001b[49m\u001b[38;5;124;43m'\u001b[39;49m\u001b[38;5;124;43m3d\u001b[39;49m\u001b[38;5;124;43m'\u001b[39;49m\u001b[43m}\u001b[49m\u001b[43m)\u001b[49m\n\u001b[1;32m     64\u001b[0m plt\u001b[38;5;241m.\u001b[39mfigure()\n\u001b[1;32m     65\u001b[0m df\u001b[38;5;241m.\u001b[39mplot(mesh)\n",
      "File \u001b[0;32m~/anaconda3/envs/phifem_scimba_2/lib/python3.9/site-packages/matplotlib/pyplot.py:1425\u001b[0m, in \u001b[0;36msubplot\u001b[0;34m(*args, **kwargs)\u001b[0m\n\u001b[1;32m   1422\u001b[0m fig \u001b[38;5;241m=\u001b[39m gcf()\n\u001b[1;32m   1424\u001b[0m \u001b[38;5;66;03m# First, search for an existing subplot with a matching spec.\u001b[39;00m\n\u001b[0;32m-> 1425\u001b[0m key \u001b[38;5;241m=\u001b[39m \u001b[43mSubplotSpec\u001b[49m\u001b[38;5;241;43m.\u001b[39;49m\u001b[43m_from_subplot_args\u001b[49m\u001b[43m(\u001b[49m\u001b[43mfig\u001b[49m\u001b[43m,\u001b[49m\u001b[43m \u001b[49m\u001b[43margs\u001b[49m\u001b[43m)\u001b[49m\n\u001b[1;32m   1427\u001b[0m \u001b[38;5;28;01mfor\u001b[39;00m ax \u001b[38;5;129;01min\u001b[39;00m fig\u001b[38;5;241m.\u001b[39maxes:\n\u001b[1;32m   1428\u001b[0m     \u001b[38;5;66;03m# If we found an Axes at the position, we can re-use it if the user passed no\u001b[39;00m\n\u001b[1;32m   1429\u001b[0m     \u001b[38;5;66;03m# kwargs or if the axes class and kwargs are identical.\u001b[39;00m\n\u001b[1;32m   1430\u001b[0m     \u001b[38;5;28;01mif\u001b[39;00m (ax\u001b[38;5;241m.\u001b[39mget_subplotspec() \u001b[38;5;241m==\u001b[39m key\n\u001b[1;32m   1431\u001b[0m         \u001b[38;5;129;01mand\u001b[39;00m (kwargs \u001b[38;5;241m==\u001b[39m {}\n\u001b[1;32m   1432\u001b[0m              \u001b[38;5;129;01mor\u001b[39;00m (ax\u001b[38;5;241m.\u001b[39m_projection_init\n\u001b[1;32m   1433\u001b[0m                  \u001b[38;5;241m==\u001b[39m fig\u001b[38;5;241m.\u001b[39m_process_projection_requirements(\u001b[38;5;241m*\u001b[39m\u001b[38;5;241m*\u001b[39mkwargs)))):\n",
      "File \u001b[0;32m~/anaconda3/envs/phifem_scimba_2/lib/python3.9/site-packages/matplotlib/gridspec.py:586\u001b[0m, in \u001b[0;36mSubplotSpec._from_subplot_args\u001b[0;34m(figure, args)\u001b[0m\n\u001b[1;32m    584\u001b[0m     rows, cols, num \u001b[38;5;241m=\u001b[39m args\n\u001b[1;32m    585\u001b[0m \u001b[38;5;28;01melse\u001b[39;00m:\n\u001b[0;32m--> 586\u001b[0m     \u001b[38;5;28;01mraise\u001b[39;00m _api\u001b[38;5;241m.\u001b[39mnargs_error(\u001b[38;5;124m\"\u001b[39m\u001b[38;5;124msubplot\u001b[39m\u001b[38;5;124m\"\u001b[39m, takes\u001b[38;5;241m=\u001b[39m\u001b[38;5;124m\"\u001b[39m\u001b[38;5;124m1 or 3\u001b[39m\u001b[38;5;124m\"\u001b[39m, given\u001b[38;5;241m=\u001b[39m\u001b[38;5;28mlen\u001b[39m(args))\n\u001b[1;32m    588\u001b[0m gs \u001b[38;5;241m=\u001b[39m GridSpec\u001b[38;5;241m.\u001b[39m_check_gridspec_exists(figure, rows, cols)\n\u001b[1;32m    589\u001b[0m \u001b[38;5;28;01mif\u001b[39;00m gs \u001b[38;5;129;01mis\u001b[39;00m \u001b[38;5;28;01mNone\u001b[39;00m:\n",
      "\u001b[0;31mTypeError\u001b[0m: subplot() takes 1 or 3 positional arguments but 2 were given"
     ]
    },
    {
     "data": {
      "text/plain": [
       "<Figure size 640x480 with 0 Axes>"
      ]
     },
     "metadata": {},
     "output_type": "display_data"
    }
   ],
   "source": [
    "degree = 1\n",
    "df_FEM, tab_nb_vert_FEM, tab_h_FEM, tab_err_FEM, tab_times_FEM, tab_subtimes_FEM = run_FEM(degree,new_run=True)"
   ]
  },
  {
   "cell_type": "markdown",
   "metadata": {},
   "source": [
    "## Plots"
   ]
  },
  {
   "cell_type": "code",
   "execution_count": 9,
   "metadata": {},
   "outputs": [
    {
     "name": "stdout",
     "output_type": "stream",
     "text": [
      "subtimes FEM :  {'mesh': [0.0042357444763183, 0.0142135620117187, 0.1246802806854248, 0.1927952766418457, 0.2445631027221679], 'assemble': [50.284212827682495, 442.29187631607056, 3673.089465141296, 5195.495839357376, 7211.197880983353], 'solve': [0.2849161624908447, 4.993787050247192, 4.735661506652832, 6.759082317352295, 9.842759370803831]}\n",
      "times FEM :  [50.57336473464966, 447.2998769283295, 3677.949806928634, 5202.44771695137, 7221.285203456879]\n"
     ]
    }
   ],
   "source": [
    "print(\"subtimes FEM : \", tab_subtimes_FEM)\n",
    "print(\"times FEM : \", tab_times_FEM)"
   ]
  },
  {
   "cell_type": "code",
   "execution_count": 10,
   "metadata": {},
   "outputs": [
    {
     "data": {
      "image/png": "[encoded data removed]",
      "text/plain": [
       "<Figure size 640x480 with 1 Axes>"
      ]
     },
     "metadata": {},
     "output_type": "display_data"
    }
   ],
   "source": [
    "colors = [\"tab:blue\",\"tab:red\",\"tab:cyan\",\"tab:orange\"]\n",
    "\n",
    "plt.figure()\n",
    "\n",
    "def plot_values(times,norms,color,label):\n",
    "    plt.loglog(times,norms,\"+-\",color=color,label=label,markersize=10,markeredgewidth=2)\n",
    "\n",
    "plot_values(tab_times_FEM,tab_err_FEM,colors[0],\"FEM\")\n",
    "\n",
    "plt.xlabel(\"Time\")\n",
    "plt.ylabel(\"L2 norm\")\n",
    "\n",
    "plt.legend()\n",
    "plt.title(f'case{testcase} param{param_num} : {param}')\n",
    "plt.savefig(result_dir+f\"time_precision_param{param_num}_degree{degree}.png\")"
   ]
  },
  {
   "cell_type": "code",
   "execution_count": 11,
   "metadata": {},
   "outputs": [],
   "source": [
    "tab_times_FEM_ = np.round(tab_times_FEM, 0)\n",
    "tab_times_FEM_ = tab_times_FEM_.astype(int)\n",
    "\n",
    "# create string with ..h..min..s (if needed)\n",
    "\n",
    "tab_times_FEM_str = []\n",
    "for time in tab_times_FEM_:\n",
    "    time_str = \"\"\n",
    "    if time >= 3600:\n",
    "        time_str += str(time//3600) + \"h\"\n",
    "        time = time % 3600\n",
    "    if time >= 60:\n",
    "        time_str += str(time//60) + \"min\"\n",
    "        time = time % 60\n",
    "    if time > 0:\n",
    "        time_str += str(time) + \"s\"\n",
    "    tab_times_FEM_str.append(time_str)"
   ]
  },
  {
   "cell_type": "code",
   "execution_count": 12,
   "metadata": {},
   "outputs": [
    {
     "data": {
      "text/html": [
       "<div>\n",
       "<style scoped>\n",
       "    .dataframe tbody tr th:only-of-type {\n",
       "        vertical-align: middle;\n",
       "    }\n",
       "\n",
       "    .dataframe tbody tr th {\n",
       "        vertical-align: top;\n",
       "    }\n",
       "\n",
       "    .dataframe thead th {\n",
       "        text-align: right;\n",
       "    }\n",
       "</style>\n",
       "<table border=\"1\" class=\"dataframe\">\n",
       "  <thead>\n",
       "    <tr style=\"text-align: right;\">\n",
       "      <th></th>\n",
       "      <th>err</th>\n",
       "      <th>CPU times</th>\n",
       "    </tr>\n",
       "  </thead>\n",
       "  <tbody>\n",
       "    <tr>\n",
       "      <th>20</th>\n",
       "      <td>0.0610268155205595</td>\n",
       "      <td>51s</td>\n",
       "    </tr>\n",
       "    <tr>\n",
       "      <th>40</th>\n",
       "      <td>0.0150110961335434</td>\n",
       "      <td>7min27s</td>\n",
       "    </tr>\n",
       "    <tr>\n",
       "      <th>80</th>\n",
       "      <td>0.0036898010457549</td>\n",
       "      <td>1h1min18s</td>\n",
       "    </tr>\n",
       "    <tr>\n",
       "      <th>90</th>\n",
       "      <td>0.0029089212852329</td>\n",
       "      <td>1h26min42s</td>\n",
       "    </tr>\n",
       "    <tr>\n",
       "      <th>100</th>\n",
       "      <td>0.0023519239014755</td>\n",
       "      <td>2h21s</td>\n",
       "    </tr>\n",
       "  </tbody>\n",
       "</table>\n",
       "</div>"
      ],
      "text/plain": [
       "                    err   CPU times\n",
       "20   0.0610268155205595         51s\n",
       "40   0.0150110961335434     7min27s\n",
       "80   0.0036898010457549   1h1min18s\n",
       "90   0.0029089212852329  1h26min42s\n",
       "100  0.0023519239014755       2h21s"
      ]
     },
     "execution_count": 12,
     "metadata": {},
     "output_type": "execute_result"
    }
   ],
   "source": [
    "df_time_pres = pd.DataFrame(np.array([tab_err_FEM,tab_times_FEM_str]).T,columns=[\"err\",\"CPU times\"],index=tab_nb_vert_FEM)\n",
    "df_time_pres"
   ]
  },
  {
   "cell_type": "code",
   "execution_count": null,
   "metadata": {},
   "outputs": [],
   "source": []
  }
 ],
 "metadata": {
  "kernelspec": {
   "display_name": "phifem_scimba_2",
   "language": "python",
   "name": "python3"
  },
  "language_info": {
   "codemirror_mode": {
    "name": "ipython",
    "version": 3
   },
   "file_extension": ".py",
   "mimetype": "text/x-python",
   "name": "python",
   "nbconvert_exporter": "python",
   "pygments_lexer": "ipython3",
   "version": "3.9.16"
  }
 },
 "nbformat": 4,
 "nbformat_minor": 2
}
